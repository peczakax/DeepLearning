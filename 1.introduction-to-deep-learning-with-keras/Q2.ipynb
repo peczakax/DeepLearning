{
 "cells": [
  {
   "cell_type": "code",
   "execution_count": 1,
   "metadata": {},
   "outputs": [
    {
     "name": "stdout",
     "output_type": "stream",
     "text": [
      "Requirement already satisfied: numpy==1.24.3 in c:\\users\\admin\\development\\ibm deep learning with pytorch, keras and tensorflow\\introduction-to-deep-learning-with-keras\\.conda\\lib\\site-packages (1.24.3)\n",
      "Note: you may need to restart the kernel to use updated packages.\n",
      "Requirement already satisfied: pandas==1.3.4 in c:\\users\\admin\\development\\ibm deep learning with pytorch, keras and tensorflow\\introduction-to-deep-learning-with-keras\\.conda\\lib\\site-packages (1.3.4)\n",
      "Requirement already satisfied: python-dateutil>=2.7.3 in c:\\users\\admin\\development\\ibm deep learning with pytorch, keras and tensorflow\\introduction-to-deep-learning-with-keras\\.conda\\lib\\site-packages (from pandas==1.3.4) (2.9.0.post0)\n",
      "Requirement already satisfied: pytz>=2017.3 in c:\\users\\admin\\development\\ibm deep learning with pytorch, keras and tensorflow\\introduction-to-deep-learning-with-keras\\.conda\\lib\\site-packages (from pandas==1.3.4) (2024.2)\n",
      "Requirement already satisfied: numpy>=1.17.3 in c:\\users\\admin\\development\\ibm deep learning with pytorch, keras and tensorflow\\introduction-to-deep-learning-with-keras\\.conda\\lib\\site-packages (from pandas==1.3.4) (1.24.3)\n",
      "Requirement already satisfied: six>=1.5 in c:\\users\\admin\\development\\ibm deep learning with pytorch, keras and tensorflow\\introduction-to-deep-learning-with-keras\\.conda\\lib\\site-packages (from python-dateutil>=2.7.3->pandas==1.3.4) (1.16.0)\n",
      "Note: you may need to restart the kernel to use updated packages.\n",
      "Requirement already satisfied: scikit-learn==0.23 in c:\\users\\admin\\development\\ibm deep learning with pytorch, keras and tensorflow\\introduction-to-deep-learning-with-keras\\.conda\\lib\\site-packages (0.23.0)\n",
      "Requirement already satisfied: numpy>=1.13.3 in c:\\users\\admin\\development\\ibm deep learning with pytorch, keras and tensorflow\\introduction-to-deep-learning-with-keras\\.conda\\lib\\site-packages (from scikit-learn==0.23) (1.24.3)\n",
      "Requirement already satisfied: scipy>=0.19.1 in c:\\users\\admin\\development\\ibm deep learning with pytorch, keras and tensorflow\\introduction-to-deep-learning-with-keras\\.conda\\lib\\site-packages (from scikit-learn==0.23) (1.10.1)\n",
      "Requirement already satisfied: joblib>=0.11 in c:\\users\\admin\\development\\ibm deep learning with pytorch, keras and tensorflow\\introduction-to-deep-learning-with-keras\\.conda\\lib\\site-packages (from scikit-learn==0.23) (1.4.2)\n",
      "Requirement already satisfied: threadpoolctl>=2.0.0 in c:\\users\\admin\\development\\ibm deep learning with pytorch, keras and tensorflow\\introduction-to-deep-learning-with-keras\\.conda\\lib\\site-packages (from scikit-learn==0.23) (3.5.0)\n",
      "Note: you may need to restart the kernel to use updated packages.\n",
      "Requirement already satisfied: tensorflow==2.13.0 in c:\\users\\admin\\development\\ibm deep learning with pytorch, keras and tensorflow\\introduction-to-deep-learning-with-keras\\.conda\\lib\\site-packages (2.13.0)\n",
      "Requirement already satisfied: tensorflow-intel==2.13.0 in c:\\users\\admin\\development\\ibm deep learning with pytorch, keras and tensorflow\\introduction-to-deep-learning-with-keras\\.conda\\lib\\site-packages (from tensorflow==2.13.0) (2.13.0)\n",
      "Requirement already satisfied: absl-py>=1.0.0 in c:\\users\\admin\\development\\ibm deep learning with pytorch, keras and tensorflow\\introduction-to-deep-learning-with-keras\\.conda\\lib\\site-packages (from tensorflow-intel==2.13.0->tensorflow==2.13.0) (2.1.0)\n",
      "Requirement already satisfied: astunparse>=1.6.0 in c:\\users\\admin\\development\\ibm deep learning with pytorch, keras and tensorflow\\introduction-to-deep-learning-with-keras\\.conda\\lib\\site-packages (from tensorflow-intel==2.13.0->tensorflow==2.13.0) (1.6.3)\n",
      "Requirement already satisfied: flatbuffers>=23.1.21 in c:\\users\\admin\\development\\ibm deep learning with pytorch, keras and tensorflow\\introduction-to-deep-learning-with-keras\\.conda\\lib\\site-packages (from tensorflow-intel==2.13.0->tensorflow==2.13.0) (24.3.25)\n",
      "Requirement already satisfied: gast<=0.4.0,>=0.2.1 in c:\\users\\admin\\development\\ibm deep learning with pytorch, keras and tensorflow\\introduction-to-deep-learning-with-keras\\.conda\\lib\\site-packages (from tensorflow-intel==2.13.0->tensorflow==2.13.0) (0.4.0)\n",
      "Requirement already satisfied: google-pasta>=0.1.1 in c:\\users\\admin\\development\\ibm deep learning with pytorch, keras and tensorflow\\introduction-to-deep-learning-with-keras\\.conda\\lib\\site-packages (from tensorflow-intel==2.13.0->tensorflow==2.13.0) (0.2.0)\n",
      "Requirement already satisfied: h5py>=2.9.0 in c:\\users\\admin\\development\\ibm deep learning with pytorch, keras and tensorflow\\introduction-to-deep-learning-with-keras\\.conda\\lib\\site-packages (from tensorflow-intel==2.13.0->tensorflow==2.13.0) (3.11.0)\n",
      "Requirement already satisfied: libclang>=13.0.0 in c:\\users\\admin\\development\\ibm deep learning with pytorch, keras and tensorflow\\introduction-to-deep-learning-with-keras\\.conda\\lib\\site-packages (from tensorflow-intel==2.13.0->tensorflow==2.13.0) (18.1.1)\n",
      "Requirement already satisfied: numpy<=1.24.3,>=1.22 in c:\\users\\admin\\development\\ibm deep learning with pytorch, keras and tensorflow\\introduction-to-deep-learning-with-keras\\.conda\\lib\\site-packages (from tensorflow-intel==2.13.0->tensorflow==2.13.0) (1.24.3)\n",
      "Requirement already satisfied: opt-einsum>=2.3.2 in c:\\users\\admin\\development\\ibm deep learning with pytorch, keras and tensorflow\\introduction-to-deep-learning-with-keras\\.conda\\lib\\site-packages (from tensorflow-intel==2.13.0->tensorflow==2.13.0) (3.4.0)\n",
      "Requirement already satisfied: packaging in c:\\users\\admin\\development\\ibm deep learning with pytorch, keras and tensorflow\\introduction-to-deep-learning-with-keras\\.conda\\lib\\site-packages (from tensorflow-intel==2.13.0->tensorflow==2.13.0) (24.1)\n",
      "Requirement already satisfied: protobuf!=4.21.0,!=4.21.1,!=4.21.2,!=4.21.3,!=4.21.4,!=4.21.5,<5.0.0dev,>=3.20.3 in c:\\users\\admin\\development\\ibm deep learning with pytorch, keras and tensorflow\\introduction-to-deep-learning-with-keras\\.conda\\lib\\site-packages (from tensorflow-intel==2.13.0->tensorflow==2.13.0) (4.25.5)\n",
      "Requirement already satisfied: setuptools in c:\\users\\admin\\development\\ibm deep learning with pytorch, keras and tensorflow\\introduction-to-deep-learning-with-keras\\.conda\\lib\\site-packages (from tensorflow-intel==2.13.0->tensorflow==2.13.0) (75.1.0)\n",
      "Requirement already satisfied: six>=1.12.0 in c:\\users\\admin\\development\\ibm deep learning with pytorch, keras and tensorflow\\introduction-to-deep-learning-with-keras\\.conda\\lib\\site-packages (from tensorflow-intel==2.13.0->tensorflow==2.13.0) (1.16.0)\n",
      "Requirement already satisfied: termcolor>=1.1.0 in c:\\users\\admin\\development\\ibm deep learning with pytorch, keras and tensorflow\\introduction-to-deep-learning-with-keras\\.conda\\lib\\site-packages (from tensorflow-intel==2.13.0->tensorflow==2.13.0) (2.4.0)\n",
      "Requirement already satisfied: typing-extensions<4.6.0,>=3.6.6 in c:\\users\\admin\\development\\ibm deep learning with pytorch, keras and tensorflow\\introduction-to-deep-learning-with-keras\\.conda\\lib\\site-packages (from tensorflow-intel==2.13.0->tensorflow==2.13.0) (4.5.0)\n",
      "Requirement already satisfied: wrapt>=1.11.0 in c:\\users\\admin\\development\\ibm deep learning with pytorch, keras and tensorflow\\introduction-to-deep-learning-with-keras\\.conda\\lib\\site-packages (from tensorflow-intel==2.13.0->tensorflow==2.13.0) (1.17.0)\n",
      "Requirement already satisfied: grpcio<2.0,>=1.24.3 in c:\\users\\admin\\development\\ibm deep learning with pytorch, keras and tensorflow\\introduction-to-deep-learning-with-keras\\.conda\\lib\\site-packages (from tensorflow-intel==2.13.0->tensorflow==2.13.0) (1.68.0)\n",
      "Requirement already satisfied: tensorboard<2.14,>=2.13 in c:\\users\\admin\\development\\ibm deep learning with pytorch, keras and tensorflow\\introduction-to-deep-learning-with-keras\\.conda\\lib\\site-packages (from tensorflow-intel==2.13.0->tensorflow==2.13.0) (2.13.0)\n",
      "Requirement already satisfied: tensorflow-estimator<2.14,>=2.13.0 in c:\\users\\admin\\development\\ibm deep learning with pytorch, keras and tensorflow\\introduction-to-deep-learning-with-keras\\.conda\\lib\\site-packages (from tensorflow-intel==2.13.0->tensorflow==2.13.0) (2.13.0)\n",
      "Requirement already satisfied: keras<2.14,>=2.13.1 in c:\\users\\admin\\development\\ibm deep learning with pytorch, keras and tensorflow\\introduction-to-deep-learning-with-keras\\.conda\\lib\\site-packages (from tensorflow-intel==2.13.0->tensorflow==2.13.0) (2.13.1)\n",
      "Requirement already satisfied: tensorflow-io-gcs-filesystem>=0.23.1 in c:\\users\\admin\\development\\ibm deep learning with pytorch, keras and tensorflow\\introduction-to-deep-learning-with-keras\\.conda\\lib\\site-packages (from tensorflow-intel==2.13.0->tensorflow==2.13.0) (0.31.0)\n",
      "Requirement already satisfied: wheel<1.0,>=0.23.0 in c:\\users\\admin\\development\\ibm deep learning with pytorch, keras and tensorflow\\introduction-to-deep-learning-with-keras\\.conda\\lib\\site-packages (from astunparse>=1.6.0->tensorflow-intel==2.13.0->tensorflow==2.13.0) (0.44.0)\n",
      "Requirement already satisfied: google-auth<3,>=1.6.3 in c:\\users\\admin\\development\\ibm deep learning with pytorch, keras and tensorflow\\introduction-to-deep-learning-with-keras\\.conda\\lib\\site-packages (from tensorboard<2.14,>=2.13->tensorflow-intel==2.13.0->tensorflow==2.13.0) (2.36.0)\n",
      "Requirement already satisfied: google-auth-oauthlib<1.1,>=0.5 in c:\\users\\admin\\development\\ibm deep learning with pytorch, keras and tensorflow\\introduction-to-deep-learning-with-keras\\.conda\\lib\\site-packages (from tensorboard<2.14,>=2.13->tensorflow-intel==2.13.0->tensorflow==2.13.0) (1.0.0)\n",
      "Requirement already satisfied: markdown>=2.6.8 in c:\\users\\admin\\development\\ibm deep learning with pytorch, keras and tensorflow\\introduction-to-deep-learning-with-keras\\.conda\\lib\\site-packages (from tensorboard<2.14,>=2.13->tensorflow-intel==2.13.0->tensorflow==2.13.0) (3.7)\n",
      "Requirement already satisfied: requests<3,>=2.21.0 in c:\\users\\admin\\development\\ibm deep learning with pytorch, keras and tensorflow\\introduction-to-deep-learning-with-keras\\.conda\\lib\\site-packages (from tensorboard<2.14,>=2.13->tensorflow-intel==2.13.0->tensorflow==2.13.0) (2.32.3)\n",
      "Requirement already satisfied: tensorboard-data-server<0.8.0,>=0.7.0 in c:\\users\\admin\\development\\ibm deep learning with pytorch, keras and tensorflow\\introduction-to-deep-learning-with-keras\\.conda\\lib\\site-packages (from tensorboard<2.14,>=2.13->tensorflow-intel==2.13.0->tensorflow==2.13.0) (0.7.2)\n",
      "Requirement already satisfied: werkzeug>=1.0.1 in c:\\users\\admin\\development\\ibm deep learning with pytorch, keras and tensorflow\\introduction-to-deep-learning-with-keras\\.conda\\lib\\site-packages (from tensorboard<2.14,>=2.13->tensorflow-intel==2.13.0->tensorflow==2.13.0) (3.0.6)\n",
      "Requirement already satisfied: cachetools<6.0,>=2.0.0 in c:\\users\\admin\\development\\ibm deep learning with pytorch, keras and tensorflow\\introduction-to-deep-learning-with-keras\\.conda\\lib\\site-packages (from google-auth<3,>=1.6.3->tensorboard<2.14,>=2.13->tensorflow-intel==2.13.0->tensorflow==2.13.0) (5.5.0)\n",
      "Requirement already satisfied: pyasn1-modules>=0.2.1 in c:\\users\\admin\\development\\ibm deep learning with pytorch, keras and tensorflow\\introduction-to-deep-learning-with-keras\\.conda\\lib\\site-packages (from google-auth<3,>=1.6.3->tensorboard<2.14,>=2.13->tensorflow-intel==2.13.0->tensorflow==2.13.0) (0.4.1)\n",
      "Requirement already satisfied: rsa<5,>=3.1.4 in c:\\users\\admin\\development\\ibm deep learning with pytorch, keras and tensorflow\\introduction-to-deep-learning-with-keras\\.conda\\lib\\site-packages (from google-auth<3,>=1.6.3->tensorboard<2.14,>=2.13->tensorflow-intel==2.13.0->tensorflow==2.13.0) (4.9)\n",
      "Requirement already satisfied: requests-oauthlib>=0.7.0 in c:\\users\\admin\\development\\ibm deep learning with pytorch, keras and tensorflow\\introduction-to-deep-learning-with-keras\\.conda\\lib\\site-packages (from google-auth-oauthlib<1.1,>=0.5->tensorboard<2.14,>=2.13->tensorflow-intel==2.13.0->tensorflow==2.13.0) (2.0.0)\n",
      "Requirement already satisfied: importlib-metadata>=4.4 in c:\\users\\admin\\development\\ibm deep learning with pytorch, keras and tensorflow\\introduction-to-deep-learning-with-keras\\.conda\\lib\\site-packages (from markdown>=2.6.8->tensorboard<2.14,>=2.13->tensorflow-intel==2.13.0->tensorflow==2.13.0) (7.0.1)\n",
      "Requirement already satisfied: charset-normalizer<4,>=2 in c:\\users\\admin\\development\\ibm deep learning with pytorch, keras and tensorflow\\introduction-to-deep-learning-with-keras\\.conda\\lib\\site-packages (from requests<3,>=2.21.0->tensorboard<2.14,>=2.13->tensorflow-intel==2.13.0->tensorflow==2.13.0) (3.4.0)\n",
      "Requirement already satisfied: idna<4,>=2.5 in c:\\users\\admin\\development\\ibm deep learning with pytorch, keras and tensorflow\\introduction-to-deep-learning-with-keras\\.conda\\lib\\site-packages (from requests<3,>=2.21.0->tensorboard<2.14,>=2.13->tensorflow-intel==2.13.0->tensorflow==2.13.0) (3.10)\n",
      "Requirement already satisfied: urllib3<3,>=1.21.1 in c:\\users\\admin\\development\\ibm deep learning with pytorch, keras and tensorflow\\introduction-to-deep-learning-with-keras\\.conda\\lib\\site-packages (from requests<3,>=2.21.0->tensorboard<2.14,>=2.13->tensorflow-intel==2.13.0->tensorflow==2.13.0) (2.2.3)\n",
      "Requirement already satisfied: certifi>=2017.4.17 in c:\\users\\admin\\development\\ibm deep learning with pytorch, keras and tensorflow\\introduction-to-deep-learning-with-keras\\.conda\\lib\\site-packages (from requests<3,>=2.21.0->tensorboard<2.14,>=2.13->tensorflow-intel==2.13.0->tensorflow==2.13.0) (2024.8.30)\n",
      "Requirement already satisfied: MarkupSafe>=2.1.1 in c:\\users\\admin\\development\\ibm deep learning with pytorch, keras and tensorflow\\introduction-to-deep-learning-with-keras\\.conda\\lib\\site-packages (from werkzeug>=1.0.1->tensorboard<2.14,>=2.13->tensorflow-intel==2.13.0->tensorflow==2.13.0) (2.1.5)\n",
      "Requirement already satisfied: zipp>=0.5 in c:\\users\\admin\\development\\ibm deep learning with pytorch, keras and tensorflow\\introduction-to-deep-learning-with-keras\\.conda\\lib\\site-packages (from importlib-metadata>=4.4->markdown>=2.6.8->tensorboard<2.14,>=2.13->tensorflow-intel==2.13.0->tensorflow==2.13.0) (3.20.2)\n",
      "Requirement already satisfied: pyasn1<0.7.0,>=0.4.6 in c:\\users\\admin\\development\\ibm deep learning with pytorch, keras and tensorflow\\introduction-to-deep-learning-with-keras\\.conda\\lib\\site-packages (from pyasn1-modules>=0.2.1->google-auth<3,>=1.6.3->tensorboard<2.14,>=2.13->tensorflow-intel==2.13.0->tensorflow==2.13.0) (0.6.1)\n",
      "Requirement already satisfied: oauthlib>=3.0.0 in c:\\users\\admin\\development\\ibm deep learning with pytorch, keras and tensorflow\\introduction-to-deep-learning-with-keras\\.conda\\lib\\site-packages (from requests-oauthlib>=0.7.0->google-auth-oauthlib<1.1,>=0.5->tensorboard<2.14,>=2.13->tensorflow-intel==2.13.0->tensorflow==2.13.0) (3.2.2)\n",
      "Note: you may need to restart the kernel to use updated packages.\n",
      "Requirement already satisfied: matplotlib==3.5.0 in c:\\users\\admin\\development\\ibm deep learning with pytorch, keras and tensorflow\\introduction-to-deep-learning-with-keras\\.conda\\lib\\site-packages (3.5.0)\n",
      "Requirement already satisfied: cycler>=0.10 in c:\\users\\admin\\development\\ibm deep learning with pytorch, keras and tensorflow\\introduction-to-deep-learning-with-keras\\.conda\\lib\\site-packages (from matplotlib==3.5.0) (0.12.1)\n",
      "Requirement already satisfied: fonttools>=4.22.0 in c:\\users\\admin\\development\\ibm deep learning with pytorch, keras and tensorflow\\introduction-to-deep-learning-with-keras\\.conda\\lib\\site-packages (from matplotlib==3.5.0) (4.55.0)\n",
      "Requirement already satisfied: kiwisolver>=1.0.1 in c:\\users\\admin\\development\\ibm deep learning with pytorch, keras and tensorflow\\introduction-to-deep-learning-with-keras\\.conda\\lib\\site-packages (from matplotlib==3.5.0) (1.4.7)\n",
      "Requirement already satisfied: numpy>=1.17 in c:\\users\\admin\\development\\ibm deep learning with pytorch, keras and tensorflow\\introduction-to-deep-learning-with-keras\\.conda\\lib\\site-packages (from matplotlib==3.5.0) (1.24.3)\n",
      "Requirement already satisfied: packaging>=20.0 in c:\\users\\admin\\development\\ibm deep learning with pytorch, keras and tensorflow\\introduction-to-deep-learning-with-keras\\.conda\\lib\\site-packages (from matplotlib==3.5.0) (24.1)\n",
      "Requirement already satisfied: pillow>=6.2.0 in c:\\users\\admin\\development\\ibm deep learning with pytorch, keras and tensorflow\\introduction-to-deep-learning-with-keras\\.conda\\lib\\site-packages (from matplotlib==3.5.0) (10.4.0)\n",
      "Requirement already satisfied: pyparsing>=2.2.1 in c:\\users\\admin\\development\\ibm deep learning with pytorch, keras and tensorflow\\introduction-to-deep-learning-with-keras\\.conda\\lib\\site-packages (from matplotlib==3.5.0) (3.1.4)\n",
      "Requirement already satisfied: python-dateutil>=2.7 in c:\\users\\admin\\development\\ibm deep learning with pytorch, keras and tensorflow\\introduction-to-deep-learning-with-keras\\.conda\\lib\\site-packages (from matplotlib==3.5.0) (2.9.0.post0)\n",
      "Requirement already satisfied: setuptools-scm>=4 in c:\\users\\admin\\development\\ibm deep learning with pytorch, keras and tensorflow\\introduction-to-deep-learning-with-keras\\.conda\\lib\\site-packages (from matplotlib==3.5.0) (8.1.0)\n",
      "Requirement already satisfied: six>=1.5 in c:\\users\\admin\\development\\ibm deep learning with pytorch, keras and tensorflow\\introduction-to-deep-learning-with-keras\\.conda\\lib\\site-packages (from python-dateutil>=2.7->matplotlib==3.5.0) (1.16.0)\n",
      "Requirement already satisfied: setuptools in c:\\users\\admin\\development\\ibm deep learning with pytorch, keras and tensorflow\\introduction-to-deep-learning-with-keras\\.conda\\lib\\site-packages (from setuptools-scm>=4->matplotlib==3.5.0) (75.1.0)\n",
      "Requirement already satisfied: typing-extensions in c:\\users\\admin\\development\\ibm deep learning with pytorch, keras and tensorflow\\introduction-to-deep-learning-with-keras\\.conda\\lib\\site-packages (from setuptools-scm>=4->matplotlib==3.5.0) (4.5.0)\n",
      "Requirement already satisfied: tomli>=1 in c:\\users\\admin\\development\\ibm deep learning with pytorch, keras and tensorflow\\introduction-to-deep-learning-with-keras\\.conda\\lib\\site-packages (from setuptools-scm>=4->matplotlib==3.5.0) (2.2.1)\n",
      "Note: you may need to restart the kernel to use updated packages.\n",
      "Note: you may need to restart the kernel to use updated packages.\n"
     ]
    },
    {
     "name": "stderr",
     "output_type": "stream",
     "text": [
      "ERROR: Could not find a version that satisfies the requirement pprint (from versions: none)\n",
      "ERROR: No matching distribution found for pprint\n"
     ]
    }
   ],
   "source": [
    "%pip install numpy==1.24.3\n",
    "%pip install pandas==1.3.4\n",
    "%pip install scikit-learn==0.23\n",
    "%pip install tensorflow==2.13.0\n",
    "%pip install matplotlib==3.5.0\n",
    "%pip install pprint"
   ]
  },
  {
   "cell_type": "markdown",
   "metadata": {},
   "source": [
    "# Import the required libraries"
   ]
  },
  {
   "cell_type": "code",
   "execution_count": 2,
   "metadata": {},
   "outputs": [],
   "source": [
    "import pandas as pd\n",
    "import numpy as np\n",
    "import keras\n",
    "import sklearn\n",
    "\n",
    "from keras.models import Sequential\n",
    "from keras.layers import Dense\n",
    "from sklearn.model_selection import train_test_split\n",
    "from sklearn.metrics import mean_squared_error\n",
    "\n",
    "from pprint import pprint"
   ]
  },
  {
   "cell_type": "markdown",
   "metadata": {},
   "source": [
    "# Download and Clean Dataset from https://cocl.us/concrete_data"
   ]
  },
  {
   "cell_type": "code",
   "execution_count": 3,
   "metadata": {},
   "outputs": [],
   "source": [
    "import requests\n",
    "r = requests.get('https://cocl.us/concrete_data')\n",
    "with open('concrete_data.csv', 'wb') as f:\n",
    "    f.write(r.content)"
   ]
  },
  {
   "cell_type": "code",
   "execution_count": 4,
   "metadata": {},
   "outputs": [
    {
     "data": {
      "text/plain": [
       "Cement                0\n",
       "Blast Furnace Slag    0\n",
       "Fly Ash               0\n",
       "Water                 0\n",
       "Superplasticizer      0\n",
       "Coarse Aggregate      0\n",
       "Fine Aggregate        0\n",
       "Age                   0\n",
       "Strength              0\n",
       "dtype: int64"
      ]
     },
     "execution_count": 4,
     "metadata": {},
     "output_type": "execute_result"
    }
   ],
   "source": [
    "concrete_data = pd.read_csv('concrete_data.csv')\n",
    "concrete_data.head()\n",
    "\n",
    "# check for missing values\n",
    "concrete_data.isnull().sum()"
   ]
  },
  {
   "cell_type": "markdown",
   "metadata": {},
   "source": [
    "# Split data into predictors and target"
   ]
  },
  {
   "cell_type": "code",
   "execution_count": 5,
   "metadata": {},
   "outputs": [],
   "source": [
    "concrete_data_columns = concrete_data.columns\n",
    "predictors = concrete_data[concrete_data_columns[concrete_data_columns != 'Strength']] # all columns except Strength\n",
    "target = concrete_data['Strength'] # Strength column"
   ]
  },
  {
   "cell_type": "markdown",
   "metadata": {},
   "source": [
    "# Normalize the data is by subtracting the mean from the individual predictors and dividing by the standard deviation."
   ]
  },
  {
   "cell_type": "code",
   "execution_count": 6,
   "metadata": {},
   "outputs": [],
   "source": [
    "predictors = (predictors - predictors.mean()) / predictors.std()\n",
    "# target_norm = (target - target.mean()) / target.std()"
   ]
  },
  {
   "cell_type": "markdown",
   "metadata": {},
   "source": [
    "# Use the Keras library to build a neural network with one hidden layer of 10 nodes, and a ReLU activation function. Use the adam optimizer and the mean squared error  as the loss function."
   ]
  },
  {
   "cell_type": "code",
   "execution_count": 7,
   "metadata": {},
   "outputs": [],
   "source": [
    "model = Sequential()\n",
    "model.add(Dense(10, activation='relu', input_shape=(predictors.shape[1],)))\n",
    "model.add(Dense(1))\n",
    "model.compile(optimizer='adam', loss='mean_squared_error')"
   ]
  },
  {
   "cell_type": "markdown",
   "metadata": {},
   "source": [
    "# Randomly split the data into a training and test sets by holding 30% of the data for testing. Use the train_test_split helper function from Scikit-learn."
   ]
  },
  {
   "cell_type": "code",
   "execution_count": 8,
   "metadata": {},
   "outputs": [],
   "source": [
    "from sklearn.model_selection import train_test_split\n",
    "X_train, X_test, y_train, y_test = train_test_split(predictors, target, test_size=0.3, random_state=1)"
   ]
  },
  {
   "cell_type": "markdown",
   "metadata": {},
   "source": [
    "# Train the model on the training data using 50 epochs."
   ]
  },
  {
   "cell_type": "code",
   "execution_count": 9,
   "metadata": {},
   "outputs": [
    {
     "name": "stdout",
     "output_type": "stream",
     "text": [
      "Epoch 1/50\n",
      "23/23 - 1s - loss: 1561.8953 - 504ms/epoch - 22ms/step\n",
      "Epoch 2/50\n",
      "23/23 - 0s - loss: 1544.8502 - 24ms/epoch - 1ms/step\n",
      "Epoch 3/50\n",
      "23/23 - 0s - loss: 1528.0565 - 22ms/epoch - 954us/step\n",
      "Epoch 4/50\n",
      "23/23 - 0s - loss: 1511.7046 - 20ms/epoch - 869us/step\n",
      "Epoch 5/50\n",
      "23/23 - 0s - loss: 1495.7141 - 19ms/epoch - 812us/step\n",
      "Epoch 6/50\n",
      "23/23 - 0s - loss: 1479.4624 - 19ms/epoch - 828us/step\n",
      "Epoch 7/50\n",
      "23/23 - 0s - loss: 1463.5253 - 18ms/epoch - 761us/step\n",
      "Epoch 8/50\n",
      "23/23 - 0s - loss: 1447.3949 - 19ms/epoch - 834us/step\n",
      "Epoch 9/50\n",
      "23/23 - 0s - loss: 1430.9869 - 25ms/epoch - 1ms/step\n",
      "Epoch 10/50\n",
      "23/23 - 0s - loss: 1414.5176 - 24ms/epoch - 1ms/step\n",
      "Epoch 11/50\n",
      "23/23 - 0s - loss: 1397.7565 - 27ms/epoch - 1ms/step\n",
      "Epoch 12/50\n",
      "23/23 - 0s - loss: 1380.1847 - 39ms/epoch - 2ms/step\n",
      "Epoch 13/50\n",
      "23/23 - 0s - loss: 1362.2843 - 29ms/epoch - 1ms/step\n",
      "Epoch 14/50\n",
      "23/23 - 0s - loss: 1343.9152 - 26ms/epoch - 1ms/step\n",
      "Epoch 15/50\n",
      "23/23 - 0s - loss: 1324.5621 - 22ms/epoch - 936us/step\n",
      "Epoch 16/50\n",
      "23/23 - 0s - loss: 1304.4969 - 20ms/epoch - 869us/step\n",
      "Epoch 17/50\n",
      "23/23 - 0s - loss: 1283.7021 - 23ms/epoch - 1ms/step\n",
      "Epoch 18/50\n",
      "23/23 - 0s - loss: 1261.8442 - 22ms/epoch - 962us/step\n",
      "Epoch 19/50\n",
      "23/23 - 0s - loss: 1238.7701 - 20ms/epoch - 871us/step\n",
      "Epoch 20/50\n",
      "23/23 - 0s - loss: 1214.5745 - 21ms/epoch - 904us/step\n",
      "Epoch 21/50\n",
      "23/23 - 0s - loss: 1189.4716 - 23ms/epoch - 1ms/step\n",
      "Epoch 22/50\n",
      "23/23 - 0s - loss: 1163.0243 - 25ms/epoch - 1ms/step\n",
      "Epoch 23/50\n",
      "23/23 - 0s - loss: 1135.8070 - 27ms/epoch - 1ms/step\n",
      "Epoch 24/50\n",
      "23/23 - 0s - loss: 1107.4321 - 28ms/epoch - 1ms/step\n",
      "Epoch 25/50\n",
      "23/23 - 0s - loss: 1078.0115 - 26ms/epoch - 1ms/step\n",
      "Epoch 26/50\n",
      "23/23 - 0s - loss: 1048.2358 - 23ms/epoch - 1ms/step\n",
      "Epoch 27/50\n",
      "23/23 - 0s - loss: 1017.8278 - 24ms/epoch - 1ms/step\n",
      "Epoch 28/50\n",
      "23/23 - 0s - loss: 986.5219 - 19ms/epoch - 844us/step\n",
      "Epoch 29/50\n",
      "23/23 - 0s - loss: 954.9667 - 18ms/epoch - 783us/step\n",
      "Epoch 30/50\n",
      "23/23 - 0s - loss: 923.1656 - 20ms/epoch - 863us/step\n",
      "Epoch 31/50\n",
      "23/23 - 0s - loss: 891.1681 - 18ms/epoch - 783us/step\n",
      "Epoch 32/50\n",
      "23/23 - 0s - loss: 859.7590 - 19ms/epoch - 826us/step\n",
      "Epoch 33/50\n",
      "23/23 - 0s - loss: 828.5095 - 19ms/epoch - 820us/step\n",
      "Epoch 34/50\n",
      "23/23 - 0s - loss: 796.7353 - 21ms/epoch - 913us/step\n",
      "Epoch 35/50\n",
      "23/23 - 0s - loss: 766.6077 - 19ms/epoch - 826us/step\n",
      "Epoch 36/50\n",
      "23/23 - 0s - loss: 736.0623 - 19ms/epoch - 829us/step\n",
      "Epoch 37/50\n",
      "23/23 - 0s - loss: 707.1664 - 18ms/epoch - 782us/step\n",
      "Epoch 38/50\n",
      "23/23 - 0s - loss: 678.0945 - 20ms/epoch - 883us/step\n",
      "Epoch 39/50\n",
      "23/23 - 0s - loss: 650.2399 - 20ms/epoch - 870us/step\n",
      "Epoch 40/50\n",
      "23/23 - 0s - loss: 622.9541 - 19ms/epoch - 831us/step\n",
      "Epoch 41/50\n",
      "23/23 - 0s - loss: 596.9201 - 18ms/epoch - 762us/step\n",
      "Epoch 42/50\n",
      "23/23 - 0s - loss: 571.7968 - 18ms/epoch - 782us/step\n",
      "Epoch 43/50\n",
      "23/23 - 0s - loss: 547.5593 - 18ms/epoch - 778us/step\n",
      "Epoch 44/50\n",
      "23/23 - 0s - loss: 524.7089 - 19ms/epoch - 826us/step\n",
      "Epoch 45/50\n",
      "23/23 - 0s - loss: 501.8936 - 19ms/epoch - 826us/step\n",
      "Epoch 46/50\n",
      "23/23 - 0s - loss: 481.0207 - 17ms/epoch - 753us/step\n",
      "Epoch 47/50\n",
      "23/23 - 0s - loss: 460.5162 - 22ms/epoch - 956us/step\n",
      "Epoch 48/50\n",
      "23/23 - 0s - loss: 441.4849 - 19ms/epoch - 840us/step\n",
      "Epoch 49/50\n",
      "23/23 - 0s - loss: 422.6294 - 19ms/epoch - 838us/step\n",
      "Epoch 50/50\n",
      "23/23 - 0s - loss: 405.5598 - 18ms/epoch - 783us/step\n"
     ]
    },
    {
     "data": {
      "text/plain": [
       "<keras.src.callbacks.History at 0x2026a528730>"
      ]
     },
     "execution_count": 9,
     "metadata": {},
     "output_type": "execute_result"
    }
   ],
   "source": [
    "model.fit(X_train, y_train, epochs=50, verbose=2)"
   ]
  },
  {
   "cell_type": "markdown",
   "metadata": {},
   "source": [
    "# Evaluate the model on the test data and compute the mean squared error between the predicted concrete strength and the actual concrete strength. Use the mean_squared_error function from Scikit-learn."
   ]
  },
  {
   "cell_type": "code",
   "execution_count": 10,
   "metadata": {},
   "outputs": [
    {
     "name": "stdout",
     "output_type": "stream",
     "text": [
      "10/10 [==============================] - 0s 781us/step\n",
      "Mean squared error: 427.42830523756174\n"
     ]
    }
   ],
   "source": [
    "y_pred = model.predict(X_test)\n",
    "mse = mean_squared_error(y_test, y_pred)\n",
    "print('Mean squared error:', mse)"
   ]
  },
  {
   "cell_type": "markdown",
   "metadata": {},
   "source": [
    "# Repeat steps 1 - 3, 50 times, i.e., create a list of 50 mean squared errors."
   ]
  },
  {
   "cell_type": "code",
   "execution_count": 11,
   "metadata": {},
   "outputs": [
    {
     "name": "stdout",
     "output_type": "stream",
     "text": [
      "10/10 [==============================] - 0s 889us/step\n",
      "10/10 [==============================] - 0s 837us/step\n",
      "10/10 [==============================] - 0s 887us/step\n",
      "10/10 [==============================] - 0s 877us/step\n",
      "10/10 [==============================] - 0s 775us/step\n",
      "10/10 [==============================] - 0s 888us/step\n",
      "10/10 [==============================] - 0s 1ms/step\n",
      "10/10 [==============================] - 0s 778us/step\n",
      "10/10 [==============================] - 0s 888us/step\n",
      "10/10 [==============================] - 0s 1ms/step\n",
      "10/10 [==============================] - 0s 1ms/step\n",
      "10/10 [==============================] - 0s 855us/step\n",
      "10/10 [==============================] - 0s 888us/step\n",
      "10/10 [==============================] - 0s 778us/step\n",
      "10/10 [==============================] - 0s 778us/step\n",
      "10/10 [==============================] - 0s 849us/step\n",
      "10/10 [==============================] - 0s 667us/step\n",
      "10/10 [==============================] - 0s 1000us/step\n",
      "10/10 [==============================] - 0s 778us/step\n",
      "10/10 [==============================] - 0s 778us/step\n",
      "10/10 [==============================] - 0s 889us/step\n",
      "10/10 [==============================] - 0s 832us/step\n",
      "10/10 [==============================] - 0s 890us/step\n",
      "10/10 [==============================] - 0s 757us/step\n",
      "10/10 [==============================] - 0s 778us/step\n",
      "10/10 [==============================] - 0s 1ms/step\n",
      "10/10 [==============================] - 0s 946us/step\n",
      "10/10 [==============================] - 0s 1ms/step\n",
      "10/10 [==============================] - 0s 889us/step\n",
      "10/10 [==============================] - 0s 858us/step\n",
      "10/10 [==============================] - 0s 778us/step\n",
      "10/10 [==============================] - 0s 1000us/step\n",
      "10/10 [==============================] - 0s 888us/step\n",
      "10/10 [==============================] - 0s 888us/step\n",
      "10/10 [==============================] - 0s 1ms/step\n",
      "10/10 [==============================] - 0s 778us/step\n",
      "10/10 [==============================] - 0s 834us/step\n",
      "10/10 [==============================] - 0s 893us/step\n",
      "10/10 [==============================] - 0s 777us/step\n",
      "10/10 [==============================] - 0s 666us/step\n",
      "10/10 [==============================] - 0s 888us/step\n",
      "10/10 [==============================] - 0s 899us/step\n",
      "10/10 [==============================] - 0s 777us/step\n",
      "10/10 [==============================] - 0s 899us/step\n",
      "10/10 [==============================] - 0s 894us/step\n",
      "10/10 [==============================] - 0s 889us/step\n",
      "10/10 [==============================] - 0s 778us/step\n",
      "10/10 [==============================] - 0s 1ms/step\n",
      "10/10 [==============================] - 0s 889us/step\n",
      "10/10 [==============================] - 0s 889us/step\n"
     ]
    }
   ],
   "source": [
    "mse_list = []\n",
    "for i in range(50):\n",
    "    X_train, X_test, y_train, y_test = train_test_split(predictors, target, test_size=0.3, random_state=i+2)\n",
    "    model.fit(X_train, y_train, epochs=50, verbose=0)\n",
    "    y_pred = model.predict(X_test)\n",
    "    mse = mean_squared_error(y_test, y_pred)\n",
    "    mse_list.append(mse)"
   ]
  },
  {
   "cell_type": "markdown",
   "metadata": {},
   "source": [
    "# Report the mean and the standard deviation of the mean squared errors."
   ]
  },
  {
   "cell_type": "code",
   "execution_count": 12,
   "metadata": {},
   "outputs": [
    {
     "name": "stdout",
     "output_type": "stream",
     "text": [
      "Mean of mean squared errors: 41.734891844177355\n",
      "Standard deviation of mean squared errors: 22.92102393282926\n",
      "[156.54832062030172,\n",
      " 125.4118346702087,\n",
      " 89.89804763100172,\n",
      " 70.00262909662395,\n",
      " 60.36759245688245,\n",
      " 41.433786787418164,\n",
      " 42.90317183962562,\n",
      " 42.949789534205856,\n",
      " 39.19197651492736,\n",
      " 37.317634970265715,\n",
      " 42.58239679248471,\n",
      " 45.391248949327775,\n",
      " 35.667622127797344,\n",
      " 33.025278865914295,\n",
      " 38.69215835476096,\n",
      " 36.076706815021794,\n",
      " 37.050663520408115,\n",
      " 34.94433400950018,\n",
      " 34.81347436274844,\n",
      " 35.32238808195554,\n",
      " 32.5094915229621,\n",
      " 33.6523689494363,\n",
      " 36.37804557397312,\n",
      " 35.39654315116512,\n",
      " 32.147091892593494,\n",
      " 30.14735873383622,\n",
      " 37.6296166629288,\n",
      " 36.23779151586314,\n",
      " 32.42283450905957,\n",
      " 29.92446854748181,\n",
      " 30.369018970549792,\n",
      " 33.31880112620324,\n",
      " 32.386852281761946,\n",
      " 39.77478270461392,\n",
      " 29.325254472849902,\n",
      " 36.68322804582567,\n",
      " 33.86619062363761,\n",
      " 28.39533650776434,\n",
      " 36.759327746358956,\n",
      " 29.462069436384507,\n",
      " 33.77243451500522,\n",
      " 38.09730541199354,\n",
      " 37.5432108525154,\n",
      " 33.22337177580772,\n",
      " 33.074297812288854,\n",
      " 35.587988536570755,\n",
      " 34.835623572970675,\n",
      " 34.36319052009466,\n",
      " 30.183424763862618,\n",
      " 29.686215471128296]\n"
     ]
    }
   ],
   "source": [
    "print('Mean of mean squared errors:', np.mean(mse_list))\n",
    "print('Standard deviation of mean squared errors:', np.std(mse_list))\n",
    "pprint(mse_list)"
   ]
  },
  {
   "cell_type": "markdown",
   "metadata": {},
   "source": [
    "# How does the mean of the mean squared errors compare to that from Step A?"
   ]
  },
  {
   "cell_type": "markdown",
   "metadata": {},
   "source": [
    "In step A the mean of the mean squared error was 54.638573552475236. In this step the mean of the mean squared error equals 41.734891844177355.\n",
    "The mean squared error is lower when compared to step A. This however does not mean that the model with normalized features is better than the one from step A."
   ]
  }
 ],
 "metadata": {
  "kernelspec": {
   "display_name": "Python 3",
   "language": "python",
   "name": "python3"
  },
  "language_info": {
   "codemirror_mode": {
    "name": "ipython",
    "version": 3
   },
   "file_extension": ".py",
   "mimetype": "text/x-python",
   "name": "python",
   "nbconvert_exporter": "python",
   "pygments_lexer": "ipython3",
   "version": "3.8.20"
  }
 },
 "nbformat": 4,
 "nbformat_minor": 2
}
