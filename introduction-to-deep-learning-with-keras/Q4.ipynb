{
 "cells": [
  {
   "cell_type": "code",
   "execution_count": 1,
   "metadata": {},
   "outputs": [
    {
     "name": "stdout",
     "output_type": "stream",
     "text": [
      "Requirement already satisfied: numpy==1.24.3 in c:\\users\\admin\\development\\ibm deep learning with pytorch, keras and tensorflow\\introduction-to-deep-learning-with-keras\\.conda\\lib\\site-packages (1.24.3)\n",
      "Note: you may need to restart the kernel to use updated packages.\n",
      "Requirement already satisfied: pandas==1.3.4 in c:\\users\\admin\\development\\ibm deep learning with pytorch, keras and tensorflow\\introduction-to-deep-learning-with-keras\\.conda\\lib\\site-packages (1.3.4)\n",
      "Requirement already satisfied: python-dateutil>=2.7.3 in c:\\users\\admin\\development\\ibm deep learning with pytorch, keras and tensorflow\\introduction-to-deep-learning-with-keras\\.conda\\lib\\site-packages (from pandas==1.3.4) (2.9.0.post0)\n",
      "Requirement already satisfied: pytz>=2017.3 in c:\\users\\admin\\development\\ibm deep learning with pytorch, keras and tensorflow\\introduction-to-deep-learning-with-keras\\.conda\\lib\\site-packages (from pandas==1.3.4) (2024.2)\n",
      "Requirement already satisfied: numpy>=1.17.3 in c:\\users\\admin\\development\\ibm deep learning with pytorch, keras and tensorflow\\introduction-to-deep-learning-with-keras\\.conda\\lib\\site-packages (from pandas==1.3.4) (1.24.3)\n",
      "Requirement already satisfied: six>=1.5 in c:\\users\\admin\\development\\ibm deep learning with pytorch, keras and tensorflow\\introduction-to-deep-learning-with-keras\\.conda\\lib\\site-packages (from python-dateutil>=2.7.3->pandas==1.3.4) (1.16.0)\n",
      "Note: you may need to restart the kernel to use updated packages.\n",
      "Requirement already satisfied: scikit-learn==0.23 in c:\\users\\admin\\development\\ibm deep learning with pytorch, keras and tensorflow\\introduction-to-deep-learning-with-keras\\.conda\\lib\\site-packages (0.23.0)\n",
      "Requirement already satisfied: numpy>=1.13.3 in c:\\users\\admin\\development\\ibm deep learning with pytorch, keras and tensorflow\\introduction-to-deep-learning-with-keras\\.conda\\lib\\site-packages (from scikit-learn==0.23) (1.24.3)\n",
      "Requirement already satisfied: scipy>=0.19.1 in c:\\users\\admin\\development\\ibm deep learning with pytorch, keras and tensorflow\\introduction-to-deep-learning-with-keras\\.conda\\lib\\site-packages (from scikit-learn==0.23) (1.10.1)\n",
      "Requirement already satisfied: joblib>=0.11 in c:\\users\\admin\\development\\ibm deep learning with pytorch, keras and tensorflow\\introduction-to-deep-learning-with-keras\\.conda\\lib\\site-packages (from scikit-learn==0.23) (1.4.2)\n",
      "Requirement already satisfied: threadpoolctl>=2.0.0 in c:\\users\\admin\\development\\ibm deep learning with pytorch, keras and tensorflow\\introduction-to-deep-learning-with-keras\\.conda\\lib\\site-packages (from scikit-learn==0.23) (3.5.0)\n",
      "Note: you may need to restart the kernel to use updated packages.\n",
      "Requirement already satisfied: tensorflow==2.13.0 in c:\\users\\admin\\development\\ibm deep learning with pytorch, keras and tensorflow\\introduction-to-deep-learning-with-keras\\.conda\\lib\\site-packages (2.13.0)\n",
      "Requirement already satisfied: tensorflow-intel==2.13.0 in c:\\users\\admin\\development\\ibm deep learning with pytorch, keras and tensorflow\\introduction-to-deep-learning-with-keras\\.conda\\lib\\site-packages (from tensorflow==2.13.0) (2.13.0)\n",
      "Requirement already satisfied: absl-py>=1.0.0 in c:\\users\\admin\\development\\ibm deep learning with pytorch, keras and tensorflow\\introduction-to-deep-learning-with-keras\\.conda\\lib\\site-packages (from tensorflow-intel==2.13.0->tensorflow==2.13.0) (2.1.0)\n",
      "Requirement already satisfied: astunparse>=1.6.0 in c:\\users\\admin\\development\\ibm deep learning with pytorch, keras and tensorflow\\introduction-to-deep-learning-with-keras\\.conda\\lib\\site-packages (from tensorflow-intel==2.13.0->tensorflow==2.13.0) (1.6.3)\n",
      "Requirement already satisfied: flatbuffers>=23.1.21 in c:\\users\\admin\\development\\ibm deep learning with pytorch, keras and tensorflow\\introduction-to-deep-learning-with-keras\\.conda\\lib\\site-packages (from tensorflow-intel==2.13.0->tensorflow==2.13.0) (24.3.25)\n",
      "Requirement already satisfied: gast<=0.4.0,>=0.2.1 in c:\\users\\admin\\development\\ibm deep learning with pytorch, keras and tensorflow\\introduction-to-deep-learning-with-keras\\.conda\\lib\\site-packages (from tensorflow-intel==2.13.0->tensorflow==2.13.0) (0.4.0)\n",
      "Requirement already satisfied: google-pasta>=0.1.1 in c:\\users\\admin\\development\\ibm deep learning with pytorch, keras and tensorflow\\introduction-to-deep-learning-with-keras\\.conda\\lib\\site-packages (from tensorflow-intel==2.13.0->tensorflow==2.13.0) (0.2.0)\n",
      "Requirement already satisfied: h5py>=2.9.0 in c:\\users\\admin\\development\\ibm deep learning with pytorch, keras and tensorflow\\introduction-to-deep-learning-with-keras\\.conda\\lib\\site-packages (from tensorflow-intel==2.13.0->tensorflow==2.13.0) (3.11.0)\n",
      "Requirement already satisfied: libclang>=13.0.0 in c:\\users\\admin\\development\\ibm deep learning with pytorch, keras and tensorflow\\introduction-to-deep-learning-with-keras\\.conda\\lib\\site-packages (from tensorflow-intel==2.13.0->tensorflow==2.13.0) (18.1.1)\n",
      "Requirement already satisfied: numpy<=1.24.3,>=1.22 in c:\\users\\admin\\development\\ibm deep learning with pytorch, keras and tensorflow\\introduction-to-deep-learning-with-keras\\.conda\\lib\\site-packages (from tensorflow-intel==2.13.0->tensorflow==2.13.0) (1.24.3)\n",
      "Requirement already satisfied: opt-einsum>=2.3.2 in c:\\users\\admin\\development\\ibm deep learning with pytorch, keras and tensorflow\\introduction-to-deep-learning-with-keras\\.conda\\lib\\site-packages (from tensorflow-intel==2.13.0->tensorflow==2.13.0) (3.4.0)\n",
      "Requirement already satisfied: packaging in c:\\users\\admin\\development\\ibm deep learning with pytorch, keras and tensorflow\\introduction-to-deep-learning-with-keras\\.conda\\lib\\site-packages (from tensorflow-intel==2.13.0->tensorflow==2.13.0) (24.1)\n",
      "Requirement already satisfied: protobuf!=4.21.0,!=4.21.1,!=4.21.2,!=4.21.3,!=4.21.4,!=4.21.5,<5.0.0dev,>=3.20.3 in c:\\users\\admin\\development\\ibm deep learning with pytorch, keras and tensorflow\\introduction-to-deep-learning-with-keras\\.conda\\lib\\site-packages (from tensorflow-intel==2.13.0->tensorflow==2.13.0) (4.25.5)\n",
      "Requirement already satisfied: setuptools in c:\\users\\admin\\development\\ibm deep learning with pytorch, keras and tensorflow\\introduction-to-deep-learning-with-keras\\.conda\\lib\\site-packages (from tensorflow-intel==2.13.0->tensorflow==2.13.0) (75.1.0)\n",
      "Requirement already satisfied: six>=1.12.0 in c:\\users\\admin\\development\\ibm deep learning with pytorch, keras and tensorflow\\introduction-to-deep-learning-with-keras\\.conda\\lib\\site-packages (from tensorflow-intel==2.13.0->tensorflow==2.13.0) (1.16.0)\n",
      "Requirement already satisfied: termcolor>=1.1.0 in c:\\users\\admin\\development\\ibm deep learning with pytorch, keras and tensorflow\\introduction-to-deep-learning-with-keras\\.conda\\lib\\site-packages (from tensorflow-intel==2.13.0->tensorflow==2.13.0) (2.4.0)\n",
      "Requirement already satisfied: typing-extensions<4.6.0,>=3.6.6 in c:\\users\\admin\\development\\ibm deep learning with pytorch, keras and tensorflow\\introduction-to-deep-learning-with-keras\\.conda\\lib\\site-packages (from tensorflow-intel==2.13.0->tensorflow==2.13.0) (4.5.0)\n",
      "Requirement already satisfied: wrapt>=1.11.0 in c:\\users\\admin\\development\\ibm deep learning with pytorch, keras and tensorflow\\introduction-to-deep-learning-with-keras\\.conda\\lib\\site-packages (from tensorflow-intel==2.13.0->tensorflow==2.13.0) (1.17.0)\n",
      "Requirement already satisfied: grpcio<2.0,>=1.24.3 in c:\\users\\admin\\development\\ibm deep learning with pytorch, keras and tensorflow\\introduction-to-deep-learning-with-keras\\.conda\\lib\\site-packages (from tensorflow-intel==2.13.0->tensorflow==2.13.0) (1.68.0)\n",
      "Requirement already satisfied: tensorboard<2.14,>=2.13 in c:\\users\\admin\\development\\ibm deep learning with pytorch, keras and tensorflow\\introduction-to-deep-learning-with-keras\\.conda\\lib\\site-packages (from tensorflow-intel==2.13.0->tensorflow==2.13.0) (2.13.0)\n",
      "Requirement already satisfied: tensorflow-estimator<2.14,>=2.13.0 in c:\\users\\admin\\development\\ibm deep learning with pytorch, keras and tensorflow\\introduction-to-deep-learning-with-keras\\.conda\\lib\\site-packages (from tensorflow-intel==2.13.0->tensorflow==2.13.0) (2.13.0)\n",
      "Requirement already satisfied: keras<2.14,>=2.13.1 in c:\\users\\admin\\development\\ibm deep learning with pytorch, keras and tensorflow\\introduction-to-deep-learning-with-keras\\.conda\\lib\\site-packages (from tensorflow-intel==2.13.0->tensorflow==2.13.0) (2.13.1)\n",
      "Requirement already satisfied: tensorflow-io-gcs-filesystem>=0.23.1 in c:\\users\\admin\\development\\ibm deep learning with pytorch, keras and tensorflow\\introduction-to-deep-learning-with-keras\\.conda\\lib\\site-packages (from tensorflow-intel==2.13.0->tensorflow==2.13.0) (0.31.0)\n",
      "Requirement already satisfied: wheel<1.0,>=0.23.0 in c:\\users\\admin\\development\\ibm deep learning with pytorch, keras and tensorflow\\introduction-to-deep-learning-with-keras\\.conda\\lib\\site-packages (from astunparse>=1.6.0->tensorflow-intel==2.13.0->tensorflow==2.13.0) (0.44.0)\n",
      "Requirement already satisfied: google-auth<3,>=1.6.3 in c:\\users\\admin\\development\\ibm deep learning with pytorch, keras and tensorflow\\introduction-to-deep-learning-with-keras\\.conda\\lib\\site-packages (from tensorboard<2.14,>=2.13->tensorflow-intel==2.13.0->tensorflow==2.13.0) (2.36.0)\n",
      "Requirement already satisfied: google-auth-oauthlib<1.1,>=0.5 in c:\\users\\admin\\development\\ibm deep learning with pytorch, keras and tensorflow\\introduction-to-deep-learning-with-keras\\.conda\\lib\\site-packages (from tensorboard<2.14,>=2.13->tensorflow-intel==2.13.0->tensorflow==2.13.0) (1.0.0)\n",
      "Requirement already satisfied: markdown>=2.6.8 in c:\\users\\admin\\development\\ibm deep learning with pytorch, keras and tensorflow\\introduction-to-deep-learning-with-keras\\.conda\\lib\\site-packages (from tensorboard<2.14,>=2.13->tensorflow-intel==2.13.0->tensorflow==2.13.0) (3.7)\n",
      "Requirement already satisfied: requests<3,>=2.21.0 in c:\\users\\admin\\development\\ibm deep learning with pytorch, keras and tensorflow\\introduction-to-deep-learning-with-keras\\.conda\\lib\\site-packages (from tensorboard<2.14,>=2.13->tensorflow-intel==2.13.0->tensorflow==2.13.0) (2.32.3)\n",
      "Requirement already satisfied: tensorboard-data-server<0.8.0,>=0.7.0 in c:\\users\\admin\\development\\ibm deep learning with pytorch, keras and tensorflow\\introduction-to-deep-learning-with-keras\\.conda\\lib\\site-packages (from tensorboard<2.14,>=2.13->tensorflow-intel==2.13.0->tensorflow==2.13.0) (0.7.2)\n",
      "Requirement already satisfied: werkzeug>=1.0.1 in c:\\users\\admin\\development\\ibm deep learning with pytorch, keras and tensorflow\\introduction-to-deep-learning-with-keras\\.conda\\lib\\site-packages (from tensorboard<2.14,>=2.13->tensorflow-intel==2.13.0->tensorflow==2.13.0) (3.0.6)\n",
      "Requirement already satisfied: cachetools<6.0,>=2.0.0 in c:\\users\\admin\\development\\ibm deep learning with pytorch, keras and tensorflow\\introduction-to-deep-learning-with-keras\\.conda\\lib\\site-packages (from google-auth<3,>=1.6.3->tensorboard<2.14,>=2.13->tensorflow-intel==2.13.0->tensorflow==2.13.0) (5.5.0)\n",
      "Requirement already satisfied: pyasn1-modules>=0.2.1 in c:\\users\\admin\\development\\ibm deep learning with pytorch, keras and tensorflow\\introduction-to-deep-learning-with-keras\\.conda\\lib\\site-packages (from google-auth<3,>=1.6.3->tensorboard<2.14,>=2.13->tensorflow-intel==2.13.0->tensorflow==2.13.0) (0.4.1)\n",
      "Requirement already satisfied: rsa<5,>=3.1.4 in c:\\users\\admin\\development\\ibm deep learning with pytorch, keras and tensorflow\\introduction-to-deep-learning-with-keras\\.conda\\lib\\site-packages (from google-auth<3,>=1.6.3->tensorboard<2.14,>=2.13->tensorflow-intel==2.13.0->tensorflow==2.13.0) (4.9)\n",
      "Requirement already satisfied: requests-oauthlib>=0.7.0 in c:\\users\\admin\\development\\ibm deep learning with pytorch, keras and tensorflow\\introduction-to-deep-learning-with-keras\\.conda\\lib\\site-packages (from google-auth-oauthlib<1.1,>=0.5->tensorboard<2.14,>=2.13->tensorflow-intel==2.13.0->tensorflow==2.13.0) (2.0.0)\n",
      "Requirement already satisfied: importlib-metadata>=4.4 in c:\\users\\admin\\development\\ibm deep learning with pytorch, keras and tensorflow\\introduction-to-deep-learning-with-keras\\.conda\\lib\\site-packages (from markdown>=2.6.8->tensorboard<2.14,>=2.13->tensorflow-intel==2.13.0->tensorflow==2.13.0) (7.0.1)\n",
      "Requirement already satisfied: charset-normalizer<4,>=2 in c:\\users\\admin\\development\\ibm deep learning with pytorch, keras and tensorflow\\introduction-to-deep-learning-with-keras\\.conda\\lib\\site-packages (from requests<3,>=2.21.0->tensorboard<2.14,>=2.13->tensorflow-intel==2.13.0->tensorflow==2.13.0) (3.4.0)\n",
      "Requirement already satisfied: idna<4,>=2.5 in c:\\users\\admin\\development\\ibm deep learning with pytorch, keras and tensorflow\\introduction-to-deep-learning-with-keras\\.conda\\lib\\site-packages (from requests<3,>=2.21.0->tensorboard<2.14,>=2.13->tensorflow-intel==2.13.0->tensorflow==2.13.0) (3.10)\n",
      "Requirement already satisfied: urllib3<3,>=1.21.1 in c:\\users\\admin\\development\\ibm deep learning with pytorch, keras and tensorflow\\introduction-to-deep-learning-with-keras\\.conda\\lib\\site-packages (from requests<3,>=2.21.0->tensorboard<2.14,>=2.13->tensorflow-intel==2.13.0->tensorflow==2.13.0) (2.2.3)\n",
      "Requirement already satisfied: certifi>=2017.4.17 in c:\\users\\admin\\development\\ibm deep learning with pytorch, keras and tensorflow\\introduction-to-deep-learning-with-keras\\.conda\\lib\\site-packages (from requests<3,>=2.21.0->tensorboard<2.14,>=2.13->tensorflow-intel==2.13.0->tensorflow==2.13.0) (2024.8.30)\n",
      "Requirement already satisfied: MarkupSafe>=2.1.1 in c:\\users\\admin\\development\\ibm deep learning with pytorch, keras and tensorflow\\introduction-to-deep-learning-with-keras\\.conda\\lib\\site-packages (from werkzeug>=1.0.1->tensorboard<2.14,>=2.13->tensorflow-intel==2.13.0->tensorflow==2.13.0) (2.1.5)\n",
      "Requirement already satisfied: zipp>=0.5 in c:\\users\\admin\\development\\ibm deep learning with pytorch, keras and tensorflow\\introduction-to-deep-learning-with-keras\\.conda\\lib\\site-packages (from importlib-metadata>=4.4->markdown>=2.6.8->tensorboard<2.14,>=2.13->tensorflow-intel==2.13.0->tensorflow==2.13.0) (3.20.2)\n",
      "Requirement already satisfied: pyasn1<0.7.0,>=0.4.6 in c:\\users\\admin\\development\\ibm deep learning with pytorch, keras and tensorflow\\introduction-to-deep-learning-with-keras\\.conda\\lib\\site-packages (from pyasn1-modules>=0.2.1->google-auth<3,>=1.6.3->tensorboard<2.14,>=2.13->tensorflow-intel==2.13.0->tensorflow==2.13.0) (0.6.1)\n",
      "Requirement already satisfied: oauthlib>=3.0.0 in c:\\users\\admin\\development\\ibm deep learning with pytorch, keras and tensorflow\\introduction-to-deep-learning-with-keras\\.conda\\lib\\site-packages (from requests-oauthlib>=0.7.0->google-auth-oauthlib<1.1,>=0.5->tensorboard<2.14,>=2.13->tensorflow-intel==2.13.0->tensorflow==2.13.0) (3.2.2)\n",
      "Note: you may need to restart the kernel to use updated packages.\n",
      "Requirement already satisfied: matplotlib==3.5.0 in c:\\users\\admin\\development\\ibm deep learning with pytorch, keras and tensorflow\\introduction-to-deep-learning-with-keras\\.conda\\lib\\site-packages (3.5.0)\n",
      "Requirement already satisfied: cycler>=0.10 in c:\\users\\admin\\development\\ibm deep learning with pytorch, keras and tensorflow\\introduction-to-deep-learning-with-keras\\.conda\\lib\\site-packages (from matplotlib==3.5.0) (0.12.1)\n",
      "Requirement already satisfied: fonttools>=4.22.0 in c:\\users\\admin\\development\\ibm deep learning with pytorch, keras and tensorflow\\introduction-to-deep-learning-with-keras\\.conda\\lib\\site-packages (from matplotlib==3.5.0) (4.55.0)\n",
      "Requirement already satisfied: kiwisolver>=1.0.1 in c:\\users\\admin\\development\\ibm deep learning with pytorch, keras and tensorflow\\introduction-to-deep-learning-with-keras\\.conda\\lib\\site-packages (from matplotlib==3.5.0) (1.4.7)\n",
      "Requirement already satisfied: numpy>=1.17 in c:\\users\\admin\\development\\ibm deep learning with pytorch, keras and tensorflow\\introduction-to-deep-learning-with-keras\\.conda\\lib\\site-packages (from matplotlib==3.5.0) (1.24.3)\n",
      "Requirement already satisfied: packaging>=20.0 in c:\\users\\admin\\development\\ibm deep learning with pytorch, keras and tensorflow\\introduction-to-deep-learning-with-keras\\.conda\\lib\\site-packages (from matplotlib==3.5.0) (24.1)\n",
      "Requirement already satisfied: pillow>=6.2.0 in c:\\users\\admin\\development\\ibm deep learning with pytorch, keras and tensorflow\\introduction-to-deep-learning-with-keras\\.conda\\lib\\site-packages (from matplotlib==3.5.0) (10.4.0)\n",
      "Requirement already satisfied: pyparsing>=2.2.1 in c:\\users\\admin\\development\\ibm deep learning with pytorch, keras and tensorflow\\introduction-to-deep-learning-with-keras\\.conda\\lib\\site-packages (from matplotlib==3.5.0) (3.1.4)\n",
      "Requirement already satisfied: python-dateutil>=2.7 in c:\\users\\admin\\development\\ibm deep learning with pytorch, keras and tensorflow\\introduction-to-deep-learning-with-keras\\.conda\\lib\\site-packages (from matplotlib==3.5.0) (2.9.0.post0)\n",
      "Requirement already satisfied: setuptools-scm>=4 in c:\\users\\admin\\development\\ibm deep learning with pytorch, keras and tensorflow\\introduction-to-deep-learning-with-keras\\.conda\\lib\\site-packages (from matplotlib==3.5.0) (8.1.0)\n",
      "Requirement already satisfied: six>=1.5 in c:\\users\\admin\\development\\ibm deep learning with pytorch, keras and tensorflow\\introduction-to-deep-learning-with-keras\\.conda\\lib\\site-packages (from python-dateutil>=2.7->matplotlib==3.5.0) (1.16.0)\n",
      "Requirement already satisfied: setuptools in c:\\users\\admin\\development\\ibm deep learning with pytorch, keras and tensorflow\\introduction-to-deep-learning-with-keras\\.conda\\lib\\site-packages (from setuptools-scm>=4->matplotlib==3.5.0) (75.1.0)\n",
      "Requirement already satisfied: typing-extensions in c:\\users\\admin\\development\\ibm deep learning with pytorch, keras and tensorflow\\introduction-to-deep-learning-with-keras\\.conda\\lib\\site-packages (from setuptools-scm>=4->matplotlib==3.5.0) (4.5.0)\n",
      "Requirement already satisfied: tomli>=1 in c:\\users\\admin\\development\\ibm deep learning with pytorch, keras and tensorflow\\introduction-to-deep-learning-with-keras\\.conda\\lib\\site-packages (from setuptools-scm>=4->matplotlib==3.5.0) (2.2.1)\n",
      "Note: you may need to restart the kernel to use updated packages.\n",
      "Note: you may need to restart the kernel to use updated packages.\n"
     ]
    },
    {
     "name": "stderr",
     "output_type": "stream",
     "text": [
      "ERROR: Could not find a version that satisfies the requirement pprint (from versions: none)\n",
      "ERROR: No matching distribution found for pprint\n"
     ]
    }
   ],
   "source": [
    "%pip install numpy==1.24.3\n",
    "%pip install pandas==1.3.4\n",
    "%pip install scikit-learn==0.23\n",
    "%pip install tensorflow==2.13.0\n",
    "%pip install matplotlib==3.5.0\n",
    "%pip install pprint"
   ]
  },
  {
   "cell_type": "markdown",
   "metadata": {},
   "source": [
    "# Import the required libraries"
   ]
  },
  {
   "cell_type": "code",
   "execution_count": 2,
   "metadata": {},
   "outputs": [],
   "source": [
    "import pandas as pd\n",
    "import numpy as np\n",
    "import keras\n",
    "import sklearn\n",
    "\n",
    "from keras.models import Sequential\n",
    "from keras.layers import Dense\n",
    "from sklearn.model_selection import train_test_split\n",
    "from sklearn.metrics import mean_squared_error\n",
    "\n",
    "from pprint import pprint"
   ]
  },
  {
   "cell_type": "markdown",
   "metadata": {},
   "source": [
    "# Download and Clean Dataset from https://cocl.us/concrete_data"
   ]
  },
  {
   "cell_type": "code",
   "execution_count": 3,
   "metadata": {},
   "outputs": [],
   "source": [
    "import requests\n",
    "r = requests.get('https://cocl.us/concrete_data')\n",
    "with open('concrete_data.csv', 'wb') as f:\n",
    "    f.write(r.content)"
   ]
  },
  {
   "cell_type": "code",
   "execution_count": 4,
   "metadata": {},
   "outputs": [
    {
     "data": {
      "text/plain": [
       "Cement                0\n",
       "Blast Furnace Slag    0\n",
       "Fly Ash               0\n",
       "Water                 0\n",
       "Superplasticizer      0\n",
       "Coarse Aggregate      0\n",
       "Fine Aggregate        0\n",
       "Age                   0\n",
       "Strength              0\n",
       "dtype: int64"
      ]
     },
     "execution_count": 4,
     "metadata": {},
     "output_type": "execute_result"
    }
   ],
   "source": [
    "concrete_data = pd.read_csv('concrete_data.csv')\n",
    "concrete_data.head()\n",
    "\n",
    "# check for missing values\n",
    "concrete_data.isnull().sum()"
   ]
  },
  {
   "cell_type": "markdown",
   "metadata": {},
   "source": [
    "# Split data into predictors and target"
   ]
  },
  {
   "cell_type": "code",
   "execution_count": 5,
   "metadata": {},
   "outputs": [],
   "source": [
    "concrete_data_columns = concrete_data.columns\n",
    "predictors = concrete_data[concrete_data_columns[concrete_data_columns != 'Strength']] # all columns except Strength\n",
    "target = concrete_data['Strength'] # Strength column"
   ]
  },
  {
   "cell_type": "markdown",
   "metadata": {},
   "source": [
    "# Normalize the data is by subtracting the mean from the individual predictors and dividing by the standard deviation."
   ]
  },
  {
   "cell_type": "code",
   "execution_count": 6,
   "metadata": {},
   "outputs": [],
   "source": [
    "predictors = (predictors - predictors.mean()) / predictors.std()\n",
    "# target_norm = (target - target.mean()) / target.std()"
   ]
  },
  {
   "cell_type": "markdown",
   "metadata": {},
   "source": [
    "# Use the Keras library to build a neural network with 3 hidden layers, each of 10 nodes and ReLU activation function. Use the adam optimizer and the mean squared error  as the loss function.\n",
    "\n"
   ]
  },
  {
   "cell_type": "code",
   "execution_count": 7,
   "metadata": {},
   "outputs": [
    {
     "name": "stdout",
     "output_type": "stream",
     "text": [
      "Model: \"sequential\"\n",
      "_________________________________________________________________\n",
      " Layer (type)                Output Shape              Param #   \n",
      "=================================================================\n",
      " dense (Dense)               (None, 10)                90        \n",
      "                                                                 \n",
      " dense_1 (Dense)             (None, 10)                110       \n",
      "                                                                 \n",
      " dense_2 (Dense)             (None, 10)                110       \n",
      "                                                                 \n",
      " dense_3 (Dense)             (None, 1)                 11        \n",
      "                                                                 \n",
      "=================================================================\n",
      "Total params: 321 (1.25 KB)\n",
      "Trainable params: 321 (1.25 KB)\n",
      "Non-trainable params: 0 (0.00 Byte)\n",
      "_________________________________________________________________\n"
     ]
    }
   ],
   "source": [
    "# Use the Keras library to build a neural network with three hidden layers, each of 10 nodes and ReLU activation function.. Use the adam optimizer and the mean squared error  as the loss function.\n",
    "model = Sequential()\n",
    "model.add(Dense(10, activation='relu', input_shape=(8,)))\n",
    "model.add(Dense(10, activation='relu'))\n",
    "model.add(Dense(10, activation='relu'))\n",
    "model.add(Dense(1))\n",
    "model.compile(optimizer='adam', loss='mean_squared_error')\n",
    "model.summary()"
   ]
  },
  {
   "cell_type": "markdown",
   "metadata": {},
   "source": [
    "# Randomly split the data into a training and test sets by holding 30% of the data for testing. Use the train_test_split helper function from Scikit-learn."
   ]
  },
  {
   "cell_type": "code",
   "execution_count": 8,
   "metadata": {},
   "outputs": [],
   "source": [
    "from sklearn.model_selection import train_test_split\n",
    "X_train, X_test, y_train, y_test = train_test_split(predictors, target, test_size=0.3, random_state=1)"
   ]
  },
  {
   "cell_type": "markdown",
   "metadata": {},
   "source": [
    "# Train the model on the training data using 50 epochs."
   ]
  },
  {
   "cell_type": "code",
   "execution_count": 9,
   "metadata": {},
   "outputs": [
    {
     "name": "stdout",
     "output_type": "stream",
     "text": [
      "Epoch 1/50\n",
      "23/23 - 1s - loss: 1536.2520 - 662ms/epoch - 29ms/step\n",
      "Epoch 2/50\n",
      "23/23 - 0s - loss: 1516.7883 - 19ms/epoch - 826us/step\n",
      "Epoch 3/50\n",
      "23/23 - 0s - loss: 1487.8416 - 19ms/epoch - 826us/step\n",
      "Epoch 4/50\n",
      "23/23 - 0s - loss: 1440.7382 - 19ms/epoch - 805us/step\n",
      "Epoch 5/50\n",
      "23/23 - 0s - loss: 1357.3538 - 19ms/epoch - 826us/step\n",
      "Epoch 6/50\n",
      "23/23 - 0s - loss: 1222.6984 - 21ms/epoch - 916us/step\n",
      "Epoch 7/50\n",
      "23/23 - 0s - loss: 1020.0544 - 18ms/epoch - 783us/step\n",
      "Epoch 8/50\n",
      "23/23 - 0s - loss: 763.3630 - 19ms/epoch - 826us/step\n",
      "Epoch 9/50\n",
      "23/23 - 0s - loss: 508.3513 - 32ms/epoch - 1ms/step\n",
      "Epoch 10/50\n",
      "23/23 - 0s - loss: 340.9871 - 32ms/epoch - 1ms/step\n",
      "Epoch 11/50\n",
      "23/23 - 0s - loss: 274.5055 - 33ms/epoch - 1ms/step\n",
      "Epoch 12/50\n",
      "23/23 - 0s - loss: 242.5791 - 29ms/epoch - 1ms/step\n",
      "Epoch 13/50\n",
      "23/23 - 0s - loss: 219.6234 - 21ms/epoch - 913us/step\n",
      "Epoch 14/50\n",
      "23/23 - 0s - loss: 205.0317 - 21ms/epoch - 918us/step\n",
      "Epoch 15/50\n",
      "23/23 - 0s - loss: 193.1330 - 20ms/epoch - 874us/step\n",
      "Epoch 16/50\n",
      "23/23 - 0s - loss: 184.3568 - 18ms/epoch - 761us/step\n",
      "Epoch 17/50\n",
      "23/23 - 0s - loss: 177.7925 - 18ms/epoch - 783us/step\n",
      "Epoch 18/50\n",
      "23/23 - 0s - loss: 172.4403 - 19ms/epoch - 826us/step\n",
      "Epoch 19/50\n",
      "23/23 - 0s - loss: 168.0470 - 21ms/epoch - 904us/step\n",
      "Epoch 20/50\n",
      "23/23 - 0s - loss: 163.6719 - 18ms/epoch - 783us/step\n",
      "Epoch 21/50\n",
      "23/23 - 0s - loss: 160.1913 - 19ms/epoch - 833us/step\n",
      "Epoch 22/50\n",
      "23/23 - 0s - loss: 157.3121 - 20ms/epoch - 870us/step\n",
      "Epoch 23/50\n",
      "23/23 - 0s - loss: 154.0704 - 20ms/epoch - 870us/step\n",
      "Epoch 24/50\n",
      "23/23 - 0s - loss: 151.3425 - 18ms/epoch - 783us/step\n",
      "Epoch 25/50\n",
      "23/23 - 0s - loss: 148.8554 - 19ms/epoch - 839us/step\n",
      "Epoch 26/50\n",
      "23/23 - 0s - loss: 146.5380 - 19ms/epoch - 805us/step\n",
      "Epoch 27/50\n",
      "23/23 - 0s - loss: 144.3367 - 18ms/epoch - 783us/step\n",
      "Epoch 28/50\n",
      "23/23 - 0s - loss: 142.2469 - 18ms/epoch - 783us/step\n",
      "Epoch 29/50\n",
      "23/23 - 0s - loss: 140.0184 - 19ms/epoch - 826us/step\n",
      "Epoch 30/50\n",
      "23/23 - 0s - loss: 138.0021 - 19ms/epoch - 823us/step\n",
      "Epoch 31/50\n",
      "23/23 - 0s - loss: 136.0219 - 18ms/epoch - 761us/step\n",
      "Epoch 32/50\n",
      "23/23 - 0s - loss: 134.1430 - 18ms/epoch - 783us/step\n",
      "Epoch 33/50\n",
      "23/23 - 0s - loss: 132.2592 - 18ms/epoch - 783us/step\n",
      "Epoch 34/50\n",
      "23/23 - 0s - loss: 130.4002 - 19ms/epoch - 826us/step\n",
      "Epoch 35/50\n",
      "23/23 - 0s - loss: 128.5596 - 19ms/epoch - 817us/step\n",
      "Epoch 36/50\n",
      "23/23 - 0s - loss: 127.3937 - 19ms/epoch - 805us/step\n",
      "Epoch 37/50\n",
      "23/23 - 0s - loss: 125.2811 - 19ms/epoch - 826us/step\n",
      "Epoch 38/50\n",
      "23/23 - 0s - loss: 123.8309 - 18ms/epoch - 783us/step\n",
      "Epoch 39/50\n",
      "23/23 - 0s - loss: 122.1753 - 19ms/epoch - 833us/step\n",
      "Epoch 40/50\n",
      "23/23 - 0s - loss: 120.1811 - 19ms/epoch - 829us/step\n",
      "Epoch 41/50\n",
      "23/23 - 0s - loss: 118.9333 - 18ms/epoch - 786us/step\n",
      "Epoch 42/50\n",
      "23/23 - 0s - loss: 117.5397 - 19ms/epoch - 826us/step\n",
      "Epoch 43/50\n",
      "23/23 - 0s - loss: 115.4823 - 18ms/epoch - 783us/step\n",
      "Epoch 44/50\n",
      "23/23 - 0s - loss: 114.0308 - 18ms/epoch - 783us/step\n",
      "Epoch 45/50\n",
      "23/23 - 0s - loss: 112.5807 - 20ms/epoch - 870us/step\n",
      "Epoch 46/50\n",
      "23/23 - 0s - loss: 110.8969 - 19ms/epoch - 821us/step\n",
      "Epoch 47/50\n",
      "23/23 - 0s - loss: 109.4434 - 19ms/epoch - 826us/step\n",
      "Epoch 48/50\n",
      "23/23 - 0s - loss: 107.5769 - 20ms/epoch - 870us/step\n",
      "Epoch 49/50\n",
      "23/23 - 0s - loss: 106.0547 - 21ms/epoch - 913us/step\n",
      "Epoch 50/50\n",
      "23/23 - 0s - loss: 104.6208 - 20ms/epoch - 870us/step\n"
     ]
    },
    {
     "data": {
      "text/plain": [
       "<keras.src.callbacks.History at 0x2431e086820>"
      ]
     },
     "execution_count": 9,
     "metadata": {},
     "output_type": "execute_result"
    }
   ],
   "source": [
    "model.fit(X_train, y_train, epochs=50, verbose=2)"
   ]
  },
  {
   "cell_type": "markdown",
   "metadata": {},
   "source": [
    "# Evaluate the model on the test data and compute the mean squared error between the predicted concrete strength and the actual concrete strength. Use the mean_squared_error function from Scikit-learn."
   ]
  },
  {
   "cell_type": "code",
   "execution_count": 10,
   "metadata": {},
   "outputs": [
    {
     "name": "stdout",
     "output_type": "stream",
     "text": [
      "10/10 [==============================] - 0s 778us/step\n",
      "Mean squared error: 126.30516163808277\n"
     ]
    }
   ],
   "source": [
    "y_pred = model.predict(X_test)\n",
    "mse = mean_squared_error(y_test, y_pred)\n",
    "print('Mean squared error:', mse)"
   ]
  },
  {
   "cell_type": "markdown",
   "metadata": {},
   "source": [
    "# Repeat steps 1 - 3, 50 times, i.e., create a list of 50 mean squared errors."
   ]
  },
  {
   "cell_type": "code",
   "execution_count": 11,
   "metadata": {},
   "outputs": [
    {
     "name": "stdout",
     "output_type": "stream",
     "text": [
      "10/10 [==============================] - 0s 1ms/step\n",
      "10/10 [==============================] - 0s 940us/step\n",
      "10/10 [==============================] - 0s 954us/step\n",
      "10/10 [==============================] - 0s 1ms/step\n",
      "10/10 [==============================] - 0s 1ms/step\n",
      "10/10 [==============================] - 0s 889us/step\n",
      "10/10 [==============================] - 0s 857us/step\n",
      "10/10 [==============================] - 0s 889us/step\n",
      "10/10 [==============================] - 0s 694us/step\n",
      "10/10 [==============================] - 0s 779us/step\n",
      "10/10 [==============================] - 0s 1ms/step\n",
      "10/10 [==============================] - 0s 1ms/step\n",
      "10/10 [==============================] - 0s 1ms/step\n",
      "10/10 [==============================] - 0s 775us/step\n",
      "10/10 [==============================] - 0s 914us/step\n",
      "10/10 [==============================] - 0s 889us/step\n",
      "10/10 [==============================] - 0s 778us/step\n",
      "10/10 [==============================] - 0s 776us/step\n",
      "10/10 [==============================] - 0s 671us/step\n",
      "10/10 [==============================] - 0s 909us/step\n",
      "10/10 [==============================] - 0s 889us/step\n",
      "10/10 [==============================] - 0s 845us/step\n",
      "10/10 [==============================] - 0s 890us/step\n",
      "10/10 [==============================] - 0s 986us/step\n",
      "10/10 [==============================] - 0s 938us/step\n",
      "10/10 [==============================] - 0s 942us/step\n",
      "10/10 [==============================] - 0s 846us/step\n",
      "10/10 [==============================] - 0s 858us/step\n",
      "10/10 [==============================] - 0s 778us/step\n",
      "10/10 [==============================] - 0s 1ms/step\n",
      "10/10 [==============================] - 0s 890us/step\n",
      "10/10 [==============================] - 0s 821us/step\n",
      "10/10 [==============================] - 0s 879us/step\n",
      "10/10 [==============================] - 0s 1ms/step\n",
      "10/10 [==============================] - 0s 969us/step\n",
      "10/10 [==============================] - 0s 779us/step\n",
      "10/10 [==============================] - 0s 890us/step\n",
      "10/10 [==============================] - 0s 778us/step\n",
      "10/10 [==============================] - 0s 784us/step\n",
      "10/10 [==============================] - 0s 778us/step\n",
      "10/10 [==============================] - 0s 779us/step\n",
      "10/10 [==============================] - 0s 851us/step\n",
      "10/10 [==============================] - 0s 1ms/step\n",
      "10/10 [==============================] - 0s 1ms/step\n",
      "10/10 [==============================] - 0s 1ms/step\n",
      "10/10 [==============================] - 0s 971us/step\n",
      "10/10 [==============================] - 0s 1ms/step\n",
      "10/10 [==============================] - 0s 666us/step\n",
      "10/10 [==============================] - 0s 775us/step\n",
      "10/10 [==============================] - 0s 890us/step\n"
     ]
    }
   ],
   "source": [
    "mse_list = []\n",
    "for i in range(50):\n",
    "    X_train, X_test, y_train, y_test = train_test_split(predictors, target, test_size=0.3, random_state=i+2)\n",
    "    model.fit(X_train, y_train, epochs=50, verbose=0)\n",
    "    y_pred = model.predict(X_test)\n",
    "    mse = mean_squared_error(y_test, y_pred)\n",
    "    mse_list.append(mse)"
   ]
  },
  {
   "cell_type": "markdown",
   "metadata": {},
   "source": [
    "# Report the mean and the standard deviation of the mean squared errors."
   ]
  },
  {
   "cell_type": "code",
   "execution_count": 12,
   "metadata": {},
   "outputs": [
    {
     "name": "stdout",
     "output_type": "stream",
     "text": [
      "Mean of mean squared errors: 26.219800966566694\n",
      "Standard deviation of mean squared errors: 8.604348108449269\n",
      "[61.6071662822773,\n",
      " 51.943246170026256,\n",
      " 42.83869388193538,\n",
      " 39.30678218017656,\n",
      " 46.67575058980777,\n",
      " 30.998085195194356,\n",
      " 34.0847164974794,\n",
      " 30.086386829511977,\n",
      " 30.21880290399695,\n",
      " 23.82724875393723,\n",
      " 29.733309708731145,\n",
      " 31.33840327521273,\n",
      " 26.711315467667276,\n",
      " 20.848131330684247,\n",
      " 24.371892113623396,\n",
      " 25.509652333916733,\n",
      " 24.286785054003506,\n",
      " 28.447564691713662,\n",
      " 25.689279829107445,\n",
      " 26.117276618981528,\n",
      " 19.981134161125887,\n",
      " 24.730551589195965,\n",
      " 23.910316736350588,\n",
      " 27.17132102403807,\n",
      " 22.751980825126893,\n",
      " 22.87377097648771,\n",
      " 27.183475699199818,\n",
      " 25.72365054170694,\n",
      " 20.5191749807741,\n",
      " 18.731189792380928,\n",
      " 19.724013152408283,\n",
      " 21.002012104615574,\n",
      " 22.719436833106084,\n",
      " 23.82972860420105,\n",
      " 18.73349950902132,\n",
      " 20.785104817018542,\n",
      " 22.002074412000454,\n",
      " 20.079243180426086,\n",
      " 21.41407534105047,\n",
      " 21.029026888584276,\n",
      " 21.837020766287992,\n",
      " 22.102377869034665,\n",
      " 24.805154554509034,\n",
      " 19.715234947348872,\n",
      " 20.25649602185694,\n",
      " 18.878622335760642,\n",
      " 20.355233149490893,\n",
      " 21.04934841126897,\n",
      " 20.89546471217304,\n",
      " 21.559824683799967]\n"
     ]
    }
   ],
   "source": [
    "print('Mean of mean squared errors:', np.mean(mse_list))\n",
    "print('Standard deviation of mean squared errors:', np.std(mse_list))\n",
    "pprint(mse_list)"
   ]
  },
  {
   "cell_type": "markdown",
   "metadata": {},
   "source": [
    "# How does the mean of the mean squared errors compare to that from Step B?"
   ]
  },
  {
   "cell_type": "markdown",
   "metadata": {},
   "source": [
    "In step B the mean of the mean squared error was 41.734891844177355. In this step the mean of the mean squared error equals 26.219800966566694.\n",
    "The mean squared error is lower when compared to step A. The increased number of hidden layesr lowered the mean of the mean squared error."
   ]
  }
 ],
 "metadata": {
  "kernelspec": {
   "display_name": "Python 3",
   "language": "python",
   "name": "python3"
  },
  "language_info": {
   "codemirror_mode": {
    "name": "ipython",
    "version": 3
   },
   "file_extension": ".py",
   "mimetype": "text/x-python",
   "name": "python",
   "nbconvert_exporter": "python",
   "pygments_lexer": "ipython3",
   "version": "3.8.20"
  }
 },
 "nbformat": 4,
 "nbformat_minor": 2
}
