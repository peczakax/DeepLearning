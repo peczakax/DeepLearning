{
 "cells": [
  {
   "cell_type": "markdown",
   "id": "41132e46-33cf-4963-af3a-580521077382",
   "metadata": {},
   "source": [
    "<img src=\"https://cf-courses-data.s3.us.cloud-object-storage.appdomain.cloud/BQm_EV6i0_j80CQZ8vcLvw/SN-web-lightmode.png\" width=300 height=300 />\n"
   ]
  },
  {
   "cell_type": "markdown",
   "id": "1bac321e-d96a-40e4-ac0e-3276218c8faf",
   "metadata": {},
   "source": [
    "## Lab: Implementing the Functional API in Keras \n",
    "\n",
    "**Estimated time needed: 30 minutes**\n",
    "\n",
    "In this lab, you will implement Keras functional API to build a neural network model. This lab will guide you through the steps of creating an input layer, adding hidden layers, and defining an output layer using the Functional API. \n",
    "\n",
    "##### Learning objectives: \n",
    "\n",
    "By the end of this lab, you will: \n",
    "\n",
    "- Use the Keras Functional API to build a simple neural network model. \n",
    "\n",
    "- Create an input layer, add hidden layers, and define an output layer using the Functional API. \n",
    "\n",
    "##### Prerequisites: \n",
    "\n",
    "- Basic understanding of Python programming \n",
    "\n",
    "- Familiarity with neural network concepts\n",
    "  \n",
    "- Keras and TensorFlow installed\n",
    "\n",
    "\n"
   ]
  },
  {
   "cell_type": "markdown",
   "id": "889f5313-70ea-4cbc-93d6-86bf73501947",
   "metadata": {},
   "source": [
    "#### Steps: \n",
    "**Step 1: Import Necessary Libraries**\n",
    "\n",
    "Before you start, make sure to import the required libraries: TensorFlow and Keras. Keras is included within TensorFlow as `tensorflow.keras`. \n"
   ]
  },
  {
   "cell_type": "code",
   "execution_count": null,
   "id": "b7a6c9c6-fc07-471c-965e-57e8ac5d82d6",
   "metadata": {},
   "outputs": [],
   "source": [
    "# Install TensorFlow\n",
    "%pip install tensorflow==2.16.2"
   ]
  },
  {
   "cell_type": "code",
   "execution_count": 1,
   "metadata": {},
   "outputs": [],
   "source": [
    "import tensorflow as tf \n",
    "from tensorflow.keras.models import Model \n",
    "from tensorflow.keras.layers import Input, Dense \n",
    "import warnings\n",
    "warnings.filterwarnings('ignore', category=UserWarning, module='tensorflow')"
   ]
  },
  {
   "cell_type": "markdown",
   "id": "446eeb6d-246a-4201-93e5-7f27cd6023c3",
   "metadata": {},
   "source": [
    "**Explanation:**\n",
    "\n",
    "`!pip install tensorflow==2.16.2` installs the specified version of TensorFlow.\n",
    "\n",
    " `tensorflow` is the main library for machine learning in Python. \n",
    "\n",
    " `Model` is used to create a model with the Functional API. \n",
    "\n",
    " `Input` and `Dense` are types of layers that you will use in your model. \n",
    "\n",
    " \n",
    "**Step 2: Define the Input Layer**\n",
    "\n",
    "You will define the input shape for your model. For simplicity, let's assume you are working with a dataset where each input is a vector of length 20. \n",
    "\n",
    " \n"
   ]
  },
  {
   "cell_type": "code",
   "execution_count": 2,
   "id": "45164301-2de9-469a-9815-7a574674d14c",
   "metadata": {},
   "outputs": [
    {
     "name": "stdout",
     "output_type": "stream",
     "text": [
      "KerasTensor(type_spec=TensorSpec(shape=(None, 20), dtype=tf.float32, name='input_1'), name='input_1', description=\"created by layer 'input_1'\")\n"
     ]
    }
   ],
   "source": [
    "input_layer = Input(shape=(20,))\n",
    "print(input_layer)"
   ]
  },
  {
   "cell_type": "markdown",
   "id": "f4434c55-d73b-476c-acb9-17c633cf3817",
   "metadata": {},
   "source": [
    "**Explanation:**\n",
    "\n",
    "`Input(shape=(20,))` creates an input layer that expects input vectors of length 20.\n",
    "\n",
    "`print(input_layer)` shows the layer information, helping you understand the type of information you can get about the layers.\n"
   ]
  },
  {
   "cell_type": "markdown",
   "id": "665c5704-5ce4-4209-83f2-16915383e981",
   "metadata": {},
   "source": [
    "**Step 3: Add Hidden Layers**\n",
    "\n",
    "Next, you will add a couple of hidden layers to your model. Hidden layers help the model learn complex patterns in the data.\n"
   ]
  },
  {
   "cell_type": "code",
   "execution_count": 3,
   "id": "40886bb5-ac4e-4b74-b83b-7aa0b6626e83",
   "metadata": {},
   "outputs": [],
   "source": [
    "hidden_layer1 = Dense(64, activation='relu')(input_layer) \n",
    "hidden_layer2 = Dense(64, activation='relu')(hidden_layer1) "
   ]
  },
  {
   "cell_type": "markdown",
   "id": "3d1d3d38-d6f8-43de-aaa8-9dd72ede15d6",
   "metadata": {},
   "source": [
    "**Explanation:**\n",
    "\n",
    "`Dense(64, activation='relu')` creates a dense (fully connected) layer with 64 units and ReLU activation function. \n",
    "\n",
    "Each hidden layer takes the output of the previous layer as its input. \n",
    "\n",
    "**Step 4: Define the Output Layer**\n",
    "\n",
    "Finally, you will define the output layer. Suppose you are working on a binary classification problem, so the output layer will have one unit with a sigmoid activation function. \n"
   ]
  },
  {
   "cell_type": "code",
   "execution_count": 4,
   "id": "776dfb8a-afc0-4335-8033-9dbea0f39170",
   "metadata": {},
   "outputs": [],
   "source": [
    "output_layer = Dense(1, activation='sigmoid')(hidden_layer2) "
   ]
  },
  {
   "cell_type": "markdown",
   "id": "d4f8c587-3886-419f-8181-ab3e70df745a",
   "metadata": {},
   "source": [
    "**Explanation:**\n",
    "\n",
    "`Dense(1, activation='sigmoid')` creates a dense layer with 1 unit and a sigmoid activation function, suitable for binary classification. \n",
    "\n",
    "**Step 5: Create the Model**\n",
    "\n",
    "Now, you will create the model by specifying the input and output layers. \n"
   ]
  },
  {
   "cell_type": "code",
   "execution_count": 5,
   "id": "b02a84cd-0153-4518-b8f1-6a64e91af2ad",
   "metadata": {},
   "outputs": [
    {
     "name": "stdout",
     "output_type": "stream",
     "text": [
      "Model: \"model\"\n",
      "_________________________________________________________________\n",
      " Layer (type)                Output Shape              Param #   \n",
      "=================================================================\n",
      " input_1 (InputLayer)        [(None, 20)]              0         \n",
      "                                                                 \n",
      " dense (Dense)               (None, 64)                1344      \n",
      "                                                                 \n",
      " dense_1 (Dense)             (None, 64)                4160      \n",
      "                                                                 \n",
      " dense_2 (Dense)             (None, 1)                 65        \n",
      "                                                                 \n",
      "=================================================================\n",
      "Total params: 5569 (21.75 KB)\n",
      "Trainable params: 5569 (21.75 KB)\n",
      "Non-trainable params: 0 (0.00 Byte)\n",
      "_________________________________________________________________\n"
     ]
    }
   ],
   "source": [
    "model = Model(inputs=input_layer, outputs=output_layer)\n",
    "model.summary()"
   ]
  },
  {
   "cell_type": "markdown",
   "id": "e05d5f6e-f968-4aed-892c-98733cdc30ef",
   "metadata": {},
   "source": [
    "**Explanation:**\n",
    "\n",
    "`Model(inputs=input_layer, outputs=output_layer)` creates a Keras model that connects the input layer to the output layer through the hidden layers. \n",
    "\n",
    "`model.summary()` provides a summary of the model, showing the layers, their shapes, and the number of parameters. This helps you interpret the model architecture.\n"
   ]
  },
  {
   "cell_type": "markdown",
   "id": "74d633bd-dd59-437f-a248-4b8d79a27e21",
   "metadata": {},
   "source": [
    "**Step 6: Compile the Model**\n",
    "\n",
    "Before training the model, you need to compile it. You will specify the loss function, optimizer, and evaluation metrics. \n"
   ]
  },
  {
   "cell_type": "code",
   "execution_count": 6,
   "id": "ea958130-2b3f-4c9f-a659-d59cc8ad69a1",
   "metadata": {},
   "outputs": [],
   "source": [
    "model.compile(optimizer='adam', loss='binary_crossentropy', metrics=['accuracy'])"
   ]
  },
  {
   "cell_type": "markdown",
   "id": "4b5d976c-71ce-43c2-80f8-67b9442a59d3",
   "metadata": {},
   "source": [
    "**Explanation:**\n",
    "\n",
    "`optimizer='adam'` specifies the Adam optimizer, a popular choice for training neural networks. \n",
    "\n",
    "`loss='binary_crossentropy'` specifies the loss function for binary classification problems. \n",
    "\n",
    "`metrics=['accuracy']` instructs Keras to evaluate the model using accuracy during training. \n",
    "\n",
    "**Step 7: Train the Model**\n",
    "\n",
    "You can now train the model using training data. For this example, let's assume `X_train` is your training input data and `y_train` is the corresponding label. \n"
   ]
  },
  {
   "cell_type": "code",
   "execution_count": 7,
   "id": "0fec2add-af51-4b4d-b3e9-5e627016702e",
   "metadata": {},
   "outputs": [
    {
     "name": "stdout",
     "output_type": "stream",
     "text": [
      "Epoch 1/10\n",
      "32/32 [==============================] - 1s 1ms/step - loss: 0.6992 - accuracy: 0.4890\n",
      "Epoch 2/10\n",
      "32/32 [==============================] - 0s 1000us/step - loss: 0.6884 - accuracy: 0.5450\n",
      "Epoch 3/10\n",
      "32/32 [==============================] - 0s 1ms/step - loss: 0.6862 - accuracy: 0.5480\n",
      "Epoch 4/10\n",
      "32/32 [==============================] - 0s 1000us/step - loss: 0.6811 - accuracy: 0.5700\n",
      "Epoch 5/10\n",
      "32/32 [==============================] - 0s 1ms/step - loss: 0.6810 - accuracy: 0.5760\n",
      "Epoch 6/10\n",
      "32/32 [==============================] - 0s 1ms/step - loss: 0.6772 - accuracy: 0.5790\n",
      "Epoch 7/10\n",
      "32/32 [==============================] - 0s 1000us/step - loss: 0.6739 - accuracy: 0.5910\n",
      "Epoch 8/10\n",
      "32/32 [==============================] - 0s 1ms/step - loss: 0.6702 - accuracy: 0.5920\n",
      "Epoch 9/10\n",
      "32/32 [==============================] - 0s 1ms/step - loss: 0.6680 - accuracy: 0.6040\n",
      "Epoch 10/10\n",
      "32/32 [==============================] - 0s 986us/step - loss: 0.6638 - accuracy: 0.6260\n"
     ]
    },
    {
     "data": {
      "text/plain": [
       "<keras.src.callbacks.History at 0x1929592e730>"
      ]
     },
     "execution_count": 7,
     "metadata": {},
     "output_type": "execute_result"
    }
   ],
   "source": [
    "# Example data (in practice, use real dataset) \n",
    "\n",
    "import numpy as np \n",
    "X_train = np.random.rand(1000, 20) \n",
    "y_train = np.random.randint(2, size=(1000, 1)) \n",
    "model.fit(X_train, y_train, epochs=10, batch_size=32) "
   ]
  },
  {
   "cell_type": "markdown",
   "id": "90be1b21-dd94-4f2a-8431-e35e1c4f2bed",
   "metadata": {},
   "source": [
    "**Explanation:**\n",
    "\n",
    "`X_train` and `y_train` are placeholders for your actual training data. \n",
    "\n",
    "`model.fit` trains the model for a specified number of epochs and batch size. \n",
    "\n",
    "**Step 8: Evaluate the Model**\n",
    "\n",
    "After training, you can evaluate the model on test data to see how well it performs. \n"
   ]
  },
  {
   "cell_type": "code",
   "execution_count": 8,
   "id": "b43d686e-8c08-4a4b-9f9d-7022d33fbde3",
   "metadata": {},
   "outputs": [
    {
     "name": "stdout",
     "output_type": "stream",
     "text": [
      "7/7 [==============================] - 0s 2ms/step - loss: 0.6961 - accuracy: 0.5700\n",
      "Test loss: 0.6960760354995728\n",
      "Test accuracy: 0.5699999928474426\n"
     ]
    }
   ],
   "source": [
    "# Example test data (in practice, use real dataset) \n",
    "\n",
    "X_test = np.random.rand(200, 20) \n",
    "y_test = np.random.randint(2, size=(200, 1)) \n",
    "loss, accuracy = model.evaluate(X_test, y_test) \n",
    "print(f'Test loss: {loss}') \n",
    "print(f'Test accuracy: {accuracy}') "
   ]
  },
  {
   "cell_type": "markdown",
   "id": "92a17eda-cc10-43c8-8f90-415a84f30f9c",
   "metadata": {},
   "source": [
    "**Explanation:**\n",
    "\n",
    "`model.evaluate` computes the loss and accuracy of the model on test data. \n",
    "\n",
    "`X_test` and `y_test` are placeholders for your actual test data. \n"
   ]
  },
  {
   "cell_type": "markdown",
   "id": "67967e91-9931-4399-8333-94ef2eb66fb6",
   "metadata": {},
   "source": [
    "### Dropout and Batch Normalization\n",
    "\n",
    "Before we proceed with the practice exercise, let's briefly discuss two important techniques often used to improve the performance of neural networks: **Dropout Layers** and **Batch Normalization**.\n",
    "\n",
    "#### Dropout Layers\n",
    "\n",
    "Dropout is a regularization technique that helps prevent overfitting in neural networks. During training, Dropout randomly sets a fraction of input units to zero at each update cycle. This prevents the model from becoming overly reliant on any specific neurons, which encourages the network to learn more robust features that generalize better to unseen data.\n",
    "\n",
    "**Key points:**\n",
    "- Dropout is only applied during training, not during inference.\n",
    "- The dropout rate is a hyperparameter that determines the fraction of neurons to drop.\n",
    "\n",
    "\n",
    "#### Batch Normalization\n",
    "\n",
    "Batch Normalization is a technique used to improve the training stability and speed of neural networks. It normalizes the output of a previous layer by re-centering and re-scaling the data, which helps in stabilizing the learning process. By reducing the internal covariate shift (the changes in the distribution of layer inputs), batch normalization allows the model to use higher learning rates, which often speeds up convergence.\n",
    "\n",
    "**Key Points:**\n",
    "\n",
    "- Batch normalization works by normalizing the inputs to each layer to have a mean of zero and a variance of one.\n",
    "- It is applied during both training and inference, although its behavior varies slightly between the two phases.\n",
    "- Batch normalization layers also introduce two learnable parameters that allow the model to scale and - shift the normalized output, which helps in restoring the model's representational power.\n"
   ]
  },
  {
   "cell_type": "markdown",
   "id": "c8e7da9c-bada-431e-a5f1-ca4d1eb35197",
   "metadata": {},
   "source": [
    "**Example of adding a Dropout layer in Keras:**\n"
   ]
  },
  {
   "cell_type": "code",
   "execution_count": 9,
   "id": "21e23cf5-ef9c-4701-8de5-870fe5305c83",
   "metadata": {},
   "outputs": [
    {
     "name": "stdout",
     "output_type": "stream",
     "text": [
      "Model: \"model_1\"\n",
      "_________________________________________________________________\n",
      " Layer (type)                Output Shape              Param #   \n",
      "=================================================================\n",
      " input_2 (InputLayer)        [(None, 20)]              0         \n",
      "                                                                 \n",
      " dense_3 (Dense)             (None, 64)                1344      \n",
      "                                                                 \n",
      " dropout (Dropout)           (None, 64)                0         \n",
      "                                                                 \n",
      " dense_4 (Dense)             (None, 64)                4160      \n",
      "                                                                 \n",
      " dense_5 (Dense)             (None, 1)                 65        \n",
      "                                                                 \n",
      "=================================================================\n",
      "Total params: 5569 (21.75 KB)\n",
      "Trainable params: 5569 (21.75 KB)\n",
      "Non-trainable params: 0 (0.00 Byte)\n",
      "_________________________________________________________________\n"
     ]
    }
   ],
   "source": [
    "from tensorflow.keras.layers import Dropout, Dense, Input\n",
    "from tensorflow.keras.models import Model\n",
    "\n",
    "# Define the input layer\n",
    "input_layer = Input(shape=(20,))\n",
    "\n",
    "# Add a hidden layer\n",
    "hidden_layer = Dense(64, activation='relu')(input_layer)\n",
    "\n",
    "# Add a Dropout layer\n",
    "dropout_layer = Dropout(rate=0.5)(hidden_layer)\n",
    "\n",
    "# Add another hidden layer after Dropout\n",
    "hidden_layer2 = Dense(64, activation='relu')(dropout_layer)\n",
    "\n",
    "# Define the output layer\n",
    "output_layer = Dense(1, activation='sigmoid')(hidden_layer2)\n",
    "\n",
    "# Create the model\n",
    "model = Model(inputs=input_layer, outputs=output_layer)\n",
    "\n",
    "# Summary of the model\n",
    "model.summary()\n"
   ]
  },
  {
   "cell_type": "markdown",
   "id": "b384190b-ed08-41a6-8786-2bcd7b309921",
   "metadata": {},
   "source": [
    "**Example of adding Batch Normalization in Keras:**\n"
   ]
  },
  {
   "cell_type": "code",
   "execution_count": 10,
   "id": "679a4d2c-19bd-4d29-b78e-8b5cf6d4e074",
   "metadata": {},
   "outputs": [
    {
     "name": "stdout",
     "output_type": "stream",
     "text": [
      "Model: \"model_2\"\n",
      "_________________________________________________________________\n",
      " Layer (type)                Output Shape              Param #   \n",
      "=================================================================\n",
      " input_3 (InputLayer)        [(None, 20)]              0         \n",
      "                                                                 \n",
      " dense_6 (Dense)             (None, 64)                1344      \n",
      "                                                                 \n",
      " batch_normalization (Batch  (None, 64)                256       \n",
      " Normalization)                                                  \n",
      "                                                                 \n",
      " dense_7 (Dense)             (None, 64)                4160      \n",
      "                                                                 \n",
      " dense_8 (Dense)             (None, 1)                 65        \n",
      "                                                                 \n",
      "=================================================================\n",
      "Total params: 5825 (22.75 KB)\n",
      "Trainable params: 5697 (22.25 KB)\n",
      "Non-trainable params: 128 (512.00 Byte)\n",
      "_________________________________________________________________\n"
     ]
    }
   ],
   "source": [
    "from tensorflow.keras.layers import BatchNormalization, Dense, Input\n",
    "from tensorflow.keras.models import Model\n",
    "\n",
    "# Define the input layer\n",
    "input_layer = Input(shape=(20,))\n",
    "\n",
    "# Add a hidden layer\n",
    "hidden_layer = Dense(64, activation='relu')(input_layer)\n",
    "\n",
    "# Add a BatchNormalization layer\n",
    "batch_norm_layer = BatchNormalization()(hidden_layer)\n",
    "\n",
    "# Add another hidden layer after BatchNormalization\n",
    "hidden_layer2 = Dense(64, activation='relu')(batch_norm_layer)\n",
    "\n",
    "# Define the output layer\n",
    "output_layer = Dense(1, activation='sigmoid')(hidden_layer2)\n",
    "\n",
    "# Create the model\n",
    "model = Model(inputs=input_layer, outputs=output_layer)\n",
    "\n",
    "# Summary of the model\n",
    "model.summary()"
   ]
  },
  {
   "cell_type": "markdown",
   "id": "c8b10de4-bfc4-459e-8b1a-ba4eee7e9b9c",
   "metadata": {},
   "source": [
    "### Practice exercises\n"
   ]
  },
  {
   "cell_type": "markdown",
   "id": "95df2827-1728-4d09-bc04-22f7450ae8b4",
   "metadata": {},
   "source": [
    "#### Exercise 1: Add Dropout Layers\n",
    "\n",
    "**Objective:** Learn to add dropout layers to prevent overfitting.\n",
    "\n",
    "**Instructions:**\n",
    "1. Add dropout layers after each hidden layer in the model.\n",
    "2. Set the dropout rate to 0.5.\n",
    "3. Recompile, train, and evaluate the model.\n"
   ]
  },
  {
   "cell_type": "code",
   "execution_count": 13,
   "id": "c7cc943f-cc09-4c42-994f-8ee068885e49",
   "metadata": {},
   "outputs": [
    {
     "name": "stdout",
     "output_type": "stream",
     "text": [
      "Model: \"model_5\"\n",
      "_________________________________________________________________\n",
      " Layer (type)                Output Shape              Param #   \n",
      "=================================================================\n",
      " input_6 (InputLayer)        [(None, 20)]              0         \n",
      "                                                                 \n",
      " dense_15 (Dense)            (None, 64)                1344      \n",
      "                                                                 \n",
      " dropout_4 (Dropout)         (None, 64)                0         \n",
      "                                                                 \n",
      " dense_16 (Dense)            (None, 64)                4160      \n",
      "                                                                 \n",
      " dropout_5 (Dropout)         (None, 64)                0         \n",
      "                                                                 \n",
      " dense_17 (Dense)            (None, 1)                 65        \n",
      "                                                                 \n",
      "=================================================================\n",
      "Total params: 5569 (21.75 KB)\n",
      "Trainable params: 5569 (21.75 KB)\n",
      "Non-trainable params: 0 (0.00 Byte)\n",
      "_________________________________________________________________\n",
      "Epoch 1/10\n",
      "32/32 [==============================] - 1s 1ms/step - loss: 0.7015 - accuracy: 0.5290\n",
      "Epoch 2/10\n",
      "32/32 [==============================] - 0s 1ms/step - loss: 0.7086 - accuracy: 0.4780\n",
      "Epoch 3/10\n",
      "32/32 [==============================] - 0s 1ms/step - loss: 0.7028 - accuracy: 0.4910\n",
      "Epoch 4/10\n",
      "32/32 [==============================] - 0s 1ms/step - loss: 0.6982 - accuracy: 0.5070\n",
      "Epoch 5/10\n",
      "32/32 [==============================] - 0s 1ms/step - loss: 0.6871 - accuracy: 0.5390\n",
      "Epoch 6/10\n",
      "32/32 [==============================] - 0s 1ms/step - loss: 0.6963 - accuracy: 0.5150\n",
      "Epoch 7/10\n",
      "32/32 [==============================] - 0s 1ms/step - loss: 0.6927 - accuracy: 0.5160\n",
      "Epoch 8/10\n",
      "32/32 [==============================] - 0s 1ms/step - loss: 0.6942 - accuracy: 0.5020\n",
      "Epoch 9/10\n",
      "32/32 [==============================] - 0s 1ms/step - loss: 0.6917 - accuracy: 0.5200\n",
      "Epoch 10/10\n",
      "32/32 [==============================] - 0s 1ms/step - loss: 0.6889 - accuracy: 0.5340\n",
      "7/7 [==============================] - 0s 1ms/step - loss: 0.6954 - accuracy: 0.4550\n",
      "Test loss: 0.695365309715271\n",
      "Test accuracy: 0.45500001311302185\n"
     ]
    }
   ],
   "source": [
    "## Write your code here\n",
    "\n",
    "#define the input layer\n",
    "input_layer = Input(shape=(20,))\n",
    "\n",
    "# Add a hidden layer\n",
    "hidden_layer = Dense(64, activation='relu')(input_layer)\n",
    "\n",
    "# Add a Dropout layer\n",
    "dropout_layer = Dropout(rate=0.5)(hidden_layer)\n",
    "\n",
    "# Add another hidden layer after Dropout\n",
    "hidden_layer2 = Dense(64, activation='relu')(dropout_layer)\n",
    "\n",
    "# Add a Dropout layer\n",
    "dropout_layer2 = Dropout(rate=0.5)(hidden_layer2)\n",
    "\n",
    "# Add the output layer\n",
    "output_layer = Dense(1, activation='sigmoid')(dropout_layer2)\n",
    "\n",
    "# Create the model\n",
    "model = Model(inputs=input_layer, outputs=output_layer)\n",
    "\n",
    "# Summary of the model\n",
    "model.summary()\n",
    "\n",
    "# compile the model\n",
    "model.compile(optimizer='adam', loss='binary_crossentropy', metrics=['accuracy'])\n",
    "\n",
    "# fit the model\n",
    "model.fit(X_train, y_train, epochs=10, batch_size=32)\n",
    "\n",
    "# evaluate the model\n",
    "loss, accuracy = model.evaluate(X_test, y_test)\n",
    "print(f'Test loss: {loss}')\n",
    "print(f'Test accuracy: {accuracy}')\n"
   ]
  },
  {
   "cell_type": "markdown",
   "id": "c40831fe-9ff0-4584-920b-4fb2170e6766",
   "metadata": {},
   "source": [
    "<details>\n",
    "    <summary>Click here for Solution</summary>\n",
    "\n",
    "```python\n",
    "from tensorflow.keras.layers import Dropout, Input, Dense\n",
    "from tensorflow.keras.models import Model\n",
    "\n",
    "# Define the input layer\n",
    "input_layer = Input(shape=(20,))\n",
    "\n",
    "# Add hidden layers with dropout\n",
    "hidden_layer1 = Dense(64, activation='relu')(input_layer)\n",
    "dropout1 = Dropout(0.5)(hidden_layer1)\n",
    "hidden_layer2 = Dense(64, activation='relu')(dropout1)\n",
    "dropout2 = Dropout(0.5)(hidden_layer2)\n",
    "\n",
    "# Define the output layer\n",
    "output_layer = Dense(1, activation='sigmoid')(dropout2)\n",
    "\n",
    "# Create the model\n",
    "model = Model(inputs=input_layer, outputs=output_layer)\n",
    "model.summary()\n",
    "\n",
    "# Compile the model\n",
    "model.compile(optimizer='adam', loss='binary_crossentropy', metrics=['accuracy'])\n",
    "\n",
    "# Train the model\n",
    "model.fit(X_train, y_train, epochs=10, batch_size=32)\n",
    "\n",
    "# Evaluate the model\n",
    "loss, accuracy = model.evaluate(X_test, y_test)\n",
    "print(f'Test loss: {loss}')\n",
    "print(f'Test accuracy: {accuracy}')\n",
    " ```   \n",
    "\n",
    "</details>\n"
   ]
  },
  {
   "cell_type": "markdown",
   "id": "acc7160b-78d1-4fb6-89d0-07ad0c667830",
   "metadata": {},
   "source": [
    "#### Exercise 2: Change Activation Functions\n",
    "\n",
    "**Objective:** Experiment with different activation functions.\n",
    "\n",
    "**Instructions:**\n",
    "1. Change the activation function of the hidden layers from ReLU to Tanh.\n",
    "2. Recompile, train, and evaluate the model to see the effect.\n"
   ]
  },
  {
   "cell_type": "code",
   "execution_count": 15,
   "id": "9767e43d-327c-4884-aa7d-fecdcebaff42",
   "metadata": {},
   "outputs": [
    {
     "name": "stdout",
     "output_type": "stream",
     "text": [
      "Model: \"model_7\"\n",
      "_________________________________________________________________\n",
      " Layer (type)                Output Shape              Param #   \n",
      "=================================================================\n",
      " input_8 (InputLayer)        [(None, 20)]              0         \n",
      "                                                                 \n",
      " dense_21 (Dense)            (None, 64)                1344      \n",
      "                                                                 \n",
      " dense_22 (Dense)            (None, 64)                4160      \n",
      "                                                                 \n",
      " dense_23 (Dense)            (None, 1)                 65        \n",
      "                                                                 \n",
      "=================================================================\n",
      "Total params: 5569 (21.75 KB)\n",
      "Trainable params: 5569 (21.75 KB)\n",
      "Non-trainable params: 0 (0.00 Byte)\n",
      "_________________________________________________________________\n",
      "Epoch 1/10\n",
      "32/32 [==============================] - 1s 1ms/step - loss: 0.7050 - accuracy: 0.5130\n",
      "Epoch 2/10\n",
      "32/32 [==============================] - 0s 984us/step - loss: 0.6985 - accuracy: 0.5050\n",
      "Epoch 3/10\n",
      "32/32 [==============================] - 0s 949us/step - loss: 0.6904 - accuracy: 0.5360\n",
      "Epoch 4/10\n",
      "32/32 [==============================] - 0s 968us/step - loss: 0.6917 - accuracy: 0.5300\n",
      "Epoch 5/10\n",
      "32/32 [==============================] - 0s 1000us/step - loss: 0.6943 - accuracy: 0.5240\n",
      "Epoch 6/10\n",
      "32/32 [==============================] - 0s 935us/step - loss: 0.6927 - accuracy: 0.5390\n",
      "Epoch 7/10\n",
      "32/32 [==============================] - 0s 968us/step - loss: 0.6867 - accuracy: 0.5430\n",
      "Epoch 8/10\n",
      "32/32 [==============================] - 0s 968us/step - loss: 0.6820 - accuracy: 0.5530\n",
      "Epoch 9/10\n",
      "32/32 [==============================] - 0s 1000us/step - loss: 0.6925 - accuracy: 0.5460\n",
      "Epoch 10/10\n",
      "32/32 [==============================] - 0s 936us/step - loss: 0.6909 - accuracy: 0.5510\n",
      "7/7 [==============================] - 0s 1ms/step - loss: 0.6955 - accuracy: 0.5250\n",
      "Test loss: 0.6954964399337769\n",
      "Test accuracy: 0.5249999761581421\n"
     ]
    }
   ],
   "source": [
    "## Write your code here\n",
    "\n",
    "#define the input layer\n",
    "input_layer = Input(shape=(20,))\n",
    "\n",
    "# Add a hidden layer\n",
    "hidden_layer = Dense(64, activation='tanh')(input_layer)\n",
    "\n",
    "# Add another hidden layer after Dropout\n",
    "hidden_layer2 = Dense(64, activation='tanh')(hidden_layer)\n",
    "\n",
    "# Add the output layer\n",
    "output_layer = Dense(1, activation='sigmoid')(hidden_layer2)\n",
    "\n",
    "# Create the model\n",
    "model = Model(inputs=input_layer, outputs=output_layer)\n",
    "\n",
    "# Summary of the model\n",
    "model.summary()\n",
    "\n",
    "# compile the model\n",
    "model.compile(optimizer='adam', loss='binary_crossentropy', metrics=['accuracy'])\n",
    "\n",
    "# fit the model\n",
    "model.fit(X_train, y_train, epochs=10, batch_size=32)\n",
    "\n",
    "# evaluate the model\n",
    "loss, accuracy = model.evaluate(X_test, y_test)\n",
    "print(f'Test loss: {loss}')\n",
    "print(f'Test accuracy: {accuracy}')\n"
   ]
  },
  {
   "cell_type": "markdown",
   "id": "836a389c-9617-48b3-b93d-0361045a8e9e",
   "metadata": {},
   "source": [
    "<details>\n",
    "    <summary>Click here for Solution</summary>\n",
    "\n",
    "```python\n",
    "from tensorflow.keras.layers import Input, Dense\n",
    "from tensorflow.keras.models import Model\n",
    "\n",
    "# Define the input layer\n",
    "input_layer = Input(shape=(20,))\n",
    "\n",
    "# Add hidden layers with Tanh activation\n",
    "hidden_layer1 = Dense(64, activation='tanh')(input_layer)\n",
    "hidden_layer2 = Dense(64, activation='tanh')(hidden_layer1)\n",
    "\n",
    "# Define the output layer\n",
    "output_layer = Dense(1, activation='sigmoid')(hidden_layer2)\n",
    "\n",
    "# Create the model\n",
    "model = Model(inputs=input_layer, outputs=output_layer)\n",
    "model.summary()\n",
    "\n",
    "# Compile the model\n",
    "model.compile(optimizer='adam', loss='binary_crossentropy', metrics=['accuracy'])\n",
    "\n",
    "# Train the model\n",
    "model.fit(X_train, y_train, epochs=10, batch_size=32)\n",
    "\n",
    "# Evaluate the model\n",
    "loss, accuracy = model.evaluate(X_test, y_test)\n",
    "print(f'Test loss: {loss}')\n",
    "print(f'Test accuracy: {accuracy}')\n",
    " ```   \n",
    "\n",
    "</details>\n"
   ]
  },
  {
   "cell_type": "markdown",
   "id": "f39a87b7-1ef0-4346-a15b-58dc3266eebe",
   "metadata": {},
   "source": [
    "#### Exercise 3: Use Batch Normalization\n",
    "\n",
    "**Objective:** Implement batch normalization to improve training stability.\n",
    "\n",
    "**Instructions:**\n",
    "1. Add batch normalization layers after each hidden layer.\n",
    "2. Recompile, train, and evaluate the model.\n"
   ]
  },
  {
   "cell_type": "code",
   "execution_count": 17,
   "id": "39460850-e14e-4f04-b9f0-404ba44b96a4",
   "metadata": {},
   "outputs": [
    {
     "name": "stdout",
     "output_type": "stream",
     "text": [
      "Model: \"model_9\"\n",
      "_________________________________________________________________\n",
      " Layer (type)                Output Shape              Param #   \n",
      "=================================================================\n",
      " input_10 (InputLayer)       [(None, 20)]              0         \n",
      "                                                                 \n",
      " dense_27 (Dense)            (None, 64)                1344      \n",
      "                                                                 \n",
      " batch_normalization_3 (Bat  (None, 64)                256       \n",
      " chNormalization)                                                \n",
      "                                                                 \n",
      " dense_28 (Dense)            (None, 64)                4160      \n",
      "                                                                 \n",
      " batch_normalization_4 (Bat  (None, 64)                256       \n",
      " chNormalization)                                                \n",
      "                                                                 \n",
      " dense_29 (Dense)            (None, 1)                 65        \n",
      "                                                                 \n",
      "=================================================================\n",
      "Total params: 6081 (23.75 KB)\n",
      "Trainable params: 5825 (22.75 KB)\n",
      "Non-trainable params: 256 (1.00 KB)\n",
      "_________________________________________________________________\n",
      "Epoch 1/10\n",
      "32/32 [==============================] - 1s 1ms/step - loss: 0.8222 - accuracy: 0.5090\n",
      "Epoch 2/10\n",
      "32/32 [==============================] - 0s 1ms/step - loss: 0.6882 - accuracy: 0.5920\n",
      "Epoch 3/10\n",
      "32/32 [==============================] - 0s 1ms/step - loss: 0.6665 - accuracy: 0.6150\n",
      "Epoch 4/10\n",
      "32/32 [==============================] - 0s 1ms/step - loss: 0.6448 - accuracy: 0.6390\n",
      "Epoch 5/10\n",
      "32/32 [==============================] - 0s 1ms/step - loss: 0.6136 - accuracy: 0.6630\n",
      "Epoch 6/10\n",
      "32/32 [==============================] - 0s 1ms/step - loss: 0.6010 - accuracy: 0.6660\n",
      "Epoch 7/10\n",
      "32/32 [==============================] - 0s 1ms/step - loss: 0.5790 - accuracy: 0.6980\n",
      "Epoch 8/10\n",
      "32/32 [==============================] - 0s 1ms/step - loss: 0.5608 - accuracy: 0.7170\n",
      "Epoch 9/10\n",
      "32/32 [==============================] - 0s 1ms/step - loss: 0.5467 - accuracy: 0.7240\n",
      "Epoch 10/10\n",
      "32/32 [==============================] - 0s 1ms/step - loss: 0.5376 - accuracy: 0.7490\n",
      "7/7 [==============================] - 0s 1ms/step - loss: 0.7104 - accuracy: 0.5550\n",
      "Test loss: 0.7103961110115051\n",
      "Test accuracy: 0.5550000071525574\n"
     ]
    }
   ],
   "source": [
    "## Write your code here\n",
    "\n",
    "from tensorflow import keras\n",
    "from keras.layers import Input, Dense, BatchNormalization\n",
    "from keras.models import Model\n",
    "\n",
    "# Define the input layer\n",
    "input_layer = Input(shape=(20,))\n",
    "\n",
    "# Add a hidden layer with Batch Normalization\n",
    "hidden_layer = Dense(64, activation='relu')(input_layer)\n",
    "hidden_layer = BatchNormalization()(hidden_layer)\n",
    "\n",
    "# Add another hidden layer with Batch Normalization after Dropout\n",
    "hidden_layer2 = Dense(64, activation='relu')(hidden_layer)\n",
    "hidden_layer2 = BatchNormalization()(hidden_layer2)\n",
    "\n",
    "\n",
    "# Add the output layer\n",
    "output_layer = Dense(1, activation='sigmoid')(hidden_layer2)\n",
    "\n",
    "# Create the model\n",
    "model = Model(inputs=input_layer, outputs=output_layer)\n",
    "\n",
    "# Summary of the model\n",
    "model.summary()\n",
    "\n",
    "# Compile the model\n",
    "model.compile(optimizer='adam', loss='binary_crossentropy', metrics=['accuracy'])\n",
    "\n",
    "# Fit the model (assuming X_train and y_train are defined)\n",
    "model.fit(X_train, y_train, epochs=10, batch_size=32)\n",
    "\n",
    "# Evaluate the model (assuming X_test and y_test are defined)\n",
    "loss, accuracy = model.evaluate(X_test, y_test)\n",
    "print(f'Test loss: {loss}')\n",
    "print(f'Test accuracy: {accuracy}')\n",
    "\n"
   ]
  },
  {
   "cell_type": "markdown",
   "id": "7508089c-d7b5-482a-9d3e-c09aacab4530",
   "metadata": {},
   "source": [
    "<details>\n",
    "    <summary>Click here for Solution</summary>\n",
    "\n",
    "```python\n",
    "from tensorflow.keras.layers import BatchNormalization\n",
    "\n",
    "# Define the input layer\n",
    "input_layer = Input(shape=(20,))\n",
    "\n",
    "# Add hidden layers with batch normalization\n",
    "hidden_layer1 = Dense(64, activation='relu')(input_layer)\n",
    "batch_norm1 = BatchNormalization()(hidden_layer1)\n",
    "hidden_layer2 = Dense(64, activation='relu')(batch_norm1)\n",
    "batch_norm2 = BatchNormalization()(hidden_layer2)\n",
    "\n",
    "# Define the output layer\n",
    "output_layer = Dense(1, activation='sigmoid')(batch_norm2)\n",
    "\n",
    "# Create the model\n",
    "model = Model(inputs=input_layer, outputs=output_layer)\n",
    "model.summary()\n",
    "\n",
    "# Compile the model\n",
    "model.compile(optimizer='adam', loss='binary_crossentropy', metrics=['accuracy'])\n",
    "\n",
    "# Train the model\n",
    "model.fit(X_train, y_train, epochs=10, batch_size=32)\n",
    "\n",
    "# Evaluate the model\n",
    "loss, accuracy = model.evaluate(X_test, y_test)\n",
    "print(f'Test loss: {loss}')\n",
    "print(f'Test accuracy: {accuracy}')\n",
    " ```   \n",
    "\n",
    "</details>\n"
   ]
  },
  {
   "cell_type": "markdown",
   "id": "e1343de9-8535-40e6-b530-8325b0a4f538",
   "metadata": {},
   "source": [
    "### Summary\n",
    "\n",
    "By completing these exercises, students will:\n",
    "\n",
    "1. Understand the impact of dropout layers on model overfitting.\n",
    "2. Learn how different activation functions affect model performance.\n",
    "3. Gain experience with batch normalization to stabilize and accelerate training.\n"
   ]
  },
  {
   "cell_type": "markdown",
   "id": "517f6753-ff96-4a46-8cd9-4a67f5849423",
   "metadata": {},
   "source": [
    "**Conclusion:**\n",
    "\n",
    "You have successfully created, trained, and evaluated a simple neural network model using the Keras Functional API. This foundational knowledge will allow you to build more complex models and explore advanced functionalities in Keras. \n"
   ]
  },
  {
   "cell_type": "markdown",
   "id": "a4ab0729-d88a-4ca9-8437-4ce9ed3da07b",
   "metadata": {},
   "source": [
    "Copyright © IBM Corporation. All rights reserved.\n"
   ]
  }
 ],
 "metadata": {
  "kernelspec": {
   "display_name": ".conda",
   "language": "python",
   "name": "python3"
  },
  "language_info": {
   "codemirror_mode": {
    "name": "ipython",
    "version": 3
   },
   "file_extension": ".py",
   "mimetype": "text/x-python",
   "name": "python",
   "nbconvert_exporter": "python",
   "pygments_lexer": "ipython3",
   "version": "3.8.20"
  },
  "prev_pub_hash": "6c06f1b1d27897bfab0879abc1416612866b18c633f234331540b14850c06c25"
 },
 "nbformat": 4,
 "nbformat_minor": 4
}
