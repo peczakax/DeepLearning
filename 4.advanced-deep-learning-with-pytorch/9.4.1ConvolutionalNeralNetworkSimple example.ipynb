{
 "cells": [
  {
   "cell_type": "markdown",
   "id": "03850d9d",
   "metadata": {
    "papermill": {
     "duration": 0.010381,
     "end_time": "2024-12-27T11:08:14.338585",
     "exception": false,
     "start_time": "2024-12-27T11:08:14.328204",
     "status": "completed"
    },
    "tags": []
   },
   "source": [
    "<p style=\"text-align:center\">\n",
    "    <a href=\"https://skills.network\" target=\"_blank\">\n",
    "    <img src=\"https://cf-courses-data.s3.us.cloud-object-storage.appdomain.cloud/assets/logos/SN_web_lightmode.png\" width=\"200\" alt=\"Skills Network Logo\">\n",
    "    </a>\n",
    "</p>\n",
    "<h1 align=center><font size = 5>Convolutional Neural Network Simple example </font></h1> \n"
   ]
  },
  {
   "cell_type": "markdown",
   "id": "93ff8b4c",
   "metadata": {
    "papermill": {
     "duration": 0.00935,
     "end_time": "2024-12-27T11:08:14.357854",
     "exception": false,
     "start_time": "2024-12-27T11:08:14.348504",
     "status": "completed"
    },
    "tags": []
   },
   "source": [
    "\n",
    "<h3>Objective for this Notebook<h3>    \n",
    "<h5> 1. Learn Convolutional Neural Network</h5>\n",
    "<h5> 2. Define Softmax, Criterion function, Optimizer and Train the  Model</h5>    \n",
    "\n"
   ]
  },
  {
   "cell_type": "markdown",
   "id": "d0f71dff",
   "metadata": {
    "papermill": {
     "duration": 0.010033,
     "end_time": "2024-12-27T11:08:14.377827",
     "exception": false,
     "start_time": "2024-12-27T11:08:14.367794",
     "status": "completed"
    },
    "tags": []
   },
   "source": [
    "\n",
    "# Table of Contents\n",
    "In this lab, we will use a Convolutional Neural Networks to classify horizontal an vertical Lines \n",
    "\n",
    "<div class=\"alert alert-block alert-info\" style=\"margin-top: 20px\">\n",
    "<li><a href=\"#ref0\">Helper functions </a></li>\n",
    "<li><a href=\"#ref1\"> Prepare Data </a></li>\n",
    "<li><a href=\"#ref2\">Build a Convolutional Neural Network Class </a></li>\n",
    "<li><a href=\"#ref3\">Define the Convolutional Neural Network Classifier, Criterion function, Optimizer and Train the  Model</a></li>\n",
    "<li><a href=\"#ref4\">Analyse Results</a></li>\n",
    "\n",
    "<br>\n",
    "<p></p>\n",
    "Estimated Time Needed: <strong>25 min</strong>\n",
    "</div>\n",
    "\n",
    "<hr>\n"
   ]
  },
  {
   "cell_type": "markdown",
   "id": "4eef0723",
   "metadata": {
    "papermill": {
     "duration": 0.009323,
     "end_time": "2024-12-27T11:08:14.396868",
     "exception": false,
     "start_time": "2024-12-27T11:08:14.387545",
     "status": "completed"
    },
    "tags": []
   },
   "source": [
    "<a id=\"ref0\"></a>\n",
    "<a name=\"ref0\"><h2 align=center>Helper functions </h2></a>\n"
   ]
  },
  {
   "cell_type": "code",
   "execution_count": 1,
   "id": "2660f4eb",
   "metadata": {
    "execution": {
     "iopub.execute_input": "2024-12-27T11:08:14.418585Z",
     "iopub.status.busy": "2024-12-27T11:08:14.418169Z",
     "iopub.status.idle": "2024-12-27T11:08:21.112039Z",
     "shell.execute_reply": "2024-12-27T11:08:21.110953Z"
    },
    "papermill": {
     "duration": 6.706647,
     "end_time": "2024-12-27T11:08:21.114143",
     "exception": false,
     "start_time": "2024-12-27T11:08:14.407496",
     "status": "completed"
    },
    "tags": []
   },
   "outputs": [],
   "source": [
    "import torch \n",
    "import torch.nn as nn\n",
    "import torchvision.transforms as transforms\n",
    "import torchvision.datasets as dsets\n",
    "import matplotlib.pylab as plt\n",
    "import numpy as np\n",
    "import pandas as pd"
   ]
  },
  {
   "cell_type": "code",
   "execution_count": 2,
   "id": "9d2a2c3e",
   "metadata": {
    "execution": {
     "iopub.execute_input": "2024-12-27T11:08:21.135427Z",
     "iopub.status.busy": "2024-12-27T11:08:21.134915Z",
     "iopub.status.idle": "2024-12-27T11:08:21.150485Z",
     "shell.execute_reply": "2024-12-27T11:08:21.149272Z"
    },
    "papermill": {
     "duration": 0.027986,
     "end_time": "2024-12-27T11:08:21.152264",
     "exception": false,
     "start_time": "2024-12-27T11:08:21.124278",
     "status": "completed"
    },
    "tags": []
   },
   "outputs": [
    {
     "data": {
      "text/plain": [
       "<torch._C.Generator at 0x796d65a908b0>"
      ]
     },
     "execution_count": 2,
     "metadata": {},
     "output_type": "execute_result"
    }
   ],
   "source": [
    "torch.manual_seed(4)"
   ]
  },
  {
   "cell_type": "markdown",
   "id": "2925d77b",
   "metadata": {
    "papermill": {
     "duration": 0.009883,
     "end_time": "2024-12-27T11:08:21.173287",
     "exception": false,
     "start_time": "2024-12-27T11:08:21.163404",
     "status": "completed"
    },
    "tags": []
   },
   "source": [
    "function to plot out the parameters of the Convolutional layers  \n"
   ]
  },
  {
   "cell_type": "code",
   "execution_count": 3,
   "id": "9015bbf1",
   "metadata": {
    "execution": {
     "iopub.execute_input": "2024-12-27T11:08:21.194706Z",
     "iopub.status.busy": "2024-12-27T11:08:21.194323Z",
     "iopub.status.idle": "2024-12-27T11:08:21.200861Z",
     "shell.execute_reply": "2024-12-27T11:08:21.199802Z"
    },
    "papermill": {
     "duration": 0.019337,
     "end_time": "2024-12-27T11:08:21.202771",
     "exception": false,
     "start_time": "2024-12-27T11:08:21.183434",
     "status": "completed"
    },
    "tags": []
   },
   "outputs": [],
   "source": [
    "def plot_channels(W):\n",
    "    #number of output channels \n",
    "    n_out=W.shape[0]\n",
    "    #number of input channels \n",
    "    n_in=W.shape[1]\n",
    "    w_min=W.min().item()\n",
    "    w_max=W.max().item()\n",
    "    fig, axes = plt.subplots(n_out,n_in)\n",
    "    fig.subplots_adjust(hspace = 0.1)\n",
    "    out_index=0\n",
    "    in_index=0\n",
    "    #plot outputs as rows inputs as columns \n",
    "    for ax in axes.flat:\n",
    "    \n",
    "        if in_index>n_in-1:\n",
    "            out_index=out_index+1\n",
    "            in_index=0\n",
    "              \n",
    "        ax.imshow(W[out_index,in_index,:,:], vmin=w_min, vmax=w_max, cmap='seismic')\n",
    "        ax.set_yticklabels([])\n",
    "        ax.set_xticklabels([])\n",
    "        in_index=in_index+1\n",
    "\n",
    "    plt.show()"
   ]
  },
  {
   "cell_type": "markdown",
   "id": "c0575941",
   "metadata": {
    "papermill": {
     "duration": 0.010062,
     "end_time": "2024-12-27T11:08:21.222794",
     "exception": false,
     "start_time": "2024-12-27T11:08:21.212732",
     "status": "completed"
    },
    "tags": []
   },
   "source": [
    "<code>show_data</code>: plot out data sample\n"
   ]
  },
  {
   "cell_type": "code",
   "execution_count": 4,
   "id": "e27c38b9",
   "metadata": {
    "execution": {
     "iopub.execute_input": "2024-12-27T11:08:21.243890Z",
     "iopub.status.busy": "2024-12-27T11:08:21.243493Z",
     "iopub.status.idle": "2024-12-27T11:08:21.248603Z",
     "shell.execute_reply": "2024-12-27T11:08:21.247405Z"
    },
    "papermill": {
     "duration": 0.017492,
     "end_time": "2024-12-27T11:08:21.250249",
     "exception": false,
     "start_time": "2024-12-27T11:08:21.232757",
     "status": "completed"
    },
    "tags": []
   },
   "outputs": [],
   "source": [
    "def show_data(dataset,sample):\n",
    "\n",
    "    plt.imshow(dataset.x[sample,0,:,:].numpy(),cmap='gray')\n",
    "    plt.title('y='+str(dataset.y[sample].item()))\n",
    "    plt.show()"
   ]
  },
  {
   "cell_type": "markdown",
   "id": "b9520b4f",
   "metadata": {
    "papermill": {
     "duration": 0.009715,
     "end_time": "2024-12-27T11:08:21.269857",
     "exception": false,
     "start_time": "2024-12-27T11:08:21.260142",
     "status": "completed"
    },
    "tags": []
   },
   "source": [
    "create some toy data \n"
   ]
  },
  {
   "cell_type": "code",
   "execution_count": 5,
   "id": "29e76fce",
   "metadata": {
    "execution": {
     "iopub.execute_input": "2024-12-27T11:08:21.291156Z",
     "iopub.status.busy": "2024-12-27T11:08:21.290816Z",
     "iopub.status.idle": "2024-12-27T11:08:21.300277Z",
     "shell.execute_reply": "2024-12-27T11:08:21.299083Z"
    },
    "papermill": {
     "duration": 0.022498,
     "end_time": "2024-12-27T11:08:21.302185",
     "exception": false,
     "start_time": "2024-12-27T11:08:21.279687",
     "status": "completed"
    },
    "tags": []
   },
   "outputs": [],
   "source": [
    "from torch.utils.data import Dataset, DataLoader\n",
    "\n",
    "class Data(Dataset):\n",
    "    \n",
    "    def __init__(self,N_images=100,offset=0,p=0.9, train=False):\n",
    "        \"\"\"\n",
    "        Initialize the dataset with synthetic images.\n",
    "\n",
    "        Args:\n",
    "            N_images (int): Number of images to generate. Default is 100.\n",
    "            offset (int): Random vertical and horizontal offset for images. Should be less than 3. Default is 0.\n",
    "            p (float): Probability that a pixel is white. Default is 0.9.\n",
    "            train (bool): If True, set a random seed for reproducibility. Default is False.\n",
    "        \"\"\"\n",
    "        \n",
    "        # Set random seed for reproducibility if training\n",
    "        if train==True:\n",
    "            np.random.seed(1)  \n",
    "        \n",
    "        # Ensure the number of images is even\n",
    "        N_images=2*(N_images//2)\n",
    "        \n",
    "        # Initialize an array to hold the images\n",
    "        images=np.zeros((N_images,1,11,11))\n",
    "        \n",
    "        # Starting positions for the lines\n",
    "        start1=3\n",
    "        start2=1\n",
    "        \n",
    "        # Initialize labels\n",
    "        self.y=torch.zeros(N_images).type(torch.long)\n",
    "\n",
    "        for n in range(N_images):\n",
    "            # Determine random offsets if specified\n",
    "            if offset>0:\n",
    "                low=int(np.random.randint(low=start1, high=start1+offset, size=1))\n",
    "                high=int(np.random.randint(low=start2, high=start2+offset, size=1))\n",
    "            else:\n",
    "                low=4\n",
    "                high=1\n",
    "            \n",
    "            # Generate vertical lines for the first half of the images\n",
    "            if n<=N_images//2:\n",
    "                self.y[n]=0\n",
    "                images[n,0,high:high+9,low:low+3]= np.random.binomial(1, p, (9,3))\n",
    "            # Generate horizontal lines for the second half of the images\n",
    "            elif  n>N_images//2:\n",
    "                self.y[n]=1\n",
    "                images[n,0,low:low+3,high:high+9] = np.random.binomial(1, p, (3,9))\n",
    "        \n",
    "        # Convert images to torch tensors\n",
    "        self.x=torch.from_numpy(images).type(torch.FloatTensor)\n",
    "        \n",
    "        # Set the length of the dataset\n",
    "        self.len=self.x.shape[0]\n",
    "        \n",
    "        # Delete the numpy array to free up memory\n",
    "        del(images)\n",
    "        \n",
    "        # Reset the random seed\n",
    "        np.random.seed(0)\n",
    "    \n",
    "    def __getitem__(self,index):      \n",
    "        return self.x[index],self.y[index]\n",
    "    \n",
    "    def __len__(self):\n",
    "        return self.len"
   ]
  },
  {
   "cell_type": "markdown",
   "id": "89d34017",
   "metadata": {
    "papermill": {
     "duration": 0.010146,
     "end_time": "2024-12-27T11:08:21.322525",
     "exception": false,
     "start_time": "2024-12-27T11:08:21.312379",
     "status": "completed"
    },
    "tags": []
   },
   "source": [
    "<code>plot_activation</code>: plot out the activations of the Convolutional layers  \n"
   ]
  },
  {
   "cell_type": "code",
   "execution_count": 6,
   "id": "bafbdad0",
   "metadata": {
    "execution": {
     "iopub.execute_input": "2024-12-27T11:08:21.343688Z",
     "iopub.status.busy": "2024-12-27T11:08:21.343289Z",
     "iopub.status.idle": "2024-12-27T11:08:21.350197Z",
     "shell.execute_reply": "2024-12-27T11:08:21.349173Z"
    },
    "papermill": {
     "duration": 0.019539,
     "end_time": "2024-12-27T11:08:21.352007",
     "exception": false,
     "start_time": "2024-12-27T11:08:21.332468",
     "status": "completed"
    },
    "tags": []
   },
   "outputs": [],
   "source": [
    "import matplotlib.pyplot as plt\n",
    "\n",
    "def plot_activations(A, number_rows=1, name=\"\"):\n",
    "    \"\"\"Plots the activations of a convolutional layer.\n",
    "\n",
    "    Args:\n",
    "        A: A tensor of shape (batch_size, channels, height, width) representing the activations.\n",
    "        number_rows: The number of rows to use in the subplot grid.\n",
    "        name: A string to use as the title of the plot (optional).\n",
    "\n",
    "    Returns:\n",
    "        None. Displays the plot using matplotlib.\n",
    "    \"\"\"\n",
    "\n",
    "    # Extract the activations for the first image in the batch and convert to numpy array.\n",
    "    A = A[0, :, :, :].detach().numpy()\n",
    "\n",
    "    # Get the number of activations (i.e. channels).\n",
    "    n_activations = A.shape[0]\n",
    "\n",
    "\n",
    "    print(n_activations)\n",
    "\n",
    "    # Get the minimum and maximum activation values for consistent scaling across all plots.\n",
    "    A_min = A.min().item()\n",
    "    A_max = A.max().item()\n",
    "\n",
    "    # Handle the case where there's only one activation.\n",
    "    if n_activations == 1:\n",
    "\n",
    "        # Plot the image.\n",
    "        plt.imshow(A[0, :], vmin=A_min, vmax=A_max, cmap='seismic')\n",
    "\n",
    "    # Handle cases where we have multiple activations.\n",
    "    else:\n",
    "\n",
    "        # Create subplots.\n",
    "        fig, axes = plt.subplots(number_rows, n_activations // number_rows)\n",
    "\n",
    "        # Adjust spacing.\n",
    "        fig.subplots_adjust(hspace=0.4)\n",
    "\n",
    "        # Iterate and plot each activation\n",
    "        for i, ax in enumerate(axes.flat):\n",
    "\n",
    "\n",
    "            if i < n_activations:\n",
    "\n",
    "                # Set the label for the sub-plot.\n",
    "                ax.set_xlabel(\"activation:{0}\".format(i + 1))\n",
    "\n",
    "                # Plot the image.\n",
    "                ax.imshow(A[i, :], vmin=A_min, vmax=A_max, cmap='seismic')\n",
    "\n",
    "                # Remove ticks.\n",
    "                ax.set_xticks([])\n",
    "                ax.set_yticks([])\n",
    "\n",
    "    # Show plot.\n",
    "    plt.show()"
   ]
  },
  {
   "cell_type": "markdown",
   "id": "4385d193",
   "metadata": {
    "papermill": {
     "duration": 0.009775,
     "end_time": "2024-12-27T11:08:21.372390",
     "exception": false,
     "start_time": "2024-12-27T11:08:21.362615",
     "status": "completed"
    },
    "tags": []
   },
   "source": [
    "\n",
    "Utility function for computing output of convolutions\n",
    "takes a tuple of (h,w) and returns a tuple of (h,w)\n"
   ]
  },
  {
   "cell_type": "code",
   "execution_count": 7,
   "id": "ec7e28dc",
   "metadata": {
    "execution": {
     "iopub.execute_input": "2024-12-27T11:08:21.393343Z",
     "iopub.status.busy": "2024-12-27T11:08:21.392980Z",
     "iopub.status.idle": "2024-12-27T11:08:21.398754Z",
     "shell.execute_reply": "2024-12-27T11:08:21.397574Z"
    },
    "papermill": {
     "duration": 0.018559,
     "end_time": "2024-12-27T11:08:21.400678",
     "exception": false,
     "start_time": "2024-12-27T11:08:21.382119",
     "status": "completed"
    },
    "tags": []
   },
   "outputs": [],
   "source": [
    "def conv_output_shape(h_w, kernel_size=1, stride=1, pad=0, dilation=1):\n",
    "    \"\"\"Calculates the output shape of a convolutional layer.\n",
    "\n",
    "    This function computes the height and width of the output tensor\n",
    "    after applying a convolutional operation.\n",
    "\n",
    "    Args:\n",
    "        h_w: A tuple (height, width) representing the input shape.\n",
    "        kernel_size: An integer or a tuple (kernel_height, kernel_width) specifying the kernel size.  Defaults to 1.\n",
    "        stride: An integer or a tuple (stride_height, stride_width) specifying the stride. Defaults to 1.\n",
    "        pad: An integer specifying the padding. Defaults to 0.\n",
    "        dilation: An integer specifying the dilation rate. Defaults to 1.\n",
    "\n",
    "    Returns:\n",
    "        A tuple (output_height, output_width) representing the output shape.\n",
    "\n",
    "\n",
    "    \"\"\"\n",
    "    from math import floor\n",
    "\n",
    "    # Ensure kernel_size is a tuple.\n",
    "    if type(kernel_size) is not tuple:\n",
    "        kernel_size = (kernel_size, kernel_size)\n",
    "\n",
    "\n",
    "    # Calculate the output height.\n",
    "    h = floor(((h_w[0] + (2 * pad) - (dilation * (kernel_size[0] - 1)) - 1) / stride) + 1)\n",
    "\n",
    "    # Calculate the output width.\n",
    "    w = floor(((h_w[1] + (2 * pad) - (dilation * (kernel_size[1] - 1)) - 1) / stride) + 1)\n",
    "\n",
    "    # Return as tuple.\n",
    "    return h, w\n",
    "\n"
   ]
  },
  {
   "cell_type": "markdown",
   "id": "016cb04e",
   "metadata": {
    "papermill": {
     "duration": 0.00965,
     "end_time": "2024-12-27T11:08:21.420475",
     "exception": false,
     "start_time": "2024-12-27T11:08:21.410825",
     "status": "completed"
    },
    "tags": []
   },
   "source": [
    "<a id=\"ref1\"></a>\n",
    "<a name=\"ref1\"><h2 align=center>Prepare Data </h2></a>\n"
   ]
  },
  {
   "cell_type": "markdown",
   "id": "ddccba47",
   "metadata": {
    "papermill": {
     "duration": 0.009753,
     "end_time": "2024-12-27T11:08:21.440170",
     "exception": false,
     "start_time": "2024-12-27T11:08:21.430417",
     "status": "completed"
    },
    "tags": []
   },
   "source": [
    "Load the training dataset with 10000 samples \n"
   ]
  },
  {
   "cell_type": "code",
   "execution_count": 8,
   "id": "cb1415c7",
   "metadata": {
    "execution": {
     "iopub.execute_input": "2024-12-27T11:08:21.461400Z",
     "iopub.status.busy": "2024-12-27T11:08:21.461018Z",
     "iopub.status.idle": "2024-12-27T11:08:21.631646Z",
     "shell.execute_reply": "2024-12-27T11:08:21.630405Z"
    },
    "papermill": {
     "duration": 0.183701,
     "end_time": "2024-12-27T11:08:21.633839",
     "exception": false,
     "start_time": "2024-12-27T11:08:21.450138",
     "status": "completed"
    },
    "tags": []
   },
   "outputs": [],
   "source": [
    "N_images=10000\n",
    "train_dataset=Data(N_images=N_images)"
   ]
  },
  {
   "cell_type": "markdown",
   "id": "0ba365e8",
   "metadata": {
    "papermill": {
     "duration": 0.009984,
     "end_time": "2024-12-27T11:08:21.653878",
     "exception": false,
     "start_time": "2024-12-27T11:08:21.643894",
     "status": "completed"
    },
    "tags": []
   },
   "source": [
    "Load the testing dataset\n"
   ]
  },
  {
   "cell_type": "code",
   "execution_count": 9,
   "id": "9aac53dc",
   "metadata": {
    "execution": {
     "iopub.execute_input": "2024-12-27T11:08:21.675329Z",
     "iopub.status.busy": "2024-12-27T11:08:21.674956Z",
     "iopub.status.idle": "2024-12-27T11:08:21.695360Z",
     "shell.execute_reply": "2024-12-27T11:08:21.694378Z"
    },
    "papermill": {
     "duration": 0.033342,
     "end_time": "2024-12-27T11:08:21.697150",
     "exception": false,
     "start_time": "2024-12-27T11:08:21.663808",
     "status": "completed"
    },
    "tags": []
   },
   "outputs": [
    {
     "data": {
      "text/plain": [
       "<__main__.Data at 0x796cba2335b0>"
      ]
     },
     "execution_count": 9,
     "metadata": {},
     "output_type": "execute_result"
    }
   ],
   "source": [
    "validation_dataset=Data(N_images=1000,train=False)\n",
    "validation_dataset"
   ]
  },
  {
   "cell_type": "markdown",
   "id": "d9451887",
   "metadata": {
    "papermill": {
     "duration": 0.009712,
     "end_time": "2024-12-27T11:08:21.717219",
     "exception": false,
     "start_time": "2024-12-27T11:08:21.707507",
     "status": "completed"
    },
    "tags": []
   },
   "source": [
    "we can see the data type is long \n"
   ]
  },
  {
   "cell_type": "markdown",
   "id": "b2f0401d",
   "metadata": {
    "papermill": {
     "duration": 0.00968,
     "end_time": "2024-12-27T11:08:21.737136",
     "exception": false,
     "start_time": "2024-12-27T11:08:21.727456",
     "status": "completed"
    },
    "tags": []
   },
   "source": [
    "### Data Visualization \n"
   ]
  },
  {
   "cell_type": "markdown",
   "id": "563d0a5d",
   "metadata": {
    "papermill": {
     "duration": 0.009849,
     "end_time": "2024-12-27T11:08:21.757213",
     "exception": false,
     "start_time": "2024-12-27T11:08:21.747364",
     "status": "completed"
    },
    "tags": []
   },
   "source": [
    "Each element in the rectangular  tensor corresponds to a number representing a pixel intensity  as demonstrated by  the following image.\n"
   ]
  },
  {
   "cell_type": "markdown",
   "id": "d83cf5b2",
   "metadata": {
    "papermill": {
     "duration": 0.010276,
     "end_time": "2024-12-27T11:08:21.777563",
     "exception": false,
     "start_time": "2024-12-27T11:08:21.767287",
     "status": "completed"
    },
    "tags": []
   },
   "source": [
    "We can print out the third label \n"
   ]
  },
  {
   "cell_type": "code",
   "execution_count": 10,
   "id": "52624bb3",
   "metadata": {
    "execution": {
     "iopub.execute_input": "2024-12-27T11:08:21.799971Z",
     "iopub.status.busy": "2024-12-27T11:08:21.799557Z",
     "iopub.status.idle": "2024-12-27T11:08:22.089615Z",
     "shell.execute_reply": "2024-12-27T11:08:22.088219Z"
    },
    "papermill": {
     "duration": 0.303661,
     "end_time": "2024-12-27T11:08:22.091740",
     "exception": false,
     "start_time": "2024-12-27T11:08:21.788079",
     "status": "completed"
    },
    "tags": []
   },
   "outputs": [
    {
     "data": {
      "image/png": "[encoded data removed]",
      "text/plain": [
       "<Figure size 640x480 with 1 Axes>"
      ]
     },
     "metadata": {},
     "output_type": "display_data"
    }
   ],
   "source": [
    "show_data(train_dataset,0)"
   ]
  },
  {
   "cell_type": "code",
   "execution_count": 11,
   "id": "c4913c65",
   "metadata": {
    "execution": {
     "iopub.execute_input": "2024-12-27T11:08:22.114199Z",
     "iopub.status.busy": "2024-12-27T11:08:22.113874Z",
     "iopub.status.idle": "2024-12-27T11:08:22.343040Z",
     "shell.execute_reply": "2024-12-27T11:08:22.341933Z"
    },
    "papermill": {
     "duration": 0.242687,
     "end_time": "2024-12-27T11:08:22.345190",
     "exception": false,
     "start_time": "2024-12-27T11:08:22.102503",
     "status": "completed"
    },
    "tags": []
   },
   "outputs": [
    {
     "data": {
      "image/png": "[encoded data removed]",
      "text/plain": [
       "<Figure size 640x480 with 1 Axes>"
      ]
     },
     "metadata": {},
     "output_type": "display_data"
    }
   ],
   "source": [
    "show_data(train_dataset,N_images//2+2)"
   ]
  },
  {
   "cell_type": "markdown",
   "id": "7c4a625d",
   "metadata": {
    "papermill": {
     "duration": 0.010461,
     "end_time": "2024-12-27T11:08:22.366464",
     "exception": false,
     "start_time": "2024-12-27T11:08:22.356003",
     "status": "completed"
    },
    "tags": []
   },
   "source": [
    "we can plot the 3rd  sample \n"
   ]
  },
  {
   "cell_type": "markdown",
   "id": "a2c4a701",
   "metadata": {
    "papermill": {
     "duration": 0.010214,
     "end_time": "2024-12-27T11:08:22.387473",
     "exception": false,
     "start_time": "2024-12-27T11:08:22.377259",
     "status": "completed"
    },
    "tags": []
   },
   "source": [
    "<a id=\"ref2\"></a>\n",
    "<a name=\"ref2\"><h2 align=center>Build a Convolutional Neural Network Class </h2></a> \n",
    "\n"
   ]
  },
  {
   "cell_type": "markdown",
   "id": "840cf2b3",
   "metadata": {
    "papermill": {
     "duration": 0.010346,
     "end_time": "2024-12-27T11:08:22.408256",
     "exception": false,
     "start_time": "2024-12-27T11:08:22.397910",
     "status": "completed"
    },
    "tags": []
   },
   "source": [
    "The input image is 11 x11, the following will change the size of the activations:\n",
    "<ul>\n",
    "<il>convolutional layer</il> \n",
    "</ul>\n",
    "<ul>\n",
    "<il>max pooling layer</il> \n",
    "</ul>\n",
    "<ul>\n",
    "<il>convolutional layer </il>\n",
    "</ul>\n",
    "<ul>\n",
    "<il>max pooling layer </il>\n",
    "</ul>\n",
    "\n",
    "with the following parameters <code>kernel_size</code>, <code>stride</code> and <code> pad</code>.\n",
    "We use the following  lines of code to change the image before we get tot he fully connected layer \n"
   ]
  },
  {
   "cell_type": "code",
   "execution_count": 12,
   "id": "d9a0789e",
   "metadata": {
    "execution": {
     "iopub.execute_input": "2024-12-27T11:08:22.430816Z",
     "iopub.status.busy": "2024-12-27T11:08:22.430462Z",
     "iopub.status.idle": "2024-12-27T11:08:22.438109Z",
     "shell.execute_reply": "2024-12-27T11:08:22.436781Z"
    },
    "papermill": {
     "duration": 0.021121,
     "end_time": "2024-12-27T11:08:22.440016",
     "exception": false,
     "start_time": "2024-12-27T11:08:22.418895",
     "status": "completed"
    },
    "tags": []
   },
   "outputs": [
    {
     "name": "stdout",
     "output_type": "stream",
     "text": [
      "(10, 10)\n",
      "(9, 9)\n",
      "(8, 8)\n",
      "(7, 7)\n"
     ]
    }
   ],
   "source": [
    "out=conv_output_shape((11,11), kernel_size=2, stride=1, pad=0, dilation=1)\n",
    "print(out)\n",
    "out1=conv_output_shape(out, kernel_size=2, stride=1, pad=0, dilation=1)\n",
    "print(out1)\n",
    "out2=conv_output_shape(out1, kernel_size=2, stride=1, pad=0, dilation=1)\n",
    "print(out2)\n",
    "\n",
    "out3=conv_output_shape(out2, kernel_size=2, stride=1, pad=0, dilation=1)\n",
    "print(out3)"
   ]
  },
  {
   "cell_type": "markdown",
   "id": "5f9a6769",
   "metadata": {
    "papermill": {
     "duration": 0.010594,
     "end_time": "2024-12-27T11:08:22.461694",
     "exception": false,
     "start_time": "2024-12-27T11:08:22.451100",
     "status": "completed"
    },
    "tags": []
   },
   "source": [
    "Build a Convolutional Network class with two Convolutional layers and one fully connected layer. Pre-determine the size of the final output matrix. The parameters in the constructor are the number of output channels for the first and second layer.\n"
   ]
  },
  {
   "cell_type": "code",
   "execution_count": 13,
   "id": "4fe95e96",
   "metadata": {
    "execution": {
     "iopub.execute_input": "2024-12-27T11:08:22.486226Z",
     "iopub.status.busy": "2024-12-27T11:08:22.485907Z",
     "iopub.status.idle": "2024-12-27T11:08:22.495190Z",
     "shell.execute_reply": "2024-12-27T11:08:22.493771Z"
    },
    "papermill": {
     "duration": 0.02435,
     "end_time": "2024-12-27T11:08:22.497073",
     "exception": false,
     "start_time": "2024-12-27T11:08:22.472723",
     "status": "completed"
    },
    "tags": []
   },
   "outputs": [],
   "source": [
    "class CNN(nn.Module):\n",
    "    def __init__(self,out_1=2,out_2=1):\n",
    "        \n",
    "        super(CNN,self).__init__()\n",
    "        #first Convolutional layers \n",
    "        self.cnn1=nn.Conv2d(in_channels=1,out_channels=out_1,kernel_size=2,padding=0)\n",
    "        self.maxpool1=nn.MaxPool2d(kernel_size=2 ,stride=1)\n",
    "\n",
    "        #second Convolutional layers\n",
    "        self.cnn2=nn.Conv2d(in_channels=out_1,out_channels=out_2,kernel_size=2,stride=1,padding=0)\n",
    "        self.maxpool2=nn.MaxPool2d(kernel_size=2 ,stride=1)\n",
    "        #max pooling \n",
    "\n",
    "        #fully connected layer \n",
    "        self.fc1=nn.Linear(out_2*7*7,2)\n",
    "        \n",
    "    def forward(self,x):\n",
    "        #first Convolutional layers\n",
    "        x=self.cnn1(x)\n",
    "        #activation function \n",
    "        x=torch.relu(x)\n",
    "        #max pooling \n",
    "        x=self.maxpool1(x)\n",
    "        #first Convolutional layers\n",
    "        x=self.cnn2(x)\n",
    "        #activation function\n",
    "        x=torch.relu(x)\n",
    "        #max pooling\n",
    "        x=self.maxpool2(x)\n",
    "        #flatten output \n",
    "        x=x.view(x.size(0),-1)\n",
    "        #fully connected layer\n",
    "        x=self.fc1(x)\n",
    "        return x\n",
    "    \n",
    "    def activations(self,x):\n",
    "        #outputs activation this is not necessary just for fun \n",
    "        z1=self.cnn1(x)\n",
    "        a1=torch.relu(z1)\n",
    "        out=self.maxpool1(a1)\n",
    "        \n",
    "        z2=self.cnn2(out)\n",
    "        a2=torch.relu(z2)\n",
    "        out=self.maxpool2(a2)\n",
    "        out=out.view(out.size(0),-1)\n",
    "        return z1,a1,z2,a2,out        "
   ]
  },
  {
   "cell_type": "markdown",
   "id": "b5ba3d96",
   "metadata": {
    "papermill": {
     "duration": 0.010447,
     "end_time": "2024-12-27T11:08:22.518527",
     "exception": false,
     "start_time": "2024-12-27T11:08:22.508080",
     "status": "completed"
    },
    "tags": []
   },
   "source": [
    "<a id=\"ref3\"></a>\n",
    "<a name=\"ref3\"><h2> Define the Convolutional Neural Network Classifier, Criterion function, Optimizer and Train the  Model</h2></a> \n"
   ]
  },
  {
   "cell_type": "markdown",
   "id": "ecc95339",
   "metadata": {
    "papermill": {
     "duration": 0.010669,
     "end_time": "2024-12-27T11:08:22.540183",
     "exception": false,
     "start_time": "2024-12-27T11:08:22.529514",
     "status": "completed"
    },
    "tags": []
   },
   "source": [
    "There are 2 output channels for the first layer, and 1 outputs channel for the second layer \n"
   ]
  },
  {
   "cell_type": "code",
   "execution_count": 14,
   "id": "6267b081",
   "metadata": {
    "execution": {
     "iopub.execute_input": "2024-12-27T11:08:22.563379Z",
     "iopub.status.busy": "2024-12-27T11:08:22.562982Z",
     "iopub.status.idle": "2024-12-27T11:08:22.574664Z",
     "shell.execute_reply": "2024-12-27T11:08:22.573419Z"
    },
    "papermill": {
     "duration": 0.025702,
     "end_time": "2024-12-27T11:08:22.576783",
     "exception": false,
     "start_time": "2024-12-27T11:08:22.551081",
     "status": "completed"
    },
    "tags": []
   },
   "outputs": [],
   "source": [
    "model=CNN(2,1)"
   ]
  },
  {
   "cell_type": "markdown",
   "id": "f1fe6b4b",
   "metadata": {
    "papermill": {
     "duration": 0.010561,
     "end_time": "2024-12-27T11:08:22.598286",
     "exception": false,
     "start_time": "2024-12-27T11:08:22.587725",
     "status": "completed"
    },
    "tags": []
   },
   "source": [
    "we can see the model parameters with the object \n"
   ]
  },
  {
   "cell_type": "code",
   "execution_count": 15,
   "id": "ec58236c",
   "metadata": {
    "execution": {
     "iopub.execute_input": "2024-12-27T11:08:22.621267Z",
     "iopub.status.busy": "2024-12-27T11:08:22.620937Z",
     "iopub.status.idle": "2024-12-27T11:08:22.627133Z",
     "shell.execute_reply": "2024-12-27T11:08:22.626075Z"
    },
    "papermill": {
     "duration": 0.019613,
     "end_time": "2024-12-27T11:08:22.628814",
     "exception": false,
     "start_time": "2024-12-27T11:08:22.609201",
     "status": "completed"
    },
    "tags": []
   },
   "outputs": [
    {
     "data": {
      "text/plain": [
       "CNN(\n",
       "  (cnn1): Conv2d(1, 2, kernel_size=(2, 2), stride=(1, 1))\n",
       "  (maxpool1): MaxPool2d(kernel_size=2, stride=1, padding=0, dilation=1, ceil_mode=False)\n",
       "  (cnn2): Conv2d(2, 1, kernel_size=(2, 2), stride=(1, 1))\n",
       "  (maxpool2): MaxPool2d(kernel_size=2, stride=1, padding=0, dilation=1, ceil_mode=False)\n",
       "  (fc1): Linear(in_features=49, out_features=2, bias=True)\n",
       ")"
      ]
     },
     "execution_count": 15,
     "metadata": {},
     "output_type": "execute_result"
    }
   ],
   "source": [
    "model"
   ]
  },
  {
   "cell_type": "markdown",
   "id": "28f676f3",
   "metadata": {
    "papermill": {
     "duration": 0.010807,
     "end_time": "2024-12-27T11:08:22.651433",
     "exception": false,
     "start_time": "2024-12-27T11:08:22.640626",
     "status": "completed"
    },
    "tags": []
   },
   "source": [
    "Plot the model parameters for the kernels before training the kernels. The kernels are initialized randomly.\n"
   ]
  },
  {
   "cell_type": "code",
   "execution_count": 16,
   "id": "3cc83ca7",
   "metadata": {
    "execution": {
     "iopub.execute_input": "2024-12-27T11:08:22.675654Z",
     "iopub.status.busy": "2024-12-27T11:08:22.675255Z",
     "iopub.status.idle": "2024-12-27T11:08:22.903428Z",
     "shell.execute_reply": "2024-12-27T11:08:22.902267Z"
    },
    "papermill": {
     "duration": 0.242225,
     "end_time": "2024-12-27T11:08:22.905278",
     "exception": false,
     "start_time": "2024-12-27T11:08:22.663053",
     "status": "completed"
    },
    "tags": []
   },
   "outputs": [
    {
     "data": {
      "image/png": "[encoded data removed]",
      "text/plain": [
       "<Figure size 640x480 with 2 Axes>"
      ]
     },
     "metadata": {},
     "output_type": "display_data"
    }
   ],
   "source": [
    "\n",
    "plot_channels(model.state_dict()['cnn1.weight'])\n"
   ]
  },
  {
   "cell_type": "markdown",
   "id": "16fe5f6f",
   "metadata": {
    "papermill": {
     "duration": 0.010752,
     "end_time": "2024-12-27T11:08:22.927478",
     "exception": false,
     "start_time": "2024-12-27T11:08:22.916726",
     "status": "completed"
    },
    "tags": []
   },
   "source": [
    "Loss function \n"
   ]
  },
  {
   "cell_type": "code",
   "execution_count": 17,
   "id": "4ced0159",
   "metadata": {
    "execution": {
     "iopub.execute_input": "2024-12-27T11:08:22.952146Z",
     "iopub.status.busy": "2024-12-27T11:08:22.951779Z",
     "iopub.status.idle": "2024-12-27T11:08:23.192580Z",
     "shell.execute_reply": "2024-12-27T11:08:23.191402Z"
    },
    "papermill": {
     "duration": 0.256172,
     "end_time": "2024-12-27T11:08:23.195128",
     "exception": false,
     "start_time": "2024-12-27T11:08:22.938956",
     "status": "completed"
    },
    "tags": []
   },
   "outputs": [
    {
     "data": {
      "image/png": "[encoded data removed]",
      "text/plain": [
       "<Figure size 640x480 with 2 Axes>"
      ]
     },
     "metadata": {},
     "output_type": "display_data"
    }
   ],
   "source": [
    "plot_channels(model.state_dict()['cnn2.weight'])"
   ]
  },
  {
   "cell_type": "markdown",
   "id": "e11aa7b1",
   "metadata": {
    "papermill": {
     "duration": 0.01115,
     "end_time": "2024-12-27T11:08:23.220882",
     "exception": false,
     "start_time": "2024-12-27T11:08:23.209732",
     "status": "completed"
    },
    "tags": []
   },
   "source": [
    "Define the loss function \n"
   ]
  },
  {
   "cell_type": "code",
   "execution_count": 18,
   "id": "e0930937",
   "metadata": {
    "execution": {
     "iopub.execute_input": "2024-12-27T11:08:23.245121Z",
     "iopub.status.busy": "2024-12-27T11:08:23.244760Z",
     "iopub.status.idle": "2024-12-27T11:08:23.249425Z",
     "shell.execute_reply": "2024-12-27T11:08:23.248247Z"
    },
    "papermill": {
     "duration": 0.019032,
     "end_time": "2024-12-27T11:08:23.251487",
     "exception": false,
     "start_time": "2024-12-27T11:08:23.232455",
     "status": "completed"
    },
    "tags": []
   },
   "outputs": [],
   "source": [
    "criterion=nn.CrossEntropyLoss()"
   ]
  },
  {
   "cell_type": "markdown",
   "id": "a472b52b",
   "metadata": {
    "papermill": {
     "duration": 0.011071,
     "end_time": "2024-12-27T11:08:23.274163",
     "exception": false,
     "start_time": "2024-12-27T11:08:23.263092",
     "status": "completed"
    },
    "tags": []
   },
   "source": [
    " optimizer class \n"
   ]
  },
  {
   "cell_type": "code",
   "execution_count": 19,
   "id": "c5c8d6d0",
   "metadata": {
    "execution": {
     "iopub.execute_input": "2024-12-27T11:08:23.298635Z",
     "iopub.status.busy": "2024-12-27T11:08:23.298182Z",
     "iopub.status.idle": "2024-12-27T11:08:23.303254Z",
     "shell.execute_reply": "2024-12-27T11:08:23.302030Z"
    },
    "papermill": {
     "duration": 0.019304,
     "end_time": "2024-12-27T11:08:23.305175",
     "exception": false,
     "start_time": "2024-12-27T11:08:23.285871",
     "status": "completed"
    },
    "tags": []
   },
   "outputs": [],
   "source": [
    "learning_rate=0.001\n",
    "\n",
    "optimizer = torch.optim.Adam(model.parameters(), lr=learning_rate)"
   ]
  },
  {
   "cell_type": "markdown",
   "id": "bafcaa51",
   "metadata": {
    "papermill": {
     "duration": 0.011129,
     "end_time": "2024-12-27T11:08:23.327994",
     "exception": false,
     "start_time": "2024-12-27T11:08:23.316865",
     "status": "completed"
    },
    "tags": []
   },
   "source": [
    "Define the optimizer class \n"
   ]
  },
  {
   "cell_type": "code",
   "execution_count": 20,
   "id": "9f77dcc2",
   "metadata": {
    "execution": {
     "iopub.execute_input": "2024-12-27T11:08:23.352392Z",
     "iopub.status.busy": "2024-12-27T11:08:23.352021Z",
     "iopub.status.idle": "2024-12-27T11:08:23.357152Z",
     "shell.execute_reply": "2024-12-27T11:08:23.356125Z"
    },
    "papermill": {
     "duration": 0.01968,
     "end_time": "2024-12-27T11:08:23.359090",
     "exception": false,
     "start_time": "2024-12-27T11:08:23.339410",
     "status": "completed"
    },
    "tags": []
   },
   "outputs": [],
   "source": [
    "\n",
    "train_loader=torch.utils.data.DataLoader(dataset=train_dataset,batch_size=10)\n",
    "validation_loader=torch.utils.data.DataLoader(dataset=validation_dataset,batch_size=20)"
   ]
  },
  {
   "cell_type": "markdown",
   "id": "5b2d8084",
   "metadata": {
    "papermill": {
     "duration": 0.010966,
     "end_time": "2024-12-27T11:08:23.382628",
     "exception": false,
     "start_time": "2024-12-27T11:08:23.371662",
     "status": "completed"
    },
    "tags": []
   },
   "source": [
    "Train the model and determine validation accuracy technically test accuracy **(This may take a long time)**\n"
   ]
  },
  {
   "cell_type": "code",
   "execution_count": 21,
   "id": "4f197327",
   "metadata": {
    "execution": {
     "iopub.execute_input": "2024-12-27T11:08:23.406591Z",
     "iopub.status.busy": "2024-12-27T11:08:23.406191Z",
     "iopub.status.idle": "2024-12-27T11:08:47.912519Z",
     "shell.execute_reply": "2024-12-27T11:08:47.911535Z"
    },
    "papermill": {
     "duration": 24.520531,
     "end_time": "2024-12-27T11:08:47.914426",
     "exception": false,
     "start_time": "2024-12-27T11:08:23.393895",
     "status": "completed"
    },
    "tags": []
   },
   "outputs": [],
   "source": [
    "n_epochs=10\n",
    "cost_list=[]\n",
    "accuracy_list=[]\n",
    "N_test=len(validation_dataset)\n",
    "cost=0\n",
    "#n_epochs\n",
    "for epoch in range(n_epochs):\n",
    "    cost=0    \n",
    "    for x, y in train_loader:\n",
    "      \n",
    "\n",
    "        #clear gradient \n",
    "        optimizer.zero_grad()\n",
    "        #make a prediction \n",
    "        z=model(x)\n",
    "        # calculate loss \n",
    "        loss=criterion(z,y)\n",
    "        # calculate gradients of parameters \n",
    "        loss.backward()\n",
    "        # update parameters \n",
    "        optimizer.step()\n",
    "        cost+=loss.item()\n",
    "    cost_list.append(cost)\n",
    "        \n",
    "        \n",
    "    correct=0\n",
    "    #perform a prediction on the validation  data  \n",
    "    for x_test, y_test in validation_loader:\n",
    "\n",
    "        z=model(x_test)\n",
    "        _,yhat=torch.max(z.data,1)\n",
    "\n",
    "        correct+=(yhat==y_test).sum().item()\n",
    "        \n",
    "\n",
    "    accuracy=correct/N_test\n",
    "\n",
    "    accuracy_list.append(accuracy)\n",
    "    \n",
    "\n"
   ]
  },
  {
   "cell_type": "markdown",
   "id": "b8e3a197",
   "metadata": {
    "papermill": {
     "duration": 0.01112,
     "end_time": "2024-12-27T11:08:47.937525",
     "exception": false,
     "start_time": "2024-12-27T11:08:47.926405",
     "status": "completed"
    },
    "tags": []
   },
   "source": [
    "#### <a id=\"ref4\"></a>\n",
    "<a name=\"ref4\"><h2 align=center>Analyse Results</h2></a>\n"
   ]
  },
  {
   "cell_type": "markdown",
   "id": "7789214d",
   "metadata": {
    "papermill": {
     "duration": 0.011113,
     "end_time": "2024-12-27T11:08:47.959974",
     "exception": false,
     "start_time": "2024-12-27T11:08:47.948861",
     "status": "completed"
    },
    "tags": []
   },
   "source": [
    "Plot the loss and accuracy on the validation data:\n"
   ]
  },
  {
   "cell_type": "code",
   "execution_count": 22,
   "id": "8ea45493",
   "metadata": {
    "execution": {
     "iopub.execute_input": "2024-12-27T11:08:47.984408Z",
     "iopub.status.busy": "2024-12-27T11:08:47.983951Z",
     "iopub.status.idle": "2024-12-27T11:08:48.392653Z",
     "shell.execute_reply": "2024-12-27T11:08:48.391351Z"
    },
    "papermill": {
     "duration": 0.423079,
     "end_time": "2024-12-27T11:08:48.394618",
     "exception": false,
     "start_time": "2024-12-27T11:08:47.971539",
     "status": "completed"
    },
    "tags": []
   },
   "outputs": [
    {
     "data": {
      "image/png": "[encoded data removed]",
      "text/plain": [
       "<Figure size 640x480 with 2 Axes>"
      ]
     },
     "metadata": {},
     "output_type": "display_data"
    }
   ],
   "source": [
    "fig, ax1 = plt.subplots()\n",
    "color = 'tab:red'\n",
    "ax1.plot(cost_list,color=color)\n",
    "ax1.set_xlabel('epoch',color=color)\n",
    "ax1.set_ylabel('total loss',color=color)\n",
    "ax1.tick_params(axis='y', color=color)\n",
    "    \n",
    "ax2 = ax1.twinx()  \n",
    "color = 'tab:blue'\n",
    "ax2.set_ylabel('accuracy', color=color)  \n",
    "ax2.plot( accuracy_list, color=color)\n",
    "ax2.tick_params(axis='y', labelcolor=color)\n",
    "fig.tight_layout()"
   ]
  },
  {
   "cell_type": "markdown",
   "id": "c452ebae",
   "metadata": {
    "papermill": {
     "duration": 0.012319,
     "end_time": "2024-12-27T11:08:48.420276",
     "exception": false,
     "start_time": "2024-12-27T11:08:48.407957",
     "status": "completed"
    },
    "tags": []
   },
   "source": [
    "View the results of the parameters for the Convolutional layers \n"
   ]
  },
  {
   "cell_type": "code",
   "execution_count": 23,
   "id": "832491dc",
   "metadata": {
    "execution": {
     "iopub.execute_input": "2024-12-27T11:08:48.446873Z",
     "iopub.status.busy": "2024-12-27T11:08:48.446411Z",
     "iopub.status.idle": "2024-12-27T11:08:48.466262Z",
     "shell.execute_reply": "2024-12-27T11:08:48.465187Z"
    },
    "papermill": {
     "duration": 0.035337,
     "end_time": "2024-12-27T11:08:48.468209",
     "exception": false,
     "start_time": "2024-12-27T11:08:48.432872",
     "status": "completed"
    },
    "tags": []
   },
   "outputs": [
    {
     "data": {
      "text/plain": [
       "tensor([[[[ 0.3122,  0.4365],\n",
       "          [-0.2236, -0.3207]]],\n",
       "\n",
       "\n",
       "        [[[-0.4083, -0.2466],\n",
       "          [ 0.9527,  0.8952]]]])"
      ]
     },
     "execution_count": 23,
     "metadata": {},
     "output_type": "execute_result"
    }
   ],
   "source": [
    "model.state_dict()['cnn1.weight']"
   ]
  },
  {
   "cell_type": "code",
   "execution_count": 24,
   "id": "bb0e39fa",
   "metadata": {
    "execution": {
     "iopub.execute_input": "2024-12-27T11:08:48.495124Z",
     "iopub.status.busy": "2024-12-27T11:08:48.494742Z",
     "iopub.status.idle": "2024-12-27T11:08:48.684719Z",
     "shell.execute_reply": "2024-12-27T11:08:48.683507Z"
    },
    "papermill": {
     "duration": 0.206097,
     "end_time": "2024-12-27T11:08:48.687061",
     "exception": false,
     "start_time": "2024-12-27T11:08:48.480964",
     "status": "completed"
    },
    "tags": []
   },
   "outputs": [
    {
     "data": {
      "image/png": "[encoded data removed]",
      "text/plain": [
       "<Figure size 640x480 with 2 Axes>"
      ]
     },
     "metadata": {},
     "output_type": "display_data"
    }
   ],
   "source": [
    "plot_channels(model.state_dict()['cnn1.weight'])"
   ]
  },
  {
   "cell_type": "code",
   "execution_count": 25,
   "id": "95185956",
   "metadata": {
    "execution": {
     "iopub.execute_input": "2024-12-27T11:08:48.715688Z",
     "iopub.status.busy": "2024-12-27T11:08:48.715279Z",
     "iopub.status.idle": "2024-12-27T11:08:48.722965Z",
     "shell.execute_reply": "2024-12-27T11:08:48.721828Z"
    },
    "papermill": {
     "duration": 0.023954,
     "end_time": "2024-12-27T11:08:48.724908",
     "exception": false,
     "start_time": "2024-12-27T11:08:48.700954",
     "status": "completed"
    },
    "tags": []
   },
   "outputs": [
    {
     "data": {
      "text/plain": [
       "tensor([[[[ 0.3122,  0.4365],\n",
       "          [-0.2236, -0.3207]]],\n",
       "\n",
       "\n",
       "        [[[-0.4083, -0.2466],\n",
       "          [ 0.9527,  0.8952]]]])"
      ]
     },
     "execution_count": 25,
     "metadata": {},
     "output_type": "execute_result"
    }
   ],
   "source": [
    "model.state_dict()['cnn1.weight']"
   ]
  },
  {
   "cell_type": "code",
   "execution_count": 26,
   "id": "653ddf0f",
   "metadata": {
    "execution": {
     "iopub.execute_input": "2024-12-27T11:08:48.751879Z",
     "iopub.status.busy": "2024-12-27T11:08:48.751518Z",
     "iopub.status.idle": "2024-12-27T11:08:48.996062Z",
     "shell.execute_reply": "2024-12-27T11:08:48.994967Z"
    },
    "papermill": {
     "duration": 0.26031,
     "end_time": "2024-12-27T11:08:48.997997",
     "exception": false,
     "start_time": "2024-12-27T11:08:48.737687",
     "status": "completed"
    },
    "tags": []
   },
   "outputs": [
    {
     "data": {
      "image/png": "[encoded data removed]",
      "text/plain": [
       "<Figure size 640x480 with 2 Axes>"
      ]
     },
     "metadata": {},
     "output_type": "display_data"
    }
   ],
   "source": [
    "plot_channels(model.state_dict()['cnn2.weight'])"
   ]
  },
  {
   "cell_type": "markdown",
   "id": "bb1fb420",
   "metadata": {
    "papermill": {
     "duration": 0.012565,
     "end_time": "2024-12-27T11:08:49.023664",
     "exception": false,
     "start_time": "2024-12-27T11:08:49.011099",
     "status": "completed"
    },
    "tags": []
   },
   "source": [
    "Consider the following sample \n"
   ]
  },
  {
   "cell_type": "code",
   "execution_count": 27,
   "id": "f91171e1",
   "metadata": {
    "execution": {
     "iopub.execute_input": "2024-12-27T11:08:49.051065Z",
     "iopub.status.busy": "2024-12-27T11:08:49.050669Z",
     "iopub.status.idle": "2024-12-27T11:08:49.234216Z",
     "shell.execute_reply": "2024-12-27T11:08:49.233060Z"
    },
    "papermill": {
     "duration": 0.199601,
     "end_time": "2024-12-27T11:08:49.236245",
     "exception": false,
     "start_time": "2024-12-27T11:08:49.036644",
     "status": "completed"
    },
    "tags": []
   },
   "outputs": [
    {
     "data": {
      "image/png": "[encoded data removed]",
      "text/plain": [
       "<Figure size 640x480 with 1 Axes>"
      ]
     },
     "metadata": {},
     "output_type": "display_data"
    }
   ],
   "source": [
    "show_data(train_dataset,N_images//2+2)"
   ]
  },
  {
   "cell_type": "markdown",
   "id": "7c6ea976",
   "metadata": {
    "papermill": {
     "duration": 0.012894,
     "end_time": "2024-12-27T11:08:49.262607",
     "exception": false,
     "start_time": "2024-12-27T11:08:49.249713",
     "status": "completed"
    },
    "tags": []
   },
   "source": [
    "Determine the activations \n"
   ]
  },
  {
   "cell_type": "code",
   "execution_count": 28,
   "id": "3789917b",
   "metadata": {
    "execution": {
     "iopub.execute_input": "2024-12-27T11:08:49.290394Z",
     "iopub.status.busy": "2024-12-27T11:08:49.289974Z",
     "iopub.status.idle": "2024-12-27T11:08:49.301052Z",
     "shell.execute_reply": "2024-12-27T11:08:49.299813Z"
    },
    "papermill": {
     "duration": 0.02765,
     "end_time": "2024-12-27T11:08:49.303388",
     "exception": false,
     "start_time": "2024-12-27T11:08:49.275738",
     "status": "completed"
    },
    "tags": []
   },
   "outputs": [],
   "source": [
    "out=model.activations(train_dataset[N_images//2+2][0].view(1,1,11,11))\n",
    "out=model.activations(train_dataset[0][0].view(1,1,11,11))"
   ]
  },
  {
   "cell_type": "markdown",
   "id": "4ec8b685",
   "metadata": {
    "papermill": {
     "duration": 0.01309,
     "end_time": "2024-12-27T11:08:49.330121",
     "exception": false,
     "start_time": "2024-12-27T11:08:49.317031",
     "status": "completed"
    },
    "tags": []
   },
   "source": [
    "Plot them out\n"
   ]
  },
  {
   "cell_type": "code",
   "execution_count": 29,
   "id": "124af786",
   "metadata": {
    "execution": {
     "iopub.execute_input": "2024-12-27T11:08:49.357623Z",
     "iopub.status.busy": "2024-12-27T11:08:49.357217Z",
     "iopub.status.idle": "2024-12-27T11:08:49.478499Z",
     "shell.execute_reply": "2024-12-27T11:08:49.477012Z"
    },
    "papermill": {
     "duration": 0.137534,
     "end_time": "2024-12-27T11:08:49.480792",
     "exception": false,
     "start_time": "2024-12-27T11:08:49.343258",
     "status": "completed"
    },
    "tags": []
   },
   "outputs": [
    {
     "name": "stdout",
     "output_type": "stream",
     "text": [
      "2\n"
     ]
    },
    {
     "data": {
      "image/png": "[encoded data removed]",
      "text/plain": [
       "<Figure size 640x480 with 2 Axes>"
      ]
     },
     "metadata": {},
     "output_type": "display_data"
    }
   ],
   "source": [
    "plot_activations(out[0],number_rows=1,name=\" feature map\")\n",
    "plt.show()\n"
   ]
  },
  {
   "cell_type": "code",
   "execution_count": 30,
   "id": "846a3dc7",
   "metadata": {
    "execution": {
     "iopub.execute_input": "2024-12-27T11:08:49.534659Z",
     "iopub.status.busy": "2024-12-27T11:08:49.534118Z",
     "iopub.status.idle": "2024-12-27T11:08:49.757035Z",
     "shell.execute_reply": "2024-12-27T11:08:49.755866Z"
    },
    "papermill": {
     "duration": 0.252405,
     "end_time": "2024-12-27T11:08:49.759007",
     "exception": false,
     "start_time": "2024-12-27T11:08:49.506602",
     "status": "completed"
    },
    "tags": []
   },
   "outputs": [
    {
     "name": "stdout",
     "output_type": "stream",
     "text": [
      "1\n"
     ]
    },
    {
     "data": {
      "image/png": "[encoded data removed]",
      "text/plain": [
       "<Figure size 640x480 with 1 Axes>"
      ]
     },
     "metadata": {},
     "output_type": "display_data"
    }
   ],
   "source": [
    "plot_activations(out[2],number_rows=1,name=\"2nd feature map\")\n",
    "plt.show()"
   ]
  },
  {
   "cell_type": "code",
   "execution_count": 31,
   "id": "e3feb04b",
   "metadata": {
    "execution": {
     "iopub.execute_input": "2024-12-27T11:08:49.789098Z",
     "iopub.status.busy": "2024-12-27T11:08:49.788676Z",
     "iopub.status.idle": "2024-12-27T11:08:49.962015Z",
     "shell.execute_reply": "2024-12-27T11:08:49.960908Z"
    },
    "papermill": {
     "duration": 0.19039,
     "end_time": "2024-12-27T11:08:49.963921",
     "exception": false,
     "start_time": "2024-12-27T11:08:49.773531",
     "status": "completed"
    },
    "tags": []
   },
   "outputs": [
    {
     "name": "stdout",
     "output_type": "stream",
     "text": [
      "1\n"
     ]
    },
    {
     "data": {
      "image/png": "[encoded data removed]",
      "text/plain": [
       "<Figure size 640x480 with 1 Axes>"
      ]
     },
     "metadata": {},
     "output_type": "display_data"
    }
   ],
   "source": [
    "plot_activations(out[3],number_rows=1,name=\"first feature map\")\n",
    "plt.show()"
   ]
  },
  {
   "cell_type": "markdown",
   "id": "ed47f4ae",
   "metadata": {
    "papermill": {
     "duration": 0.013883,
     "end_time": "2024-12-27T11:08:49.992157",
     "exception": false,
     "start_time": "2024-12-27T11:08:49.978274",
     "status": "completed"
    },
    "tags": []
   },
   "source": [
    "we save the output of the activation after flattening  \n"
   ]
  },
  {
   "cell_type": "code",
   "execution_count": 32,
   "id": "4b18716b",
   "metadata": {
    "execution": {
     "iopub.execute_input": "2024-12-27T11:08:50.022540Z",
     "iopub.status.busy": "2024-12-27T11:08:50.022104Z",
     "iopub.status.idle": "2024-12-27T11:08:50.026994Z",
     "shell.execute_reply": "2024-12-27T11:08:50.025885Z"
    },
    "papermill": {
     "duration": 0.022158,
     "end_time": "2024-12-27T11:08:50.028937",
     "exception": false,
     "start_time": "2024-12-27T11:08:50.006779",
     "status": "completed"
    },
    "tags": []
   },
   "outputs": [],
   "source": [
    "out1=out[4][0].detach().numpy()"
   ]
  },
  {
   "cell_type": "markdown",
   "id": "1669a1d9",
   "metadata": {
    "papermill": {
     "duration": 0.01495,
     "end_time": "2024-12-27T11:08:50.060071",
     "exception": false,
     "start_time": "2024-12-27T11:08:50.045121",
     "status": "completed"
    },
    "tags": []
   },
   "source": [
    "we can do the same for a sample  where y=0 \n"
   ]
  },
  {
   "cell_type": "code",
   "execution_count": 33,
   "id": "f4f3aa0a",
   "metadata": {
    "execution": {
     "iopub.execute_input": "2024-12-27T11:08:50.093475Z",
     "iopub.status.busy": "2024-12-27T11:08:50.093065Z",
     "iopub.status.idle": "2024-12-27T11:08:50.100980Z",
     "shell.execute_reply": "2024-12-27T11:08:50.100020Z"
    },
    "papermill": {
     "duration": 0.026397,
     "end_time": "2024-12-27T11:08:50.102767",
     "exception": false,
     "start_time": "2024-12-27T11:08:50.076370",
     "status": "completed"
    },
    "tags": []
   },
   "outputs": [
    {
     "data": {
      "text/plain": [
       "array([0.72768724, 1.700762  , 2.2459009 , 2.2459009 , 2.2459009 ,\n",
       "       1.8766676 , 0.90359277, 0.599091  , 1.2612065 , 1.6926538 ,\n",
       "       1.8483012 , 1.8483012 , 1.5929546 , 0.84983945, 0.599091  ,\n",
       "       1.2612065 , 1.6926538 , 1.8483012 , 1.8483012 , 1.5929546 ,\n",
       "       0.91762847, 0.599091  , 1.2612065 , 1.715647  , 1.9808773 ,\n",
       "       1.9808773 , 1.8093005 , 1.0799133 , 0.599091  , 1.2612065 ,\n",
       "       1.715647  , 1.9808773 , 1.9808773 , 1.8093005 , 1.0799133 ,\n",
       "       0.599091  , 1.2612065 , 1.715647  , 1.9808773 , 1.9808773 ,\n",
       "       1.8093005 , 1.0799133 , 0.6476842 , 1.4993308 , 2.1193123 ,\n",
       "       2.2173052 , 2.2173052 , 2.0124454 , 1.0121242 ], dtype=float32)"
      ]
     },
     "execution_count": 33,
     "metadata": {},
     "output_type": "execute_result"
    }
   ],
   "source": [
    "out0=model.activations(train_dataset[100][0].view(1,1,11,11))[4][0].detach().numpy()\n",
    "out0"
   ]
  },
  {
   "cell_type": "code",
   "execution_count": 34,
   "id": "1867130d",
   "metadata": {
    "execution": {
     "iopub.execute_input": "2024-12-27T11:08:50.133163Z",
     "iopub.status.busy": "2024-12-27T11:08:50.132788Z",
     "iopub.status.idle": "2024-12-27T11:08:50.530717Z",
     "shell.execute_reply": "2024-12-27T11:08:50.529424Z"
    },
    "papermill": {
     "duration": 0.415328,
     "end_time": "2024-12-27T11:08:50.532689",
     "exception": false,
     "start_time": "2024-12-27T11:08:50.117361",
     "status": "completed"
    },
    "tags": []
   },
   "outputs": [
    {
     "data": {
      "text/plain": [
       "Text(0, 0.5, 'Activation')"
      ]
     },
     "execution_count": 34,
     "metadata": {},
     "output_type": "execute_result"
    },
    {
     "data": {
      "image/png": "[encoded data removed]",
      "text/plain": [
       "<Figure size 640x480 with 2 Axes>"
      ]
     },
     "metadata": {},
     "output_type": "display_data"
    }
   ],
   "source": [
    "plt.subplot(2, 1, 1)\n",
    "plt.plot( out1, 'b')\n",
    "plt.title('Flatted Activation Values  ')\n",
    "plt.ylabel('Activation')\n",
    "plt.xlabel('index')\n",
    "plt.subplot(2, 1, 2)\n",
    "plt.plot(out0, 'r')\n",
    "plt.xlabel('index')\n",
    "plt.ylabel('Activation')"
   ]
  },
  {
   "cell_type": "markdown",
   "id": "e10bcda5",
   "metadata": {
    "papermill": {
     "duration": 0.017544,
     "end_time": "2024-12-27T11:08:50.566608",
     "exception": false,
     "start_time": "2024-12-27T11:08:50.549064",
     "status": "completed"
    },
    "tags": []
   },
   "source": [
    "\n",
    "\n",
    "<a href=\"https://dataplatform.cloud.ibm.com/registration/stepone?utm_source=skills_network&utm_content=in_lab_content_link&utm_id=Lab-IBMDeveloperSkillsNetwork-DL0110EN-SkillsNetwork&context=cpdaas&apps=data_science_experience%2Cwatson_machine_learning\"><img src=\"https://cf-courses-data.s3.us.cloud-object-storage.appdomain.cloud/IBMDeveloperSkillsNetwork-DL0110EN-SkillsNetwork/Template/module%201/images/Watson_Studio.png\"></a>\n",
    "\n"
   ]
  },
  {
   "cell_type": "markdown",
   "id": "074d476c",
   "metadata": {
    "papermill": {
     "duration": 0.022775,
     "end_time": "2024-12-27T11:08:50.606334",
     "exception": false,
     "start_time": "2024-12-27T11:08:50.583559",
     "status": "completed"
    },
    "tags": []
   },
   "source": [
    "### About the Authors:  \n",
    "[Joseph Santarcangelo]( https://www.linkedin.com/in/joseph-s-50398b136/) has a PhD in Electrical Engineering. His research focused on using machine learning, signal processing, and computer vision to determine how videos impact human cognition. \n",
    "\n",
    "Other contributors: [Michelle Carey](  https://www.linkedin.com/in/michelleccarey/) \n"
   ]
  },
  {
   "cell_type": "markdown",
   "id": "8766d416",
   "metadata": {
    "papermill": {
     "duration": 0.024422,
     "end_time": "2024-12-27T11:08:50.649816",
     "exception": false,
     "start_time": "2024-12-27T11:08:50.625394",
     "status": "completed"
    },
    "tags": []
   },
   "source": [
    "<!--\n",
    "## Change Log\n",
    "\n",
    "|  Date (YYYY-MM-DD) |  Version | Changed By  |  Change Description |\n",
    "|---|---|---|---|\n",
    "| 2020-09-23  | 2.0  | Srishti  |  Migrated Lab to Markdown and added to course repo in GitLab |\n",
    "\n",
    "\n",
    "\n",
    "<hr>\n",
    "-->\n",
    "\n",
    "## <h3 align=\"center\"> &#169; IBM Corporation. All rights reserved. <h3/>\n"
   ]
  }
 ],
 "metadata": {
  "kaggle": {
   "accelerator": "none",
   "dataSources": [],
   "isGpuEnabled": false,
   "isInternetEnabled": true,
   "language": "python",
   "sourceType": "notebook"
  },
  "kernelspec": {
   "display_name": "Python 3",
   "language": "python",
   "name": "python3"
  },
  "language_info": {
   "codemirror_mode": {
    "name": "ipython",
    "version": 3
   },
   "file_extension": ".py",
   "mimetype": "text/x-python",
   "name": "python",
   "nbconvert_exporter": "python",
   "pygments_lexer": "ipython3",
   "version": "3.10.12"
  },
  "papermill": {
   "default_parameters": {},
   "duration": 40.331323,
   "end_time": "2024-12-27T11:08:52.394033",
   "environment_variables": {},
   "exception": null,
   "input_path": "__notebook__.ipynb",
   "output_path": "__notebook__.ipynb",
   "parameters": {},
   "start_time": "2024-12-27T11:08:12.062710",
   "version": "2.6.0"
  },
  "prev_pub_hash": "a52c626bae0836e780d9fc3789d4a7038a36aa68d3201241c323a06b7dd54d25"
 },
 "nbformat": 4,
 "nbformat_minor": 5
}
