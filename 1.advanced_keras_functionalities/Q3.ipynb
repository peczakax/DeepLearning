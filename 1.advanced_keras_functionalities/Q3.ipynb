{
 "cells": [
  {
   "cell_type": "code",
   "execution_count": 1,
   "metadata": {},
   "outputs": [
    {
     "name": "stdout",
     "output_type": "stream",
     "text": [
      "Requirement already satisfied: numpy==1.24.3 in c:\\users\\admin\\development\\ibm deep learning with pytorch, keras and tensorflow\\introduction-to-deep-learning-with-keras\\.conda\\lib\\site-packages (1.24.3)\n",
      "Note: you may need to restart the kernel to use updated packages.\n",
      "Requirement already satisfied: pandas==1.3.4 in c:\\users\\admin\\development\\ibm deep learning with pytorch, keras and tensorflow\\introduction-to-deep-learning-with-keras\\.conda\\lib\\site-packages (1.3.4)\n",
      "Requirement already satisfied: python-dateutil>=2.7.3 in c:\\users\\admin\\development\\ibm deep learning with pytorch, keras and tensorflow\\introduction-to-deep-learning-with-keras\\.conda\\lib\\site-packages (from pandas==1.3.4) (2.9.0.post0)\n",
      "Requirement already satisfied: pytz>=2017.3 in c:\\users\\admin\\development\\ibm deep learning with pytorch, keras and tensorflow\\introduction-to-deep-learning-with-keras\\.conda\\lib\\site-packages (from pandas==1.3.4) (2024.2)\n",
      "Requirement already satisfied: numpy>=1.17.3 in c:\\users\\admin\\development\\ibm deep learning with pytorch, keras and tensorflow\\introduction-to-deep-learning-with-keras\\.conda\\lib\\site-packages (from pandas==1.3.4) (1.24.3)\n",
      "Requirement already satisfied: six>=1.5 in c:\\users\\admin\\development\\ibm deep learning with pytorch, keras and tensorflow\\introduction-to-deep-learning-with-keras\\.conda\\lib\\site-packages (from python-dateutil>=2.7.3->pandas==1.3.4) (1.16.0)\n",
      "Note: you may need to restart the kernel to use updated packages.\n",
      "Requirement already satisfied: scikit-learn==0.23 in c:\\users\\admin\\development\\ibm deep learning with pytorch, keras and tensorflow\\introduction-to-deep-learning-with-keras\\.conda\\lib\\site-packages (0.23.0)\n",
      "Requirement already satisfied: numpy>=1.13.3 in c:\\users\\admin\\development\\ibm deep learning with pytorch, keras and tensorflow\\introduction-to-deep-learning-with-keras\\.conda\\lib\\site-packages (from scikit-learn==0.23) (1.24.3)\n",
      "Requirement already satisfied: scipy>=0.19.1 in c:\\users\\admin\\development\\ibm deep learning with pytorch, keras and tensorflow\\introduction-to-deep-learning-with-keras\\.conda\\lib\\site-packages (from scikit-learn==0.23) (1.10.1)\n",
      "Requirement already satisfied: joblib>=0.11 in c:\\users\\admin\\development\\ibm deep learning with pytorch, keras and tensorflow\\introduction-to-deep-learning-with-keras\\.conda\\lib\\site-packages (from scikit-learn==0.23) (1.4.2)\n",
      "Requirement already satisfied: threadpoolctl>=2.0.0 in c:\\users\\admin\\development\\ibm deep learning with pytorch, keras and tensorflow\\introduction-to-deep-learning-with-keras\\.conda\\lib\\site-packages (from scikit-learn==0.23) (3.5.0)\n",
      "Note: you may need to restart the kernel to use updated packages.\n",
      "Requirement already satisfied: tensorflow==2.13.0 in c:\\users\\admin\\development\\ibm deep learning with pytorch, keras and tensorflow\\introduction-to-deep-learning-with-keras\\.conda\\lib\\site-packages (2.13.0)\n",
      "Requirement already satisfied: tensorflow-intel==2.13.0 in c:\\users\\admin\\development\\ibm deep learning with pytorch, keras and tensorflow\\introduction-to-deep-learning-with-keras\\.conda\\lib\\site-packages (from tensorflow==2.13.0) (2.13.0)\n",
      "Requirement already satisfied: absl-py>=1.0.0 in c:\\users\\admin\\development\\ibm deep learning with pytorch, keras and tensorflow\\introduction-to-deep-learning-with-keras\\.conda\\lib\\site-packages (from tensorflow-intel==2.13.0->tensorflow==2.13.0) (2.1.0)\n",
      "Requirement already satisfied: astunparse>=1.6.0 in c:\\users\\admin\\development\\ibm deep learning with pytorch, keras and tensorflow\\introduction-to-deep-learning-with-keras\\.conda\\lib\\site-packages (from tensorflow-intel==2.13.0->tensorflow==2.13.0) (1.6.3)\n",
      "Requirement already satisfied: flatbuffers>=23.1.21 in c:\\users\\admin\\development\\ibm deep learning with pytorch, keras and tensorflow\\introduction-to-deep-learning-with-keras\\.conda\\lib\\site-packages (from tensorflow-intel==2.13.0->tensorflow==2.13.0) (24.3.25)\n",
      "Requirement already satisfied: gast<=0.4.0,>=0.2.1 in c:\\users\\admin\\development\\ibm deep learning with pytorch, keras and tensorflow\\introduction-to-deep-learning-with-keras\\.conda\\lib\\site-packages (from tensorflow-intel==2.13.0->tensorflow==2.13.0) (0.4.0)\n",
      "Requirement already satisfied: google-pasta>=0.1.1 in c:\\users\\admin\\development\\ibm deep learning with pytorch, keras and tensorflow\\introduction-to-deep-learning-with-keras\\.conda\\lib\\site-packages (from tensorflow-intel==2.13.0->tensorflow==2.13.0) (0.2.0)\n",
      "Requirement already satisfied: h5py>=2.9.0 in c:\\users\\admin\\development\\ibm deep learning with pytorch, keras and tensorflow\\introduction-to-deep-learning-with-keras\\.conda\\lib\\site-packages (from tensorflow-intel==2.13.0->tensorflow==2.13.0) (3.11.0)\n",
      "Requirement already satisfied: libclang>=13.0.0 in c:\\users\\admin\\development\\ibm deep learning with pytorch, keras and tensorflow\\introduction-to-deep-learning-with-keras\\.conda\\lib\\site-packages (from tensorflow-intel==2.13.0->tensorflow==2.13.0) (18.1.1)\n",
      "Requirement already satisfied: numpy<=1.24.3,>=1.22 in c:\\users\\admin\\development\\ibm deep learning with pytorch, keras and tensorflow\\introduction-to-deep-learning-with-keras\\.conda\\lib\\site-packages (from tensorflow-intel==2.13.0->tensorflow==2.13.0) (1.24.3)\n",
      "Requirement already satisfied: opt-einsum>=2.3.2 in c:\\users\\admin\\development\\ibm deep learning with pytorch, keras and tensorflow\\introduction-to-deep-learning-with-keras\\.conda\\lib\\site-packages (from tensorflow-intel==2.13.0->tensorflow==2.13.0) (3.4.0)\n",
      "Requirement already satisfied: packaging in c:\\users\\admin\\development\\ibm deep learning with pytorch, keras and tensorflow\\introduction-to-deep-learning-with-keras\\.conda\\lib\\site-packages (from tensorflow-intel==2.13.0->tensorflow==2.13.0) (24.1)\n",
      "Requirement already satisfied: protobuf!=4.21.0,!=4.21.1,!=4.21.2,!=4.21.3,!=4.21.4,!=4.21.5,<5.0.0dev,>=3.20.3 in c:\\users\\admin\\development\\ibm deep learning with pytorch, keras and tensorflow\\introduction-to-deep-learning-with-keras\\.conda\\lib\\site-packages (from tensorflow-intel==2.13.0->tensorflow==2.13.0) (4.25.5)\n",
      "Requirement already satisfied: setuptools in c:\\users\\admin\\development\\ibm deep learning with pytorch, keras and tensorflow\\introduction-to-deep-learning-with-keras\\.conda\\lib\\site-packages (from tensorflow-intel==2.13.0->tensorflow==2.13.0) (75.1.0)\n",
      "Requirement already satisfied: six>=1.12.0 in c:\\users\\admin\\development\\ibm deep learning with pytorch, keras and tensorflow\\introduction-to-deep-learning-with-keras\\.conda\\lib\\site-packages (from tensorflow-intel==2.13.0->tensorflow==2.13.0) (1.16.0)\n",
      "Requirement already satisfied: termcolor>=1.1.0 in c:\\users\\admin\\development\\ibm deep learning with pytorch, keras and tensorflow\\introduction-to-deep-learning-with-keras\\.conda\\lib\\site-packages (from tensorflow-intel==2.13.0->tensorflow==2.13.0) (2.4.0)\n",
      "Requirement already satisfied: typing-extensions<4.6.0,>=3.6.6 in c:\\users\\admin\\development\\ibm deep learning with pytorch, keras and tensorflow\\introduction-to-deep-learning-with-keras\\.conda\\lib\\site-packages (from tensorflow-intel==2.13.0->tensorflow==2.13.0) (4.5.0)\n",
      "Requirement already satisfied: wrapt>=1.11.0 in c:\\users\\admin\\development\\ibm deep learning with pytorch, keras and tensorflow\\introduction-to-deep-learning-with-keras\\.conda\\lib\\site-packages (from tensorflow-intel==2.13.0->tensorflow==2.13.0) (1.17.0)\n",
      "Requirement already satisfied: grpcio<2.0,>=1.24.3 in c:\\users\\admin\\development\\ibm deep learning with pytorch, keras and tensorflow\\introduction-to-deep-learning-with-keras\\.conda\\lib\\site-packages (from tensorflow-intel==2.13.0->tensorflow==2.13.0) (1.68.0)\n",
      "Requirement already satisfied: tensorboard<2.14,>=2.13 in c:\\users\\admin\\development\\ibm deep learning with pytorch, keras and tensorflow\\introduction-to-deep-learning-with-keras\\.conda\\lib\\site-packages (from tensorflow-intel==2.13.0->tensorflow==2.13.0) (2.13.0)\n",
      "Requirement already satisfied: tensorflow-estimator<2.14,>=2.13.0 in c:\\users\\admin\\development\\ibm deep learning with pytorch, keras and tensorflow\\introduction-to-deep-learning-with-keras\\.conda\\lib\\site-packages (from tensorflow-intel==2.13.0->tensorflow==2.13.0) (2.13.0)\n",
      "Requirement already satisfied: keras<2.14,>=2.13.1 in c:\\users\\admin\\development\\ibm deep learning with pytorch, keras and tensorflow\\introduction-to-deep-learning-with-keras\\.conda\\lib\\site-packages (from tensorflow-intel==2.13.0->tensorflow==2.13.0) (2.13.1)\n",
      "Requirement already satisfied: tensorflow-io-gcs-filesystem>=0.23.1 in c:\\users\\admin\\development\\ibm deep learning with pytorch, keras and tensorflow\\introduction-to-deep-learning-with-keras\\.conda\\lib\\site-packages (from tensorflow-intel==2.13.0->tensorflow==2.13.0) (0.31.0)\n",
      "Requirement already satisfied: wheel<1.0,>=0.23.0 in c:\\users\\admin\\development\\ibm deep learning with pytorch, keras and tensorflow\\introduction-to-deep-learning-with-keras\\.conda\\lib\\site-packages (from astunparse>=1.6.0->tensorflow-intel==2.13.0->tensorflow==2.13.0) (0.44.0)\n",
      "Requirement already satisfied: google-auth<3,>=1.6.3 in c:\\users\\admin\\development\\ibm deep learning with pytorch, keras and tensorflow\\introduction-to-deep-learning-with-keras\\.conda\\lib\\site-packages (from tensorboard<2.14,>=2.13->tensorflow-intel==2.13.0->tensorflow==2.13.0) (2.36.0)\n",
      "Requirement already satisfied: google-auth-oauthlib<1.1,>=0.5 in c:\\users\\admin\\development\\ibm deep learning with pytorch, keras and tensorflow\\introduction-to-deep-learning-with-keras\\.conda\\lib\\site-packages (from tensorboard<2.14,>=2.13->tensorflow-intel==2.13.0->tensorflow==2.13.0) (1.0.0)\n",
      "Requirement already satisfied: markdown>=2.6.8 in c:\\users\\admin\\development\\ibm deep learning with pytorch, keras and tensorflow\\introduction-to-deep-learning-with-keras\\.conda\\lib\\site-packages (from tensorboard<2.14,>=2.13->tensorflow-intel==2.13.0->tensorflow==2.13.0) (3.7)\n",
      "Requirement already satisfied: requests<3,>=2.21.0 in c:\\users\\admin\\development\\ibm deep learning with pytorch, keras and tensorflow\\introduction-to-deep-learning-with-keras\\.conda\\lib\\site-packages (from tensorboard<2.14,>=2.13->tensorflow-intel==2.13.0->tensorflow==2.13.0) (2.32.3)\n",
      "Requirement already satisfied: tensorboard-data-server<0.8.0,>=0.7.0 in c:\\users\\admin\\development\\ibm deep learning with pytorch, keras and tensorflow\\introduction-to-deep-learning-with-keras\\.conda\\lib\\site-packages (from tensorboard<2.14,>=2.13->tensorflow-intel==2.13.0->tensorflow==2.13.0) (0.7.2)\n",
      "Requirement already satisfied: werkzeug>=1.0.1 in c:\\users\\admin\\development\\ibm deep learning with pytorch, keras and tensorflow\\introduction-to-deep-learning-with-keras\\.conda\\lib\\site-packages (from tensorboard<2.14,>=2.13->tensorflow-intel==2.13.0->tensorflow==2.13.0) (3.0.6)\n",
      "Requirement already satisfied: cachetools<6.0,>=2.0.0 in c:\\users\\admin\\development\\ibm deep learning with pytorch, keras and tensorflow\\introduction-to-deep-learning-with-keras\\.conda\\lib\\site-packages (from google-auth<3,>=1.6.3->tensorboard<2.14,>=2.13->tensorflow-intel==2.13.0->tensorflow==2.13.0) (5.5.0)\n",
      "Requirement already satisfied: pyasn1-modules>=0.2.1 in c:\\users\\admin\\development\\ibm deep learning with pytorch, keras and tensorflow\\introduction-to-deep-learning-with-keras\\.conda\\lib\\site-packages (from google-auth<3,>=1.6.3->tensorboard<2.14,>=2.13->tensorflow-intel==2.13.0->tensorflow==2.13.0) (0.4.1)\n",
      "Requirement already satisfied: rsa<5,>=3.1.4 in c:\\users\\admin\\development\\ibm deep learning with pytorch, keras and tensorflow\\introduction-to-deep-learning-with-keras\\.conda\\lib\\site-packages (from google-auth<3,>=1.6.3->tensorboard<2.14,>=2.13->tensorflow-intel==2.13.0->tensorflow==2.13.0) (4.9)\n",
      "Requirement already satisfied: requests-oauthlib>=0.7.0 in c:\\users\\admin\\development\\ibm deep learning with pytorch, keras and tensorflow\\introduction-to-deep-learning-with-keras\\.conda\\lib\\site-packages (from google-auth-oauthlib<1.1,>=0.5->tensorboard<2.14,>=2.13->tensorflow-intel==2.13.0->tensorflow==2.13.0) (2.0.0)\n",
      "Requirement already satisfied: importlib-metadata>=4.4 in c:\\users\\admin\\development\\ibm deep learning with pytorch, keras and tensorflow\\introduction-to-deep-learning-with-keras\\.conda\\lib\\site-packages (from markdown>=2.6.8->tensorboard<2.14,>=2.13->tensorflow-intel==2.13.0->tensorflow==2.13.0) (7.0.1)\n",
      "Requirement already satisfied: charset-normalizer<4,>=2 in c:\\users\\admin\\development\\ibm deep learning with pytorch, keras and tensorflow\\introduction-to-deep-learning-with-keras\\.conda\\lib\\site-packages (from requests<3,>=2.21.0->tensorboard<2.14,>=2.13->tensorflow-intel==2.13.0->tensorflow==2.13.0) (3.4.0)\n",
      "Requirement already satisfied: idna<4,>=2.5 in c:\\users\\admin\\development\\ibm deep learning with pytorch, keras and tensorflow\\introduction-to-deep-learning-with-keras\\.conda\\lib\\site-packages (from requests<3,>=2.21.0->tensorboard<2.14,>=2.13->tensorflow-intel==2.13.0->tensorflow==2.13.0) (3.10)\n",
      "Requirement already satisfied: urllib3<3,>=1.21.1 in c:\\users\\admin\\development\\ibm deep learning with pytorch, keras and tensorflow\\introduction-to-deep-learning-with-keras\\.conda\\lib\\site-packages (from requests<3,>=2.21.0->tensorboard<2.14,>=2.13->tensorflow-intel==2.13.0->tensorflow==2.13.0) (2.2.3)\n",
      "Requirement already satisfied: certifi>=2017.4.17 in c:\\users\\admin\\development\\ibm deep learning with pytorch, keras and tensorflow\\introduction-to-deep-learning-with-keras\\.conda\\lib\\site-packages (from requests<3,>=2.21.0->tensorboard<2.14,>=2.13->tensorflow-intel==2.13.0->tensorflow==2.13.0) (2024.8.30)\n",
      "Requirement already satisfied: MarkupSafe>=2.1.1 in c:\\users\\admin\\development\\ibm deep learning with pytorch, keras and tensorflow\\introduction-to-deep-learning-with-keras\\.conda\\lib\\site-packages (from werkzeug>=1.0.1->tensorboard<2.14,>=2.13->tensorflow-intel==2.13.0->tensorflow==2.13.0) (2.1.5)\n",
      "Requirement already satisfied: zipp>=0.5 in c:\\users\\admin\\development\\ibm deep learning with pytorch, keras and tensorflow\\introduction-to-deep-learning-with-keras\\.conda\\lib\\site-packages (from importlib-metadata>=4.4->markdown>=2.6.8->tensorboard<2.14,>=2.13->tensorflow-intel==2.13.0->tensorflow==2.13.0) (3.20.2)\n",
      "Requirement already satisfied: pyasn1<0.7.0,>=0.4.6 in c:\\users\\admin\\development\\ibm deep learning with pytorch, keras and tensorflow\\introduction-to-deep-learning-with-keras\\.conda\\lib\\site-packages (from pyasn1-modules>=0.2.1->google-auth<3,>=1.6.3->tensorboard<2.14,>=2.13->tensorflow-intel==2.13.0->tensorflow==2.13.0) (0.6.1)\n",
      "Requirement already satisfied: oauthlib>=3.0.0 in c:\\users\\admin\\development\\ibm deep learning with pytorch, keras and tensorflow\\introduction-to-deep-learning-with-keras\\.conda\\lib\\site-packages (from requests-oauthlib>=0.7.0->google-auth-oauthlib<1.1,>=0.5->tensorboard<2.14,>=2.13->tensorflow-intel==2.13.0->tensorflow==2.13.0) (3.2.2)\n",
      "Note: you may need to restart the kernel to use updated packages.\n",
      "Requirement already satisfied: matplotlib==3.5.0 in c:\\users\\admin\\development\\ibm deep learning with pytorch, keras and tensorflow\\introduction-to-deep-learning-with-keras\\.conda\\lib\\site-packages (3.5.0)\n",
      "Requirement already satisfied: cycler>=0.10 in c:\\users\\admin\\development\\ibm deep learning with pytorch, keras and tensorflow\\introduction-to-deep-learning-with-keras\\.conda\\lib\\site-packages (from matplotlib==3.5.0) (0.12.1)\n",
      "Requirement already satisfied: fonttools>=4.22.0 in c:\\users\\admin\\development\\ibm deep learning with pytorch, keras and tensorflow\\introduction-to-deep-learning-with-keras\\.conda\\lib\\site-packages (from matplotlib==3.5.0) (4.55.0)\n",
      "Requirement already satisfied: kiwisolver>=1.0.1 in c:\\users\\admin\\development\\ibm deep learning with pytorch, keras and tensorflow\\introduction-to-deep-learning-with-keras\\.conda\\lib\\site-packages (from matplotlib==3.5.0) (1.4.7)\n",
      "Requirement already satisfied: numpy>=1.17 in c:\\users\\admin\\development\\ibm deep learning with pytorch, keras and tensorflow\\introduction-to-deep-learning-with-keras\\.conda\\lib\\site-packages (from matplotlib==3.5.0) (1.24.3)\n",
      "Requirement already satisfied: packaging>=20.0 in c:\\users\\admin\\development\\ibm deep learning with pytorch, keras and tensorflow\\introduction-to-deep-learning-with-keras\\.conda\\lib\\site-packages (from matplotlib==3.5.0) (24.1)\n",
      "Requirement already satisfied: pillow>=6.2.0 in c:\\users\\admin\\development\\ibm deep learning with pytorch, keras and tensorflow\\introduction-to-deep-learning-with-keras\\.conda\\lib\\site-packages (from matplotlib==3.5.0) (10.4.0)\n",
      "Requirement already satisfied: pyparsing>=2.2.1 in c:\\users\\admin\\development\\ibm deep learning with pytorch, keras and tensorflow\\introduction-to-deep-learning-with-keras\\.conda\\lib\\site-packages (from matplotlib==3.5.0) (3.1.4)\n",
      "Requirement already satisfied: python-dateutil>=2.7 in c:\\users\\admin\\development\\ibm deep learning with pytorch, keras and tensorflow\\introduction-to-deep-learning-with-keras\\.conda\\lib\\site-packages (from matplotlib==3.5.0) (2.9.0.post0)\n",
      "Requirement already satisfied: setuptools-scm>=4 in c:\\users\\admin\\development\\ibm deep learning with pytorch, keras and tensorflow\\introduction-to-deep-learning-with-keras\\.conda\\lib\\site-packages (from matplotlib==3.5.0) (8.1.0)\n",
      "Requirement already satisfied: six>=1.5 in c:\\users\\admin\\development\\ibm deep learning with pytorch, keras and tensorflow\\introduction-to-deep-learning-with-keras\\.conda\\lib\\site-packages (from python-dateutil>=2.7->matplotlib==3.5.0) (1.16.0)\n",
      "Requirement already satisfied: setuptools in c:\\users\\admin\\development\\ibm deep learning with pytorch, keras and tensorflow\\introduction-to-deep-learning-with-keras\\.conda\\lib\\site-packages (from setuptools-scm>=4->matplotlib==3.5.0) (75.1.0)\n",
      "Requirement already satisfied: typing-extensions in c:\\users\\admin\\development\\ibm deep learning with pytorch, keras and tensorflow\\introduction-to-deep-learning-with-keras\\.conda\\lib\\site-packages (from setuptools-scm>=4->matplotlib==3.5.0) (4.5.0)\n",
      "Requirement already satisfied: tomli>=1 in c:\\users\\admin\\development\\ibm deep learning with pytorch, keras and tensorflow\\introduction-to-deep-learning-with-keras\\.conda\\lib\\site-packages (from setuptools-scm>=4->matplotlib==3.5.0) (2.2.1)\n",
      "Note: you may need to restart the kernel to use updated packages.\n",
      "Note: you may need to restart the kernel to use updated packages.\n"
     ]
    },
    {
     "name": "stderr",
     "output_type": "stream",
     "text": [
      "ERROR: Could not find a version that satisfies the requirement pprint (from versions: none)\n",
      "ERROR: No matching distribution found for pprint\n"
     ]
    }
   ],
   "source": [
    "%pip install numpy==1.24.3\n",
    "%pip install pandas==1.3.4\n",
    "%pip install scikit-learn==0.23\n",
    "%pip install tensorflow==2.13.0\n",
    "%pip install matplotlib==3.5.0\n",
    "%pip install pprint"
   ]
  },
  {
   "cell_type": "markdown",
   "metadata": {},
   "source": [
    "# Import the required libraries"
   ]
  },
  {
   "cell_type": "code",
   "execution_count": 2,
   "metadata": {},
   "outputs": [],
   "source": [
    "import pandas as pd\n",
    "import numpy as np\n",
    "import keras\n",
    "import sklearn\n",
    "\n",
    "from keras.models import Sequential\n",
    "from keras.layers import Dense\n",
    "from sklearn.model_selection import train_test_split\n",
    "from sklearn.metrics import mean_squared_error\n",
    "\n",
    "from pprint import pprint"
   ]
  },
  {
   "cell_type": "markdown",
   "metadata": {},
   "source": [
    "# Download and Clean Dataset from https://cocl.us/concrete_data"
   ]
  },
  {
   "cell_type": "code",
   "execution_count": 3,
   "metadata": {},
   "outputs": [],
   "source": [
    "import requests\n",
    "r = requests.get('https://cocl.us/concrete_data')\n",
    "with open('concrete_data.csv', 'wb') as f:\n",
    "    f.write(r.content)"
   ]
  },
  {
   "cell_type": "code",
   "execution_count": 4,
   "metadata": {},
   "outputs": [
    {
     "data": {
      "text/plain": [
       "Cement                0\n",
       "Blast Furnace Slag    0\n",
       "Fly Ash               0\n",
       "Water                 0\n",
       "Superplasticizer      0\n",
       "Coarse Aggregate      0\n",
       "Fine Aggregate        0\n",
       "Age                   0\n",
       "Strength              0\n",
       "dtype: int64"
      ]
     },
     "execution_count": 4,
     "metadata": {},
     "output_type": "execute_result"
    }
   ],
   "source": [
    "concrete_data = pd.read_csv('concrete_data.csv')\n",
    "concrete_data.head()\n",
    "\n",
    "# check for missing values\n",
    "concrete_data.isnull().sum()"
   ]
  },
  {
   "cell_type": "markdown",
   "metadata": {},
   "source": [
    "# Split data into predictors and target"
   ]
  },
  {
   "cell_type": "code",
   "execution_count": 5,
   "metadata": {},
   "outputs": [],
   "source": [
    "concrete_data_columns = concrete_data.columns\n",
    "predictors = concrete_data[concrete_data_columns[concrete_data_columns != 'Strength']] # all columns except Strength\n",
    "target = concrete_data['Strength'] # Strength column"
   ]
  },
  {
   "cell_type": "markdown",
   "metadata": {},
   "source": [
    "# Normalize the data is by subtracting the mean from the individual predictors and dividing by the standard deviation."
   ]
  },
  {
   "cell_type": "code",
   "execution_count": 6,
   "metadata": {},
   "outputs": [],
   "source": [
    "predictors = (predictors - predictors.mean()) / predictors.std()\n",
    "# target_norm = (target - target.mean()) / target.std()"
   ]
  },
  {
   "cell_type": "markdown",
   "metadata": {},
   "source": [
    "# Use the Keras library to build a neural network with one hidden layer of 10 nodes, and a ReLU activation function. Use the adam optimizer and the mean squared error  as the loss function."
   ]
  },
  {
   "cell_type": "code",
   "execution_count": 7,
   "metadata": {},
   "outputs": [],
   "source": [
    "model = Sequential()\n",
    "model.add(Dense(10, activation='relu', input_shape=(predictors.shape[1],)))\n",
    "model.add(Dense(1))\n",
    "model.compile(optimizer='adam', loss='mean_squared_error')"
   ]
  },
  {
   "cell_type": "markdown",
   "metadata": {},
   "source": [
    "# Randomly split the data into a training and test sets by holding 30% of the data for testing. Use the train_test_split helper function from Scikit-learn."
   ]
  },
  {
   "cell_type": "code",
   "execution_count": 8,
   "metadata": {},
   "outputs": [],
   "source": [
    "from sklearn.model_selection import train_test_split\n",
    "X_train, X_test, y_train, y_test = train_test_split(predictors, target, test_size=0.3, random_state=1)"
   ]
  },
  {
   "cell_type": "markdown",
   "metadata": {},
   "source": [
    "# Train the model on the training data using 50 epochs."
   ]
  },
  {
   "cell_type": "code",
   "execution_count": 9,
   "metadata": {},
   "outputs": [
    {
     "name": "stdout",
     "output_type": "stream",
     "text": [
      "Epoch 1/100\n",
      "23/23 - 0s - loss: 1564.2030 - 441ms/epoch - 19ms/step\n",
      "Epoch 2/100\n",
      "23/23 - 0s - loss: 1551.5796 - 20ms/epoch - 873us/step\n",
      "Epoch 3/100\n",
      "23/23 - 0s - loss: 1539.2413 - 19ms/epoch - 805us/step\n",
      "Epoch 4/100\n",
      "23/23 - 0s - loss: 1526.8829 - 18ms/epoch - 783us/step\n",
      "Epoch 5/100\n",
      "23/23 - 0s - loss: 1514.2438 - 17ms/epoch - 739us/step\n",
      "Epoch 6/100\n",
      "23/23 - 0s - loss: 1501.0070 - 18ms/epoch - 783us/step\n",
      "Epoch 7/100\n",
      "23/23 - 0s - loss: 1486.8315 - 18ms/epoch - 783us/step\n",
      "Epoch 8/100\n",
      "23/23 - 0s - loss: 1471.4279 - 18ms/epoch - 776us/step\n",
      "Epoch 9/100\n",
      "23/23 - 0s - loss: 1454.9407 - 18ms/epoch - 790us/step\n",
      "Epoch 10/100\n",
      "23/23 - 0s - loss: 1436.7328 - 18ms/epoch - 783us/step\n",
      "Epoch 11/100\n",
      "23/23 - 0s - loss: 1416.8450 - 20ms/epoch - 870us/step\n",
      "Epoch 12/100\n",
      "23/23 - 0s - loss: 1394.9259 - 21ms/epoch - 914us/step\n",
      "Epoch 13/100\n",
      "23/23 - 0s - loss: 1371.7019 - 23ms/epoch - 1ms/step\n",
      "Epoch 14/100\n",
      "23/23 - 0s - loss: 1346.5671 - 19ms/epoch - 818us/step\n",
      "Epoch 15/100\n",
      "23/23 - 0s - loss: 1319.3879 - 27ms/epoch - 1ms/step\n",
      "Epoch 16/100\n",
      "23/23 - 0s - loss: 1291.2233 - 22ms/epoch - 957us/step\n",
      "Epoch 17/100\n",
      "23/23 - 0s - loss: 1261.8273 - 24ms/epoch - 1ms/step\n",
      "Epoch 18/100\n",
      "23/23 - 0s - loss: 1230.9916 - 23ms/epoch - 1ms/step\n",
      "Epoch 19/100\n",
      "23/23 - 0s - loss: 1199.9420 - 29ms/epoch - 1ms/step\n",
      "Epoch 20/100\n",
      "23/23 - 0s - loss: 1167.4783 - 27ms/epoch - 1ms/step\n",
      "Epoch 21/100\n",
      "23/23 - 0s - loss: 1134.2083 - 24ms/epoch - 1ms/step\n",
      "Epoch 22/100\n",
      "23/23 - 0s - loss: 1100.4952 - 28ms/epoch - 1ms/step\n",
      "Epoch 23/100\n",
      "23/23 - 0s - loss: 1066.1766 - 22ms/epoch - 957us/step\n",
      "Epoch 24/100\n",
      "23/23 - 0s - loss: 1031.5985 - 24ms/epoch - 1ms/step\n",
      "Epoch 25/100\n",
      "23/23 - 0s - loss: 996.6456 - 19ms/epoch - 827us/step\n",
      "Epoch 26/100\n",
      "23/23 - 0s - loss: 961.6904 - 17ms/epoch - 757us/step\n",
      "Epoch 27/100\n",
      "23/23 - 0s - loss: 926.6894 - 17ms/epoch - 739us/step\n",
      "Epoch 28/100\n",
      "23/23 - 0s - loss: 891.3110 - 17ms/epoch - 739us/step\n",
      "Epoch 29/100\n",
      "23/23 - 0s - loss: 857.5708 - 18ms/epoch - 783us/step\n",
      "Epoch 30/100\n",
      "23/23 - 0s - loss: 823.1180 - 18ms/epoch - 762us/step\n",
      "Epoch 31/100\n",
      "23/23 - 0s - loss: 789.5306 - 17ms/epoch - 751us/step\n",
      "Epoch 32/100\n",
      "23/23 - 0s - loss: 757.4740 - 18ms/epoch - 783us/step\n",
      "Epoch 33/100\n",
      "23/23 - 0s - loss: 726.4059 - 18ms/epoch - 782us/step\n",
      "Epoch 34/100\n",
      "23/23 - 0s - loss: 695.4978 - 18ms/epoch - 782us/step\n",
      "Epoch 35/100\n",
      "23/23 - 0s - loss: 666.5779 - 17ms/epoch - 739us/step\n",
      "Epoch 36/100\n",
      "23/23 - 0s - loss: 638.5396 - 17ms/epoch - 753us/step\n",
      "Epoch 37/100\n",
      "23/23 - 0s - loss: 611.8366 - 18ms/epoch - 776us/step\n",
      "Epoch 38/100\n",
      "23/23 - 0s - loss: 586.3586 - 21ms/epoch - 913us/step\n",
      "Epoch 39/100\n",
      "23/23 - 0s - loss: 561.9685 - 20ms/epoch - 870us/step\n",
      "Epoch 40/100\n",
      "23/23 - 0s - loss: 538.6725 - 22ms/epoch - 957us/step\n",
      "Epoch 41/100\n",
      "23/23 - 0s - loss: 517.0475 - 24ms/epoch - 1ms/step\n",
      "Epoch 42/100\n",
      "23/23 - 0s - loss: 496.0228 - 20ms/epoch - 873us/step\n",
      "Epoch 43/100\n",
      "23/23 - 0s - loss: 476.4768 - 19ms/epoch - 826us/step\n",
      "Epoch 44/100\n",
      "23/23 - 0s - loss: 458.1624 - 17ms/epoch - 739us/step\n",
      "Epoch 45/100\n",
      "23/23 - 0s - loss: 440.2887 - 17ms/epoch - 753us/step\n",
      "Epoch 46/100\n",
      "23/23 - 0s - loss: 423.5717 - 17ms/epoch - 739us/step\n",
      "Epoch 47/100\n",
      "23/23 - 0s - loss: 407.8179 - 19ms/epoch - 820us/step\n",
      "Epoch 48/100\n",
      "23/23 - 0s - loss: 392.7500 - 18ms/epoch - 783us/step\n",
      "Epoch 49/100\n",
      "23/23 - 0s - loss: 378.6761 - 17ms/epoch - 739us/step\n",
      "Epoch 50/100\n",
      "23/23 - 0s - loss: 365.1534 - 17ms/epoch - 739us/step\n",
      "Epoch 51/100\n",
      "23/23 - 0s - loss: 352.5704 - 17ms/epoch - 718us/step\n",
      "Epoch 52/100\n",
      "23/23 - 0s - loss: 340.5041 - 18ms/epoch - 783us/step\n",
      "Epoch 53/100\n",
      "23/23 - 0s - loss: 329.4674 - 19ms/epoch - 835us/step\n",
      "Epoch 54/100\n",
      "23/23 - 0s - loss: 318.6305 - 17ms/epoch - 739us/step\n",
      "Epoch 55/100\n",
      "23/23 - 0s - loss: 308.7867 - 17ms/epoch - 739us/step\n",
      "Epoch 56/100\n",
      "23/23 - 0s - loss: 299.3308 - 20ms/epoch - 848us/step\n",
      "Epoch 57/100\n",
      "23/23 - 0s - loss: 290.4393 - 21ms/epoch - 913us/step\n",
      "Epoch 58/100\n",
      "23/23 - 0s - loss: 281.8422 - 16ms/epoch - 714us/step\n",
      "Epoch 59/100\n",
      "23/23 - 0s - loss: 273.8622 - 18ms/epoch - 783us/step\n",
      "Epoch 60/100\n",
      "23/23 - 0s - loss: 266.4559 - 17ms/epoch - 739us/step\n",
      "Epoch 61/100\n",
      "23/23 - 0s - loss: 259.2754 - 19ms/epoch - 805us/step\n",
      "Epoch 62/100\n",
      "23/23 - 0s - loss: 252.5762 - 20ms/epoch - 870us/step\n",
      "Epoch 63/100\n",
      "23/23 - 0s - loss: 246.3179 - 19ms/epoch - 821us/step\n",
      "Epoch 64/100\n",
      "23/23 - 0s - loss: 240.3952 - 17ms/epoch - 739us/step\n",
      "Epoch 65/100\n",
      "23/23 - 0s - loss: 234.7854 - 19ms/epoch - 826us/step\n",
      "Epoch 66/100\n",
      "23/23 - 0s - loss: 229.5565 - 19ms/epoch - 827us/step\n",
      "Epoch 67/100\n",
      "23/23 - 0s - loss: 224.8590 - 18ms/epoch - 783us/step\n",
      "Epoch 68/100\n",
      "23/23 - 0s - loss: 220.1924 - 17ms/epoch - 739us/step\n",
      "Epoch 69/100\n",
      "23/23 - 0s - loss: 215.9052 - 19ms/epoch - 809us/step\n",
      "Epoch 70/100\n",
      "23/23 - 0s - loss: 211.9005 - 17ms/epoch - 739us/step\n",
      "Epoch 71/100\n",
      "23/23 - 0s - loss: 208.1597 - 17ms/epoch - 720us/step\n",
      "Epoch 72/100\n",
      "23/23 - 0s - loss: 204.6686 - 17ms/epoch - 739us/step\n",
      "Epoch 73/100\n",
      "23/23 - 0s - loss: 201.3317 - 17ms/epoch - 757us/step\n",
      "Epoch 74/100\n",
      "23/23 - 0s - loss: 198.2224 - 16ms/epoch - 696us/step\n",
      "Epoch 75/100\n",
      "23/23 - 0s - loss: 195.3208 - 18ms/epoch - 799us/step\n",
      "Epoch 76/100\n",
      "23/23 - 0s - loss: 192.6458 - 18ms/epoch - 783us/step\n",
      "Epoch 77/100\n",
      "23/23 - 0s - loss: 190.2300 - 18ms/epoch - 790us/step\n",
      "Epoch 78/100\n",
      "23/23 - 0s - loss: 187.6682 - 18ms/epoch - 783us/step\n",
      "Epoch 79/100\n",
      "23/23 - 0s - loss: 185.4748 - 18ms/epoch - 783us/step\n",
      "Epoch 80/100\n",
      "23/23 - 0s - loss: 183.4658 - 17ms/epoch - 739us/step\n",
      "Epoch 81/100\n",
      "23/23 - 0s - loss: 181.3424 - 18ms/epoch - 775us/step\n",
      "Epoch 82/100\n",
      "23/23 - 0s - loss: 179.5151 - 19ms/epoch - 829us/step\n",
      "Epoch 83/100\n",
      "23/23 - 0s - loss: 177.7956 - 17ms/epoch - 739us/step\n",
      "Epoch 84/100\n",
      "23/23 - 0s - loss: 176.1436 - 17ms/epoch - 739us/step\n",
      "Epoch 85/100\n",
      "23/23 - 0s - loss: 174.4716 - 17ms/epoch - 739us/step\n",
      "Epoch 86/100\n",
      "23/23 - 0s - loss: 172.9874 - 17ms/epoch - 739us/step\n",
      "Epoch 87/100\n",
      "23/23 - 0s - loss: 171.5420 - 17ms/epoch - 740us/step\n",
      "Epoch 88/100\n",
      "23/23 - 0s - loss: 170.1463 - 18ms/epoch - 783us/step\n",
      "Epoch 89/100\n",
      "23/23 - 0s - loss: 168.7729 - 17ms/epoch - 739us/step\n",
      "Epoch 90/100\n",
      "23/23 - 0s - loss: 167.5383 - 16ms/epoch - 696us/step\n",
      "Epoch 91/100\n",
      "23/23 - 0s - loss: 166.3195 - 17ms/epoch - 739us/step\n",
      "Epoch 92/100\n",
      "23/23 - 0s - loss: 165.1074 - 17ms/epoch - 739us/step\n",
      "Epoch 93/100\n",
      "23/23 - 0s - loss: 164.0377 - 17ms/epoch - 743us/step\n",
      "Epoch 94/100\n",
      "23/23 - 0s - loss: 162.9726 - 17ms/epoch - 739us/step\n",
      "Epoch 95/100\n",
      "23/23 - 0s - loss: 161.9581 - 16ms/epoch - 696us/step\n",
      "Epoch 96/100\n",
      "23/23 - 0s - loss: 160.8187 - 17ms/epoch - 742us/step\n",
      "Epoch 97/100\n",
      "23/23 - 0s - loss: 159.8943 - 17ms/epoch - 739us/step\n",
      "Epoch 98/100\n",
      "23/23 - 0s - loss: 158.8649 - 17ms/epoch - 739us/step\n",
      "Epoch 99/100\n",
      "23/23 - 0s - loss: 157.8632 - 17ms/epoch - 744us/step\n",
      "Epoch 100/100\n",
      "23/23 - 0s - loss: 156.8308 - 18ms/epoch - 766us/step\n"
     ]
    },
    {
     "data": {
      "text/plain": [
       "<keras.src.callbacks.History at 0x21af01bb460>"
      ]
     },
     "execution_count": 9,
     "metadata": {},
     "output_type": "execute_result"
    }
   ],
   "source": [
    "model.fit(X_train, y_train, epochs=100, verbose=2)"
   ]
  },
  {
   "cell_type": "markdown",
   "metadata": {},
   "source": [
    "# Evaluate the model on the test data and compute the mean squared error between the predicted concrete strength and the actual concrete strength. Use the mean_squared_error function from Scikit-learn."
   ]
  },
  {
   "cell_type": "code",
   "execution_count": 10,
   "metadata": {},
   "outputs": [
    {
     "name": "stdout",
     "output_type": "stream",
     "text": [
      "10/10 [==============================] - 0s 667us/step\n",
      "Mean squared error: 182.29767884399607\n"
     ]
    }
   ],
   "source": [
    "y_pred = model.predict(X_test)\n",
    "mse = mean_squared_error(y_test, y_pred)\n",
    "print('Mean squared error:', mse)"
   ]
  },
  {
   "cell_type": "markdown",
   "metadata": {},
   "source": [
    "# Repeat steps 1 - 3, 50 times, i.e., create a list of 50 mean squared errors."
   ]
  },
  {
   "cell_type": "code",
   "execution_count": 11,
   "metadata": {},
   "outputs": [
    {
     "name": "stdout",
     "output_type": "stream",
     "text": [
      "10/10 [==============================] - 0s 942us/step\n",
      "10/10 [==============================] - 0s 1ms/step\n",
      "10/10 [==============================] - 0s 891us/step\n",
      "10/10 [==============================] - 0s 873us/step\n",
      "10/10 [==============================] - 0s 778us/step\n",
      "10/10 [==============================] - 0s 733us/step\n",
      "10/10 [==============================] - 0s 778us/step\n",
      "10/10 [==============================] - 0s 889us/step\n",
      "10/10 [==============================] - 0s 781us/step\n",
      "10/10 [==============================] - 0s 930us/step\n",
      "10/10 [==============================] - 0s 869us/step\n",
      "10/10 [==============================] - 0s 889us/step\n",
      "10/10 [==============================] - 0s 889us/step\n",
      "10/10 [==============================] - 0s 977us/step\n",
      "10/10 [==============================] - 0s 926us/step\n",
      "10/10 [==============================] - 0s 1ms/step\n",
      "10/10 [==============================] - 0s 778us/step\n",
      "10/10 [==============================] - 0s 778us/step\n",
      "10/10 [==============================] - 0s 702us/step\n",
      "10/10 [==============================] - 0s 887us/step\n",
      "10/10 [==============================] - 0s 827us/step\n",
      "10/10 [==============================] - 0s 1ms/step\n",
      "10/10 [==============================] - 0s 1000us/step\n",
      "10/10 [==============================] - 0s 778us/step\n",
      "10/10 [==============================] - 0s 779us/step\n",
      "10/10 [==============================] - 0s 889us/step\n",
      "10/10 [==============================] - 0s 837us/step\n",
      "10/10 [==============================] - 0s 747us/step\n",
      "10/10 [==============================] - 0s 667us/step\n",
      "10/10 [==============================] - 0s 890us/step\n",
      "10/10 [==============================] - 0s 889us/step\n",
      "10/10 [==============================] - 0s 777us/step\n",
      "10/10 [==============================] - 0s 889us/step\n",
      "10/10 [==============================] - 0s 889us/step\n",
      "10/10 [==============================] - 0s 1ms/step\n",
      "10/10 [==============================] - 0s 890us/step\n",
      "10/10 [==============================] - 0s 889us/step\n",
      "10/10 [==============================] - 0s 860us/step\n",
      "10/10 [==============================] - 0s 888us/step\n",
      "10/10 [==============================] - 0s 1000us/step\n",
      "10/10 [==============================] - 0s 889us/step\n",
      "10/10 [==============================] - 0s 776us/step\n",
      "10/10 [==============================] - 0s 889us/step\n",
      "10/10 [==============================] - 0s 889us/step\n",
      "10/10 [==============================] - 0s 948us/step\n",
      "10/10 [==============================] - 0s 888us/step\n",
      "10/10 [==============================] - 0s 866us/step\n",
      "10/10 [==============================] - 0s 961us/step\n",
      "10/10 [==============================] - 0s 782us/step\n",
      "10/10 [==============================] - 0s 909us/step\n"
     ]
    }
   ],
   "source": [
    "mse_list = []\n",
    "for i in range(50):\n",
    "    X_train, X_test, y_train, y_test = train_test_split(predictors, target, test_size=0.3, random_state=i+2)\n",
    "    model.fit(X_train, y_train, epochs=100, verbose=0)\n",
    "    y_pred = model.predict(X_test)\n",
    "    mse = mean_squared_error(y_test, y_pred)\n",
    "    mse_list.append(mse)"
   ]
  },
  {
   "cell_type": "markdown",
   "metadata": {},
   "source": [
    "# Report the mean and the standard deviation of the mean squared errors."
   ]
  },
  {
   "cell_type": "code",
   "execution_count": 12,
   "metadata": {},
   "outputs": [
    {
     "name": "stdout",
     "output_type": "stream",
     "text": [
      "Mean of mean squared errors: 41.661222391874205\n",
      "Standard deviation of mean squared errors: 7.927784893114106\n",
      "[89.24658206355674,\n",
      " 53.96767195421611,\n",
      " 48.47008627939846,\n",
      " 47.537283075550604,\n",
      " 49.74034037953125,\n",
      " 41.58228091870729,\n",
      " 40.2245321334693,\n",
      " 44.052860041266214,\n",
      " 41.7441096468395,\n",
      " 38.442267159783746,\n",
      " 46.50733058389066,\n",
      " 46.69996435103899,\n",
      " 36.781633041515235,\n",
      " 38.38736463101985,\n",
      " 40.22607033870559,\n",
      " 37.4517351195425,\n",
      " 37.69792010028962,\n",
      " 39.96808381894034,\n",
      " 37.518367579982176,\n",
      " 36.56901808092768,\n",
      " 35.59628934309491,\n",
      " 39.14944838016429,\n",
      " 38.546138563755505,\n",
      " 41.79390516327437,\n",
      " 37.361610973075315,\n",
      " 34.97133029105587,\n",
      " 42.68190796230144,\n",
      " 40.85862396192605,\n",
      " 37.130928864828206,\n",
      " 35.03119380033918,\n",
      " 39.2823231583132,\n",
      " 39.91094947604678,\n",
      " 37.50076472636469,\n",
      " 45.995732568319234,\n",
      " 38.35778846488211,\n",
      " 42.48341797405455,\n",
      " 41.11697956965369,\n",
      " 34.81936428474448,\n",
      " 41.64136046119282,\n",
      " 36.241666963586404,\n",
      " 39.305823173181935,\n",
      " 43.6752649931419,\n",
      " 46.017953478322156,\n",
      " 41.4538258262628,\n",
      " 38.880055917112784,\n",
      " 39.266767904091864,\n",
      " 43.39165836045225,\n",
      " 41.8559146731366,\n",
      " 35.73664689519073,\n",
      " 40.18998212367236]\n"
     ]
    }
   ],
   "source": [
    "print('Mean of mean squared errors:', np.mean(mse_list))\n",
    "print('Standard deviation of mean squared errors:', np.std(mse_list))\n",
    "pprint(mse_list)"
   ]
  },
  {
   "cell_type": "markdown",
   "metadata": {},
   "source": [
    "# How does the mean of the mean squared errors compare to that from Step B?"
   ]
  },
  {
   "cell_type": "markdown",
   "metadata": {},
   "source": [
    "In step B the mean of the mean squared error was 41.734891844177355. In this step the mean of the mean squared error equals 41.661222391874205.\n",
    "The mean squared error is lower when compared to step A by a tiny fraction. The increased number of epochs does not significantly affect the mean of the mean squared error."
   ]
  }
 ],
 "metadata": {
  "kernelspec": {
   "display_name": "Python 3",
   "language": "python",
   "name": "python3"
  },
  "language_info": {
   "codemirror_mode": {
    "name": "ipython",
    "version": 3
   },
   "file_extension": ".py",
   "mimetype": "text/x-python",
   "name": "python",
   "nbconvert_exporter": "python",
   "pygments_lexer": "ipython3",
   "version": "3.8.20"
  }
 },
 "nbformat": 4,
 "nbformat_minor": 2
}
